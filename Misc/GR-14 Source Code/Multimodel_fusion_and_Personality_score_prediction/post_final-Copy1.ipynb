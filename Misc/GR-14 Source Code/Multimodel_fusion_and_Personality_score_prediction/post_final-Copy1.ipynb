{
 "cells": [
  {
   "cell_type": "code",
   "execution_count": 1,
   "id": "20ed7374",
   "metadata": {},
   "outputs": [],
   "source": [
    "import pickle\n",
    "import os\n",
    "import base64\n",
    "\n",
    "file_path = r'D:\\comment_data.pickle'\n",
    "with open(file_path, 'rb') as f:\n",
    "    encoded_data = f.read()\n",
    "\n",
    "# Decode the Base64-encoded data\n",
    "decoded_bytes = base64.b64decode(encoded_data)\n",
    "\n",
    "# Deserialize the object using pickle\n",
    "img_dict = pickle.loads(decoded_bytes)\n",
    "x=img_dict['x']\n",
    "y=img_dict['y']"
   ]
  },
  {
   "cell_type": "code",
   "execution_count": 2,
   "id": "3f583b39",
   "metadata": {},
   "outputs": [
    {
     "name": "stderr",
     "output_type": "stream",
     "text": [
      "D:\\anacondafolder\\envs\\testenv\\lib\\site-packages\\tensorflow\\python\\framework\\dtypes.py:516: FutureWarning: Passing (type, 1) or '1type' as a synonym of type is deprecated; in a future version of numpy, it will be understood as (type, (1,)) / '(1,)type'.\n",
      "  _np_qint8 = np.dtype([(\"qint8\", np.int8, 1)])\n",
      "D:\\anacondafolder\\envs\\testenv\\lib\\site-packages\\tensorflow\\python\\framework\\dtypes.py:517: FutureWarning: Passing (type, 1) or '1type' as a synonym of type is deprecated; in a future version of numpy, it will be understood as (type, (1,)) / '(1,)type'.\n",
      "  _np_quint8 = np.dtype([(\"quint8\", np.uint8, 1)])\n",
      "D:\\anacondafolder\\envs\\testenv\\lib\\site-packages\\tensorflow\\python\\framework\\dtypes.py:518: FutureWarning: Passing (type, 1) or '1type' as a synonym of type is deprecated; in a future version of numpy, it will be understood as (type, (1,)) / '(1,)type'.\n",
      "  _np_qint16 = np.dtype([(\"qint16\", np.int16, 1)])\n",
      "D:\\anacondafolder\\envs\\testenv\\lib\\site-packages\\tensorflow\\python\\framework\\dtypes.py:519: FutureWarning: Passing (type, 1) or '1type' as a synonym of type is deprecated; in a future version of numpy, it will be understood as (type, (1,)) / '(1,)type'.\n",
      "  _np_quint16 = np.dtype([(\"quint16\", np.uint16, 1)])\n",
      "D:\\anacondafolder\\envs\\testenv\\lib\\site-packages\\tensorflow\\python\\framework\\dtypes.py:520: FutureWarning: Passing (type, 1) or '1type' as a synonym of type is deprecated; in a future version of numpy, it will be understood as (type, (1,)) / '(1,)type'.\n",
      "  _np_qint32 = np.dtype([(\"qint32\", np.int32, 1)])\n",
      "D:\\anacondafolder\\envs\\testenv\\lib\\site-packages\\tensorflow\\python\\framework\\dtypes.py:525: FutureWarning: Passing (type, 1) or '1type' as a synonym of type is deprecated; in a future version of numpy, it will be understood as (type, (1,)) / '(1,)type'.\n",
      "  np_resource = np.dtype([(\"resource\", np.ubyte, 1)])\n",
      "D:\\anacondafolder\\envs\\testenv\\lib\\site-packages\\tensorboard\\compat\\tensorflow_stub\\dtypes.py:541: FutureWarning: Passing (type, 1) or '1type' as a synonym of type is deprecated; in a future version of numpy, it will be understood as (type, (1,)) / '(1,)type'.\n",
      "  _np_qint8 = np.dtype([(\"qint8\", np.int8, 1)])\n",
      "D:\\anacondafolder\\envs\\testenv\\lib\\site-packages\\tensorboard\\compat\\tensorflow_stub\\dtypes.py:542: FutureWarning: Passing (type, 1) or '1type' as a synonym of type is deprecated; in a future version of numpy, it will be understood as (type, (1,)) / '(1,)type'.\n",
      "  _np_quint8 = np.dtype([(\"quint8\", np.uint8, 1)])\n",
      "D:\\anacondafolder\\envs\\testenv\\lib\\site-packages\\tensorboard\\compat\\tensorflow_stub\\dtypes.py:543: FutureWarning: Passing (type, 1) or '1type' as a synonym of type is deprecated; in a future version of numpy, it will be understood as (type, (1,)) / '(1,)type'.\n",
      "  _np_qint16 = np.dtype([(\"qint16\", np.int16, 1)])\n",
      "D:\\anacondafolder\\envs\\testenv\\lib\\site-packages\\tensorboard\\compat\\tensorflow_stub\\dtypes.py:544: FutureWarning: Passing (type, 1) or '1type' as a synonym of type is deprecated; in a future version of numpy, it will be understood as (type, (1,)) / '(1,)type'.\n",
      "  _np_quint16 = np.dtype([(\"quint16\", np.uint16, 1)])\n",
      "D:\\anacondafolder\\envs\\testenv\\lib\\site-packages\\tensorboard\\compat\\tensorflow_stub\\dtypes.py:545: FutureWarning: Passing (type, 1) or '1type' as a synonym of type is deprecated; in a future version of numpy, it will be understood as (type, (1,)) / '(1,)type'.\n",
      "  _np_qint32 = np.dtype([(\"qint32\", np.int32, 1)])\n",
      "D:\\anacondafolder\\envs\\testenv\\lib\\site-packages\\tensorboard\\compat\\tensorflow_stub\\dtypes.py:550: FutureWarning: Passing (type, 1) or '1type' as a synonym of type is deprecated; in a future version of numpy, it will be understood as (type, (1,)) / '(1,)type'.\n",
      "  np_resource = np.dtype([(\"resource\", np.ubyte, 1)])\n"
     ]
    }
   ],
   "source": [
    "import numpy as np\n",
    "from tensorflow.keras.preprocessing.sequence import pad_sequences\n",
    "\n",
    "sequences = x\n",
    "padded_sequences = pad_sequences(sequences, maxlen=300, padding='post', dtype='float32')\n",
    "\n",
    "#print(\"Padded sequences:\\n\", padded_sequences)\n",
    "#padded_sequences"
   ]
  },
  {
   "cell_type": "code",
   "execution_count": 3,
   "id": "3137c1c4",
   "metadata": {},
   "outputs": [],
   "source": [
    "padded_y=np.array(y)\n",
    "#padded_y.shape"
   ]
  },
  {
   "cell_type": "code",
   "execution_count": 4,
   "id": "b25d2008",
   "metadata": {},
   "outputs": [
    {
     "name": "stdout",
     "output_type": "stream",
     "text": [
      "Predictions:\n",
      " [[0.18299924 0.206663   0.21632946 0.17800045 0.2166726 ]\n",
      " [0.18299863 0.20666184 0.21632673 0.17800398 0.21667384]\n",
      " [0.18299945 0.20665726 0.21632595 0.17801245 0.2166716 ]\n",
      " [0.18301015 0.2066618  0.21634024 0.17799331 0.21665771]\n",
      " [0.18299979 0.20666407 0.21633197 0.17799719 0.21667145]\n",
      " [0.18301073 0.20667061 0.21631207 0.17799778 0.21667102]\n",
      " [0.18301961 0.20665093 0.21633574 0.17797624 0.21669039]\n",
      " [0.18296953 0.20666246 0.21635003 0.17799546 0.21668553]\n",
      " [0.18301801 0.20666035 0.21631186 0.17801394 0.21666181]\n",
      " [0.18297763 0.20671076 0.2163956  0.17791347 0.21666218]\n",
      " [0.18300009 0.20664889 0.2163489  0.1779955  0.21667378]\n",
      " [0.18299933 0.20666316 0.21632983 0.17799996 0.21667244]\n",
      " [0.18298419 0.20664373 0.21634515 0.17803177 0.216665  ]\n",
      " [0.18299894 0.20666243 0.21632813 0.17800218 0.2166732 ]\n",
      " [0.18299924 0.206663   0.21632946 0.17800045 0.2166726 ]\n",
      " [0.18299933 0.20666316 0.21632983 0.17799996 0.21667244]\n",
      " [0.18300296 0.20666154 0.21632859 0.17800492 0.21666811]\n",
      " [0.18300097 0.20666634 0.21633726 0.17799035 0.21666907]\n",
      " [0.18300778 0.2066472  0.21633446 0.17800842 0.21666287]\n",
      " [0.18299882 0.20666318 0.21632957 0.17799991 0.2166731 ]\n",
      " [0.18302023 0.20663041 0.21630704 0.17803384 0.21667978]\n",
      " [0.18299924 0.206663   0.21632946 0.17800045 0.2166726 ]\n",
      " [0.18301803 0.20666319 0.21633543 0.17795527 0.21668692]\n",
      " [0.18299924 0.206663   0.21632946 0.17800045 0.2166726 ]\n",
      " [0.18298383 0.2066685  0.21633407 0.17799667 0.21668118]\n",
      " [0.18299924 0.206663   0.21632946 0.17800045 0.2166726 ]\n",
      " [0.18299924 0.206663   0.21632946 0.17800045 0.2166726 ]\n",
      " [0.18299924 0.206663   0.21632946 0.17800045 0.2166726 ]\n",
      " [0.18300958 0.2066483  0.2163054  0.17804065 0.21666008]\n",
      " [0.1830042  0.206668   0.21633734 0.17798807 0.2166656 ]]\n",
      "Predictions:\n",
      " [[0.18251364 0.20499572 0.2163258  0.17733447 0.21899337]\n",
      " [0.182504   0.20500089 0.21632805 0.1773338  0.21899778]\n",
      " [0.1825767  0.20501189 0.21629724 0.17731239 0.21897247]\n",
      " [0.18250419 0.20500033 0.21632816 0.17733409 0.21899754]\n",
      " [0.18248278 0.20500015 0.21634176 0.17733918 0.21899913]\n",
      " [0.18248567 0.20501246 0.2163317  0.17733146 0.21900673]\n",
      " [0.18248363 0.20500332 0.21633658 0.1773365  0.21900623]\n",
      " [0.1825041  0.20500031 0.2163282  0.17733411 0.21899755]\n",
      " [0.18249913 0.20500194 0.21632972 0.17733437 0.21899949]\n",
      " [0.18240705 0.2049627  0.21638717 0.17735504 0.21903662]\n",
      " [0.18241797 0.20508468 0.2163961  0.17727324 0.21898273]\n",
      " [0.1825511  0.20497316 0.2162946  0.17735802 0.21899067]\n",
      " [0.18250284 0.2050163  0.21632312 0.17732498 0.21900316]\n",
      " [0.18250099 0.20500049 0.21632946 0.17733477 0.21899849]\n",
      " [0.1825074  0.20495287 0.2163214  0.17737119 0.21899442]\n",
      " [0.1825136  0.2049962  0.2163249  0.17733456 0.21899325]\n",
      " [0.18250099 0.20500049 0.21632946 0.17733477 0.21899849]\n",
      " [0.1825331  0.20502202 0.2163189  0.17733711 0.2189636 ]\n",
      " [0.18249215 0.20499232 0.21633543 0.17734174 0.21899994]\n",
      " [0.18248765 0.20500651 0.21633314 0.17733377 0.21900655]\n",
      " [0.18249106 0.20500706 0.21633096 0.17733216 0.21900654]\n",
      " [0.18245897 0.2049795  0.21634883 0.17732759 0.21903594]\n",
      " [0.18250409 0.20500101 0.21632797 0.1773337  0.21899779]\n",
      " [0.18250099 0.20500049 0.21632946 0.17733477 0.21899849]\n",
      " [0.18250667 0.20499936 0.21632813 0.17733382 0.21899617]\n",
      " [0.18250099 0.20500049 0.21632946 0.17733477 0.21899849]\n",
      " [0.1824987  0.20499846 0.21632522 0.17732479 0.21901298]\n",
      " [0.18250197 0.20500329 0.21632805 0.17733291 0.21899901]\n",
      " [0.18250647 0.20499077 0.21632001 0.17733645 0.21900861]\n",
      " [0.18250261 0.20500879 0.21633433 0.17732583 0.2189914 ]]\n",
      "Predictions:\n",
      " [[0.17811954 0.2050267  0.21666214 0.18033691 0.21934709]\n",
      " [0.17817958 0.20498489 0.21666937 0.1803274  0.21933842]\n",
      " [0.17816907 0.2049973  0.2166664  0.18033268 0.21933213]\n",
      " [0.17816639 0.20499647 0.21666346 0.18034177 0.21933202]\n",
      " [0.17814453 0.20499687 0.21666482 0.18033111 0.21936396]\n",
      " [0.17816722 0.20499837 0.21666625 0.1803309  0.21933472]\n",
      " [0.17817867 0.20497192 0.21664503 0.18035193 0.21935697]\n",
      " [0.17816211 0.20500535 0.21666786 0.18032053 0.21933934]\n",
      " [0.17816722 0.20499837 0.21666625 0.1803309  0.21933472]\n",
      " [0.17816682 0.2050026  0.21667139 0.18032454 0.21932997]\n",
      " [0.1781652  0.20499603 0.21666156 0.18033418 0.2193422 ]\n",
      " [0.17817034 0.20499587 0.2166656  0.18033496 0.21933128]\n",
      " [0.17816684 0.20499425 0.21666086 0.18033618 0.21934156]\n",
      " [0.1781646  0.20500271 0.21664667 0.18034561 0.21933977]\n",
      " [0.17816937 0.20501381 0.21666098 0.18029885 0.21934709]\n",
      " [0.17821595 0.20499495 0.21663302 0.18037778 0.21929249]\n",
      " [0.17817944 0.2050187  0.21666884 0.1803834  0.21926408]\n",
      " [0.17815624 0.2049971  0.21668667 0.18032382 0.21932368]\n",
      " [0.17816998 0.20500153 0.21667261 0.18032645 0.21932456]\n",
      " [0.17824325 0.20495243 0.21662143 0.18035673 0.21931961]\n",
      " [0.17816722 0.20499837 0.21666625 0.1803309  0.21933472]\n",
      " [0.17816775 0.20499144 0.21666141 0.18033656 0.21934417]\n",
      " [0.1781475  0.20501715 0.21667336 0.18032347 0.21933502]\n",
      " [0.17819114 0.2049985  0.21666192 0.18034512 0.21930812]\n",
      " [0.17814298 0.20502192 0.21672162 0.18029885 0.21931446]\n",
      " [0.17816722 0.20499837 0.21666625 0.1803309  0.21933472]\n",
      " [0.17816845 0.20499946 0.21667023 0.1803313  0.21932784]\n",
      " [0.17816412 0.20499875 0.21667996 0.18031931 0.21933499]\n",
      " [0.17815286 0.20499238 0.21666135 0.18032768 0.21935791]\n",
      " [0.17817001 0.20499037 0.21665823 0.18034312 0.21933928]]\n",
      "Mean MSE across 3-fold CV: 0.000864 ± 0.000071\n"
     ]
    },
    {
     "name": "stderr",
     "output_type": "stream",
     "text": [
      "D:\\anacondafolder\\envs\\testenv\\lib\\site-packages\\sklearn\\metrics\\_regression.py:95: FutureWarning: Arrays of bytes/strings is being converted to decimal numbers if dtype='numeric'. This behavior is deprecated in 0.24 and will be removed in 1.1 (renaming of 0.26). Please convert your data to numeric values explicitly instead.\n",
      "  y_true = check_array(y_true, ensure_2d=False, dtype=dtype)\n",
      "D:\\anacondafolder\\envs\\testenv\\lib\\site-packages\\sklearn\\metrics\\_regression.py:95: FutureWarning: Arrays of bytes/strings is being converted to decimal numbers if dtype='numeric'. This behavior is deprecated in 0.24 and will be removed in 1.1 (renaming of 0.26). Please convert your data to numeric values explicitly instead.\n",
      "  y_true = check_array(y_true, ensure_2d=False, dtype=dtype)\n",
      "D:\\anacondafolder\\envs\\testenv\\lib\\site-packages\\sklearn\\metrics\\_regression.py:95: FutureWarning: Arrays of bytes/strings is being converted to decimal numbers if dtype='numeric'. This behavior is deprecated in 0.24 and will be removed in 1.1 (renaming of 0.26). Please convert your data to numeric values explicitly instead.\n",
      "  y_true = check_array(y_true, ensure_2d=False, dtype=dtype)\n"
     ]
    }
   ],
   "source": [
    "from sklearn.model_selection import KFold\n",
    "from sklearn.linear_model import Ridge\n",
    "from sklearn.metrics import mean_squared_error\n",
    "# Define the number of folds for cross-validation\n",
    "k = 3\n",
    "\n",
    "# Initialize lists to store performance metrics across folds\n",
    "mse_scores = []\n",
    "r2_scores = []\n",
    "\n",
    "# Create a Ridge regression model\n",
    "ridge_model = Ridge(alpha=1.0)  # You can adjust alpha as needed\n",
    "\n",
    "# Create a KFold object\n",
    "kf = KFold(n_splits=k, shuffle=True, random_state=42)\n",
    "\n",
    "# Perform k-fold cross-validation\n",
    "for train_index, test_index in kf.split(padded_sequences):\n",
    "    x_train, x_test = padded_sequences[train_index], padded_sequences[test_index]\n",
    "    y_train, y_test = padded_y[train_index], padded_y[test_index]\n",
    "    \n",
    "    # Fit the model on the training data\n",
    "    ridge_model.fit(x_train, y_train)\n",
    "    \n",
    "    # Predict on the test data\n",
    "    y_pred = ridge_model.predict(x_test)\n",
    "    print(\"Predictions:\\n\", y_pred)\n",
    "    # Calculate performance metrics\n",
    "    mse = mean_squared_error(y_test, y_pred)\n",
    "    \n",
    "    \n",
    "    # Append scores to lists\n",
    "    mse_scores.append(mse)\n",
    "    \n",
    "\n",
    "# Calculate mean and standard deviation of scores across folds\n",
    "mean_mse = np.mean(mse_scores)\n",
    "std_mse = np.std(mse_scores)\n",
    "\n",
    "print(f\"Mean MSE across {k}-fold CV: {mean_mse:.6f} ± {std_mse:.6f}\")"
   ]
  },
  {
   "cell_type": "code",
   "execution_count": 9,
   "id": "dc2c0f81",
   "metadata": {},
   "outputs": [],
   "source": [
    "from sklearn.model_selection import train_test_split\n",
    "x_train, x_test, y_train, y_test = train_test_split(padded_sequences, padded_y, test_size=0.1, random_state=42)"
   ]
  },
  {
   "cell_type": "code",
   "execution_count": 6,
   "id": "e4a7fa4f",
   "metadata": {},
   "outputs": [
    {
     "name": "stdout",
     "output_type": "stream",
     "text": [
      "Predictions:\n",
      " [[0.18209697 0.20518386 0.21617092 0.17876592 0.21777998]\n",
      " [0.18210791 0.20517357 0.21617024 0.1787449  0.2178103 ]\n",
      " [0.1820991  0.20518509 0.2161802  0.17876059 0.21777046]\n",
      " [0.18208772 0.20518856 0.21617699 0.17875947 0.21778148]\n",
      " [0.18209697 0.20518386 0.21617092 0.17876592 0.21777998]\n",
      " [0.18206312 0.20518307 0.2161864  0.17876013 0.21780176]\n",
      " [0.18209662 0.20518366 0.21616934 0.17876683 0.2177816 ]\n",
      " [0.18212938 0.20514503 0.21615109 0.17880112 0.21778712]\n",
      " [0.18209717 0.2051797  0.21616668 0.17877455 0.21778288]]\n",
      "Mean Squared Error: 0.0009817268986836176\n"
     ]
    }
   ],
   "source": [
    "from sklearn.linear_model import Ridge\n",
    "from sklearn.metrics import mean_squared_error\n",
    "# Create a Ridge regression model with regularization strength (alpha) set to 1.0\n",
    "ridge_model1 = Ridge(alpha=1.0)\n",
    "\n",
    "# Train the model\n",
    "ridge_model1.fit(x_train, y_train)\n",
    "\n",
    "# Predictions\n",
    "y_pred = ridge_model1.predict(x_test)\n",
    "\n",
    "# Print the predictions\n",
    "print(\"Predictions:\\n\", y_pred)\n",
    "y_test = np.array(y_test, dtype=float)\n",
    "#print(y_test)\n",
    "mse = mean_squared_error(y_test, y_pred)\n",
    "print(\"Mean Squared Error:\", mse)"
   ]
  },
  {
   "cell_type": "code",
   "execution_count": 8,
   "id": "c1c01138",
   "metadata": {},
   "outputs": [
    {
     "name": "stdout",
     "output_type": "stream",
     "text": [
      "Predictions:\n",
      " [[0.18209876 0.20518519 0.21617284 0.17876543 0.21777782]\n",
      " [0.18209876 0.20518519 0.21617284 0.17876543 0.21777782]\n",
      " [0.18209876 0.20518519 0.21617284 0.17876543 0.21777782]\n",
      " [0.18209876 0.20518519 0.21617284 0.17876543 0.21777782]\n",
      " [0.18209876 0.20518519 0.21617284 0.17876543 0.21777782]\n",
      " [0.18209876 0.20518519 0.21617284 0.17876543 0.21777782]\n",
      " [0.18209876 0.20518519 0.21617284 0.17876543 0.21777782]\n",
      " [0.18209876 0.20518519 0.21617284 0.17876543 0.21777782]\n",
      " [0.18209876 0.20518519 0.21617284 0.17876543 0.21777782]]\n",
      "[['0.23' '0.23' '0.15' '0.18' '0.21']\n",
      " ['0.1' '0.25' '0.29' '0.15' '0.22']\n",
      " ['0.19' '0.21' '0.2' '0.13' '0.27']\n",
      " ['0.16' '0.19' '0.22' '0.19' '0.24']\n",
      " ['0.22' '0.2' '0.2' '0.2' '0.18']\n",
      " ['0.14' '0.19' '0.23' '0.19' '0.24']\n",
      " ['0.2' '0.18' '0.21' '0.2' '0.21']\n",
      " ['0.14' '0.22' '0.24' '0.21' '0.19']\n",
      " ['0.18' '0.21' '0.23' '0.14' '0.25']]\n",
      "Mean Squared Error: 0.000981700842168285\n"
     ]
    }
   ],
   "source": [
    "from sklearn.linear_model import Lasso\n",
    "from sklearn.metrics import mean_squared_error\n",
    "# Create a Lasso regression model with regularization strength (alpha) set to 1.0\n",
    "lasso_model = Lasso(alpha=1.0)\n",
    "\n",
    "# Train the model\n",
    "lasso_model.fit(x_train, y_train)\n",
    "\n",
    "# Predictions\n",
    "y_pred = lasso_model.predict(x_test)\n",
    "from sklearn.metrics import mean_squared_error, r2_score\n",
    "# Print the predictions\n",
    "print(\"Predictions:\\n\", y_pred)\n",
    "\n",
    "print(y_test)\n",
    "y_test = np.array(y_test, dtype=float)\n",
    "mse = mean_squared_error(y_test, y_pred)\n",
    "print(\"Mean Squared Error:\", mse)"
   ]
  },
  {
   "cell_type": "code",
   "execution_count": 11,
   "id": "ae556048",
   "metadata": {},
   "outputs": [
    {
     "name": "stdout",
     "output_type": "stream",
     "text": [
      "Random Forest Regressor MSE: 0.0013627976071062158\n"
     ]
    },
    {
     "name": "stderr",
     "output_type": "stream",
     "text": [
      "D:\\anacondafolder\\envs\\testenv\\lib\\site-packages\\sklearn\\metrics\\_regression.py:95: FutureWarning: Arrays of bytes/strings is being converted to decimal numbers if dtype='numeric'. This behavior is deprecated in 0.24 and will be removed in 1.1 (renaming of 0.26). Please convert your data to numeric values explicitly instead.\n",
      "  y_true = check_array(y_true, ensure_2d=False, dtype=dtype)\n"
     ]
    }
   ],
   "source": [
    "from sklearn.linear_model import Ridge\n",
    "from sklearn.ensemble import RandomForestRegressor\n",
    "# Random Forest Regressor\n",
    "rf_model = RandomForestRegressor(n_estimators=100, random_state=42)\n",
    "rf_model.fit(x_train, y_train)\n",
    "y_pred_rf = rf_model.predict(x_test)\n",
    "rf_mse = mean_squared_error(y_test, y_pred_rf)\n",
    "print(f\"Random Forest Regressor MSE: {rf_mse}\")"
   ]
  },
  {
   "cell_type": "code",
   "execution_count": 4,
   "id": "0bad6f0d",
   "metadata": {},
   "outputs": [],
   "source": [
    "from sklearn.model_selection import train_test_split\n",
    "x_train, x_test, y_train, y_test = train_test_split(padded_sequences, padded_y, test_size=0.1, random_state=42)"
   ]
  },
  {
   "cell_type": "code",
   "execution_count": 5,
   "id": "cc1894fc",
   "metadata": {},
   "outputs": [
    {
     "name": "stdout",
     "output_type": "stream",
     "text": [
      "Predictions after applying sigmoid:\n",
      " [[0.5447058  0.55042565 0.553443   0.54550403 0.55485296]\n",
      " [0.9773406  0.5026854  0.58842963 0.06611504 0.42434937]\n",
      " [0.54574823 0.5502834  0.5534633  0.5449657  0.554276  ]\n",
      " [0.9363325  0.5379571  0.62696254 0.12871194 0.40763816]\n",
      " [0.5447058  0.55042565 0.553443   0.54550403 0.55485296]\n",
      " [0.52543646 0.55569285 0.5441322  0.56067926 0.55956686]\n",
      " [0.5445282  0.55044985 0.5534396  0.5455957  0.5549512 ]\n",
      " [0.9747039  0.5064281  0.7176411  0.07618608 0.25503585]\n",
      " [0.54563653 0.5499081  0.55413336 0.5476246  0.5525867 ]]\n",
      "Mean Squared Error: 0.1470415980429129\n"
     ]
    }
   ],
   "source": [
    "import numpy as np\n",
    "#from sklearn.multioutput import MultiOutputRegressor\n",
    "from sklearn.linear_model import LinearRegression\n",
    "from sklearn.metrics import mean_squared_error\n",
    "\n",
    "# Assuming x_train, y_train, x_test, and y_test are already defined and loaded\n",
    "\n",
    "# Fit the multioutput regressor to the training data\n",
    "model = LinearRegression()\n",
    "model.fit(x_train, y_train)\n",
    "\n",
    "# Predict using the fitted model\n",
    "y_pred = model.predict(x_test)\n",
    "\n",
    "# Apply sigmoid function to the predictions\n",
    "def sigmoid(x):\n",
    "    return 1 / (1 + np.exp(-x))\n",
    "\n",
    "y_pred_sigmoid = sigmoid(y_pred)\n",
    "\n",
    "# Print the predictions\n",
    "print(\"Predictions after applying sigmoid:\\n\", y_pred_sigmoid)\n",
    "y_test = np.array(y_test, dtype=float)\n",
    "#print(y_test)\n",
    "mse = mean_squared_error(y_test, y_pred_sigmoid)\n",
    "print(\"Mean Squared Error:\", mse)"
   ]
  },
  {
   "cell_type": "code",
   "execution_count": 11,
   "id": "de27b9e1",
   "metadata": {},
   "outputs": [
    {
     "name": "stdout",
     "output_type": "stream",
     "text": [
      "Predictions after applying sigmoid:\n",
      " [[0.5447058  0.55042565 0.5534431  0.54550403 0.55485296]\n",
      " [0.9773406  0.5026854  0.5884294  0.06611518 0.42434955]\n",
      " [0.54574823 0.5502834  0.5534633  0.5449657  0.55427605]\n",
      " [0.9363325  0.537957   0.62696254 0.12871213 0.4076383 ]\n",
      " [0.5447058  0.55042565 0.5534431  0.54550403 0.55485296]\n",
      " [0.5254364  0.55569285 0.54413223 0.56067926 0.55956686]\n",
      " [0.5445282  0.55044985 0.5534396  0.5455957  0.55495125]\n",
      " [0.9747039  0.50642794 0.7176409  0.07618637 0.25503603]\n",
      " [0.54563653 0.5499081  0.5541334  0.5476247  0.55258673]]\n",
      "Mean Squared Error: 0.14704159434749303\n"
     ]
    }
   ],
   "source": [
    "import numpy as np\n",
    "from sklearn.multioutput import MultiOutputRegressor\n",
    "from sklearn.linear_model import LinearRegression\n",
    "from sklearn.metrics import mean_squared_error\n",
    "\n",
    "# Assuming x_train, y_train, x_test, and y_test are already defined and loaded\n",
    "\n",
    "# Fit the multioutput regressor to the training data\n",
    "multioutput_model = MultiOutputRegressor(LinearRegression())\n",
    "multioutput_model.fit(x_train, y_train)\n",
    "\n",
    "# Predict using the fitted model\n",
    "y_pred = multioutput_model.predict(x_test)\n",
    "\n",
    "# Apply sigmoid function to the predictions\n",
    "def sigmoid(x):\n",
    "    return 1 / (1 + np.exp(-x))\n",
    "\n",
    "y_pred_sigmoid = sigmoid(y_pred)\n",
    "\n",
    "# Print the predictions\n",
    "print(\"Predictions after applying sigmoid:\\n\", y_pred_sigmoid)\n",
    "y_test = np.array(y_test, dtype=float)\n",
    "#print(y_test)\n",
    "mse = mean_squared_error(y_test, y_pred_sigmoid)\n",
    "print(\"Mean Squared Error:\", mse)"
   ]
  },
  {
   "cell_type": "code",
   "execution_count": 12,
   "id": "cd1cd5dd",
   "metadata": {},
   "outputs": [],
   "source": [
    "from sklearn.model_selection import train_test_split\n",
    "x_train, x_test, y_train, y_test = train_test_split(padded_sequences, padded_y, test_size=0.1, random_state=42)"
   ]
  },
  {
   "cell_type": "code",
   "execution_count": 6,
   "id": "78dc276d",
   "metadata": {},
   "outputs": [
    {
     "name": "stdout",
     "output_type": "stream",
     "text": [
      "Predictions after applying sigmoid:\n",
      " [[3.9233685e-01 6.5135491e-01 6.1508787e-01 5.1561993e-01 5.5832702e-01]\n",
      " [1.0000000e+00 0.0000000e+00 0.0000000e+00 1.0000000e+00 1.0000000e+00]\n",
      " [3.9233685e-01 6.5135491e-01 6.1508787e-01 5.1561993e-01 5.5253971e-01]\n",
      " [1.0000000e+00 0.0000000e+00 0.0000000e+00 0.0000000e+00 1.0000000e+00]\n",
      " [3.9233685e-01 6.5135491e-01 6.1508787e-01 5.1561993e-01 5.5832702e-01]\n",
      " [2.8625186e-20 1.0000000e+00 1.0000000e+00 9.9972194e-01 6.5130358e-08]\n",
      " [3.9233685e-01 6.5135491e-01 6.1508787e-01 5.1561993e-01 5.5832702e-01]\n",
      " [0.0000000e+00 1.0000000e+00 1.0000000e+00 1.0000000e+00 1.0000000e+00]\n",
      " [2.8140563e-01 7.3105860e-01 6.6541058e-01 5.1561993e-01 5.1757091e-01]]\n",
      "Mean Squared Error: 0.2539203768494678\n"
     ]
    },
    {
     "name": "stderr",
     "output_type": "stream",
     "text": [
      "D:\\anacondafolder\\envs\\testenv\\lib\\site-packages\\ipykernel_launcher.py:8: RuntimeWarning: overflow encountered in exp\n",
      "  \n"
     ]
    }
   ],
   "source": [
    "import numpy as np\n",
    "#from sklearn.multioutput import MultiOutputRegressor\n",
    "from sklearn.linear_model import LinearRegression\n",
    "from sklearn.preprocessing import PolynomialFeatures\n",
    "from sklearn.metrics import mean_squared_error\n",
    "\n",
    "def sigmoid(x):\n",
    "    return 1 / (1 + np.exp(-x))\n",
    "\n",
    "y_train = np.array(y_train, dtype=float)\n",
    "\n",
    "# Transform the input features to polynomial features\n",
    "poly = PolynomialFeatures(degree=2)\n",
    "x_train_poly = poly.fit_transform(x_train)\n",
    "x_test_poly = poly.transform(x_test)\n",
    "\n",
    "# Fit the multioutput regressor to the transformed training data\n",
    "model1 = LinearRegression()\n",
    "model1.fit(x_train_poly, y_train)\n",
    "\n",
    "# Predict using the fitted model on the transformed test data\n",
    "y_pred = model1.predict(x_test_poly)\n",
    "y_pred_sigmoid = sigmoid(y_pred)\n",
    "\n",
    "# Print the predictions\n",
    "print(\"Predictions after applying sigmoid:\\n\", y_pred_sigmoid)\n",
    "\n",
    "# Evaluate the model\n",
    "y_test = np.array(y_test, dtype=float)\n",
    "mse = mean_squared_error(y_test, y_pred_sigmoid)\n",
    "print(\"Mean Squared Error:\", mse)"
   ]
  },
  {
   "cell_type": "code",
   "execution_count": 13,
   "id": "5c46c68a",
   "metadata": {},
   "outputs": [
    {
     "name": "stdout",
     "output_type": "stream",
     "text": [
      "Predictions after applying sigmoid:\n",
      " [[4.6879062e-01 5.9266663e-01 5.6985265e-01 5.0000000e-01 5.5832702e-01]\n",
      " [1.0000000e+00 0.0000000e+00 0.0000000e+00 1.0000000e+00 1.0000000e+00]\n",
      " [4.6879062e-01 5.9266663e-01 5.6985265e-01 5.0000000e-01 5.5253971e-01]\n",
      " [1.0000000e+00 0.0000000e+00 0.0000000e+00 0.0000000e+00 1.0000000e+00]\n",
      " [4.6879062e-01 5.9266663e-01 5.6985265e-01 5.0000000e-01 5.5832702e-01]\n",
      " [3.4528564e-20 1.0000000e+00 1.0000000e+00 9.9968493e-01 6.4120606e-08]\n",
      " [4.6879062e-01 5.9266663e-01 5.6985265e-01 5.0000000e-01 5.5832702e-01]\n",
      " [0.0000000e+00 1.0000000e+00 1.0000000e+00 1.0000000e+00 1.0000000e+00]\n",
      " [3.6296919e-01 6.6541058e-01 6.2245935e-01 5.0000000e-01 5.1757091e-01]]\n",
      "Mean Squared Error: 0.24645760645013343\n"
     ]
    },
    {
     "name": "stderr",
     "output_type": "stream",
     "text": [
      "D:\\anacondafolder\\envs\\testenv\\lib\\site-packages\\ipykernel_launcher.py:8: RuntimeWarning: overflow encountered in exp\n",
      "  \n"
     ]
    }
   ],
   "source": [
    "import numpy as np\n",
    "from sklearn.multioutput import MultiOutputRegressor\n",
    "from sklearn.linear_model import LinearRegression\n",
    "from sklearn.preprocessing import PolynomialFeatures\n",
    "from sklearn.metrics import mean_squared_error\n",
    "\n",
    "def sigmoid(x):\n",
    "    return 1 / (1 + np.exp(-x))\n",
    "\n",
    "y_train = np.array(y_train, dtype=float)\n",
    "\n",
    "# Transform the input features to polynomial features\n",
    "poly = PolynomialFeatures(degree=2)\n",
    "x_train_poly = poly.fit_transform(x_train)\n",
    "x_test_poly = poly.transform(x_test)\n",
    "\n",
    "# Fit the multioutput regressor to the transformed training data\n",
    "multioutput_model = MultiOutputRegressor(LinearRegression())\n",
    "multioutput_model.fit(x_train_poly, y_train)\n",
    "\n",
    "# Predict using the fitted model on the transformed test data\n",
    "y_pred = multioutput_model.predict(x_test_poly)\n",
    "y_pred_sigmoid = sigmoid(y_pred)\n",
    "\n",
    "# Print the predictions\n",
    "print(\"Predictions after applying sigmoid:\\n\", y_pred_sigmoid)\n",
    "\n",
    "# Evaluate the model\n",
    "y_test = np.array(y_test, dtype=float)\n",
    "mse = mean_squared_error(y_test, y_pred_sigmoid)\n",
    "print(\"Mean Squared Error:\", mse)"
   ]
  },
  {
   "cell_type": "markdown",
   "id": "bfd3934c",
   "metadata": {},
   "source": [
    "# new prediction"
   ]
  },
  {
   "cell_type": "code",
   "execution_count": 7,
   "id": "fc87f9d3",
   "metadata": {},
   "outputs": [],
   "source": [
    "import pickle\n",
    "import os\n",
    "import base64\n",
    "\n",
    "file_path = r'D:\\new_comment.pickle'\n",
    "with open(file_path, 'rb') as f:\n",
    "    encoded_data = f.read()\n",
    "\n",
    "# Decode the Base64-encoded data\n",
    "decoded_bytes = base64.b64decode(encoded_data)\n",
    "\n",
    "# Deserialize the object using pickle\n",
    "img_dict = pickle.loads(decoded_bytes)\n",
    "#print(img_dict.keys())\n",
    "x=img_dict['x']\n",
    "y=img_dict['y']"
   ]
  },
  {
   "cell_type": "code",
   "execution_count": 8,
   "id": "493ef574",
   "metadata": {},
   "outputs": [],
   "source": [
    "import numpy as np\n",
    "from tensorflow.keras.preprocessing.sequence import pad_sequences\n",
    "\n",
    "sequences = x\n",
    "padded_x = pad_sequences(sequences, maxlen=300, padding='post', dtype='float32')"
   ]
  },
  {
   "cell_type": "code",
   "execution_count": 9,
   "id": "6f56674d",
   "metadata": {},
   "outputs": [
    {
     "data": {
      "text/plain": [
       "array(['0.18', '0.21', '0.23', '0.14', '0.25'], dtype='<U4')"
      ]
     },
     "execution_count": 9,
     "metadata": {},
     "output_type": "execute_result"
    }
   ],
   "source": [
    "padded_y=np.array(y[10])\n",
    "padded_y"
   ]
  },
  {
   "cell_type": "code",
   "execution_count": 10,
   "id": "39792d71",
   "metadata": {},
   "outputs": [
    {
     "name": "stdout",
     "output_type": "stream",
     "text": [
      "Predictions:\n",
      " [[0.17816794 0.20499304 0.21666206 0.18033956 0.21933809]]\n"
     ]
    }
   ],
   "source": [
    "reshaped_data = padded_x[10].reshape(1, -1)\n",
    "y_pred = ridge_model.predict(reshaped_data)\n",
    "\n",
    "# Print the predictions\n",
    "print(\"Predictions:\\n\", y_pred)"
   ]
  },
  {
   "cell_type": "code",
   "execution_count": 12,
   "id": "65bbdf62",
   "metadata": {},
   "outputs": [
    {
     "name": "stdout",
     "output_type": "stream",
     "text": [
      "Mean Squared Error: 0.0005547518998572007\n"
     ]
    },
    {
     "name": "stderr",
     "output_type": "stream",
     "text": [
      "D:\\anacondafolder\\envs\\testenv\\lib\\site-packages\\sklearn\\metrics\\_regression.py:95: FutureWarning: Arrays of bytes/strings is being converted to decimal numbers if dtype='numeric'. This behavior is deprecated in 0.24 and will be removed in 1.1 (renaming of 0.26). Please convert your data to numeric values explicitly instead.\n",
      "  y_true = check_array(y_true, ensure_2d=False, dtype=dtype)\n"
     ]
    }
   ],
   "source": [
    "from sklearn.metrics import mean_squared_error\n",
    "reshaped_y = padded_y.reshape(1,-1)\n",
    "mse = mean_squared_error(reshaped_y, y_pred)\n",
    "print(\"Mean Squared Error:\", mse)"
   ]
  },
  {
   "cell_type": "code",
   "execution_count": 1,
   "id": "bf297c5b",
   "metadata": {},
   "outputs": [],
   "source": [
    "post_text_weight = 0.68\n",
    "comment_weight = 0.32\n",
    "post_img_weight = 0.43\n",
    "profile_img_weight = 0.63\n",
    "import numpy as np"
   ]
  },
  {
   "cell_type": "code",
   "execution_count": 2,
   "id": "02ad03d6",
   "metadata": {},
   "outputs": [],
   "source": [
    "final_comment_prediction = np.array([[0.17816794,0.20499304,0.21666206,0.18033956,0.21933809]])"
   ]
  },
  {
   "cell_type": "code",
   "execution_count": 3,
   "id": "d21d66a6",
   "metadata": {},
   "outputs": [
    {
     "name": "stdout",
     "output_type": "stream",
     "text": [
      "<class 'numpy.ndarray'>\n"
     ]
    }
   ],
   "source": [
    "print(type(final_comment_prediction))"
   ]
  },
  {
   "cell_type": "code",
   "execution_count": 4,
   "id": "490f5318",
   "metadata": {},
   "outputs": [],
   "source": [
    "final_post_prediction = np.array([[0.18013708,0.20583625,0.21803221,0.17628355,0.2190747 ]])"
   ]
  },
  {
   "cell_type": "code",
   "execution_count": 5,
   "id": "a2175b54",
   "metadata": {},
   "outputs": [
    {
     "name": "stdout",
     "output_type": "stream",
     "text": [
      "<class 'numpy.ndarray'>\n"
     ]
    }
   ],
   "source": [
    "print(type(final_post_prediction))"
   ]
  },
  {
   "cell_type": "code",
   "execution_count": 6,
   "id": "dd044b65",
   "metadata": {},
   "outputs": [],
   "source": [
    "final_post_img_prediction = np.array([0.17933537065982819, 0.19528426229953766, 0.2029479742050171, 0.1652487963438034, 0.20580318570137024])"
   ]
  },
  {
   "cell_type": "code",
   "execution_count": 7,
   "id": "ffda505a",
   "metadata": {},
   "outputs": [
    {
     "name": "stdout",
     "output_type": "stream",
     "text": [
      "<class 'numpy.ndarray'>\n"
     ]
    }
   ],
   "source": [
    "print(type(final_post_img_prediction))"
   ]
  },
  {
   "cell_type": "code",
   "execution_count": 8,
   "id": "bc2b6a5e",
   "metadata": {},
   "outputs": [],
   "source": [
    "final_profile_img_prediction = np.array([0.07974329590797424, 0.10734947770833969, 0.0936485156416893, 0.09621872007846832, 0.1311817318201065])"
   ]
  },
  {
   "cell_type": "code",
   "execution_count": 9,
   "id": "ff159a0e",
   "metadata": {},
   "outputs": [
    {
     "name": "stdout",
     "output_type": "stream",
     "text": [
      "<class 'numpy.ndarray'>\n"
     ]
    }
   ],
   "source": [
    "print(type(final_profile_img_prediction))"
   ]
  },
  {
   "cell_type": "code",
   "execution_count": 11,
   "id": "718cff12",
   "metadata": {},
   "outputs": [
    {
     "name": "stdout",
     "output_type": "stream",
     "text": [
      "[[0.17950696 0.20556642 0.21759376 0.17758147 0.21915898]]\n"
     ]
    }
   ],
   "source": [
    "final_text_prediction = post_text_weight * final_post_prediction + comment_weight * final_comment_prediction\n",
    "print(final_text_prediction)"
   ]
  },
  {
   "cell_type": "code",
   "execution_count": 14,
   "id": "cfdafb17",
   "metadata": {},
   "outputs": [
    {
     "name": "stdout",
     "output_type": "stream",
     "text": [
      "Mean Squared Error: 0.0005074699575449522\n"
     ]
    }
   ],
   "source": [
    "y_ac=np.array([[0.18,0.21,0.23,0.14,0.25]])\n",
    "from sklearn.metrics import mean_squared_error\n",
    "mse = mean_squared_error(final_text_prediction, y_ac)\n",
    "print(\"Mean Squared Error:\", mse)"
   ]
  },
  {
   "cell_type": "markdown",
   "id": "4b938d33",
   "metadata": {},
   "source": [
    "# Averaging predictions"
   ]
  },
  {
   "cell_type": "code",
   "execution_count": 18,
   "id": "c0089b4a",
   "metadata": {},
   "outputs": [],
   "source": [
    "avg_text_pred = 0.5 * np.array([[0.17950696,0.20556642,0.21759376,0.17758147,0.21915898]]) + 0.5 * np.array([[0.18233853,0.20635441,0.21267351,0.1819865,0.21698282]])"
   ]
  },
  {
   "cell_type": "code",
   "execution_count": 19,
   "id": "57c40e8a",
   "metadata": {},
   "outputs": [
    {
     "name": "stdout",
     "output_type": "stream",
     "text": [
      "[[0.18092274 0.20596042 0.21513363 0.17978398 0.2180709 ]]\n"
     ]
    }
   ],
   "source": [
    "print(avg_text_pred)"
   ]
  },
  {
   "cell_type": "code",
   "execution_count": 20,
   "id": "55c91393",
   "metadata": {},
   "outputs": [
    {
     "name": "stdout",
     "output_type": "stream",
     "text": [
      "Mean Squared Error: 0.0005680822805821395\n"
     ]
    }
   ],
   "source": [
    "y_ac=np.array([[0.18,0.21,0.23,0.14,0.25]])\n",
    "from sklearn.metrics import mean_squared_error\n",
    "mse = mean_squared_error(avg_text_pred, y_ac)\n",
    "print(\"Mean Squared Error:\", mse)"
   ]
  },
  {
   "cell_type": "code",
   "execution_count": 12,
   "id": "98df866c",
   "metadata": {},
   "outputs": [],
   "source": [
    "final_prediction = post_text_weight * final_post_prediction + comment_weight * final_comment_prediction + post_img_weight * final_post_img_prediction + profile_img_weight * final_profile_img_prediction"
   ]
  },
  {
   "cell_type": "code",
   "execution_count": 13,
   "id": "5686a14b",
   "metadata": {},
   "outputs": [
    {
     "name": "stdout",
     "output_type": "stream",
     "text": [
      "[[0.30685944 0.35716883 0.36385996 0.30925625 0.39029885]]\n"
     ]
    }
   ],
   "source": [
    "print(final_prediction)"
   ]
  },
  {
   "cell_type": "code",
   "execution_count": null,
   "id": "09566c71",
   "metadata": {},
   "outputs": [],
   "source": []
  }
 ],
 "metadata": {
  "kernelspec": {
   "display_name": "Python 3 (ipykernel)",
   "language": "python",
   "name": "python3"
  },
  "language_info": {
   "codemirror_mode": {
    "name": "ipython",
    "version": 3
   },
   "file_extension": ".py",
   "mimetype": "text/x-python",
   "name": "python",
   "nbconvert_exporter": "python",
   "pygments_lexer": "ipython3",
   "version": "3.7.12"
  }
 },
 "nbformat": 4,
 "nbformat_minor": 5
}
