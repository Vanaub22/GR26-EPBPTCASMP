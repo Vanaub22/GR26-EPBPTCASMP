{
 "cells": [
  {
   "cell_type": "code",
   "execution_count": 1,
   "id": "20ed7374",
   "metadata": {},
   "outputs": [],
   "source": [
    "import pickle\n",
    "import os\n",
    "import base64\n",
    "\n",
    "file_path = r'D:\\LinkedInPost.pickle'\n",
    "with open(file_path, 'rb') as f:\n",
    "    encoded_data = f.read()\n",
    "\n",
    "# Decode the Base64-encoded data\n",
    "decoded_bytes = base64.b64decode(encoded_data)\n",
    "\n",
    "# Deserialize the object using pickle\n",
    "img_dict = pickle.loads(decoded_bytes)\n",
    "x=img_dict['x']\n",
    "y=img_dict['y']"
   ]
  },
  {
   "cell_type": "code",
   "execution_count": 62,
   "id": "3f583b39",
   "metadata": {},
   "outputs": [],
   "source": [
    "import numpy as np\n",
    "from tensorflow.keras.preprocessing.sequence import pad_sequences\n",
    "\n",
    "sequences = x\n",
    "padded_sequences = pad_sequences(sequences, maxlen=500, padding='post', dtype='float32')\n",
    "\n",
    "#print(\"Padded sequences:\\n\", padded_sequences)\n",
    "#padded_sequences"
   ]
  },
  {
   "cell_type": "code",
   "execution_count": 65,
   "id": "fdfaee9a",
   "metadata": {},
   "outputs": [],
   "source": [
    "#padded_sequences.shape"
   ]
  },
  {
   "cell_type": "code",
   "execution_count": 66,
   "id": "3137c1c4",
   "metadata": {},
   "outputs": [],
   "source": [
    "padded_y=np.array(y)\n",
    "#padded_y.shape"
   ]
  },
  {
   "cell_type": "code",
   "execution_count": 67,
   "id": "b25d2008",
   "metadata": {
    "scrolled": true
   },
   "outputs": [
    {
     "name": "stdout",
     "output_type": "stream",
     "text": [
      "Predictions:\n",
      " [[0.18554631 0.20481706 0.21380205 0.18000655 0.21720672]\n",
      " [0.18554631 0.20481706 0.21380205 0.18000655 0.21720672]\n",
      " [0.18554987 0.20481467 0.21380123 0.18001302 0.21719956]\n",
      " [0.18553023 0.20481612 0.21380743 0.18000941 0.21721692]\n",
      " [0.18553635 0.20481761 0.2137997  0.18002504 0.21720105]\n",
      " [0.18553542 0.20481591 0.21380395 0.18001112 0.21721351]\n",
      " [0.18555069 0.20481907 0.2137962  0.18001245 0.21720009]\n",
      " [0.18554257 0.20485109 0.21377578 0.17996486 0.21724305]\n",
      " [0.18551162 0.2048238  0.21379848 0.18001123 0.2172272 ]\n",
      " [0.18554631 0.20481706 0.21380205 0.18000655 0.21720672]\n",
      " [0.18551053 0.20483787 0.21380655 0.1800153  0.2172144 ]\n",
      " [0.18547398 0.2048476  0.21379082 0.18000588 0.21725175]\n",
      " [0.18547751 0.2048414  0.21376693 0.17997688 0.21728411]\n",
      " [0.18555117 0.20482072 0.21380089 0.17999311 0.21721199]\n",
      " [0.18556394 0.2048115  0.2138137  0.18000813 0.21718532]\n",
      " [0.18554695 0.2048188  0.21379161 0.18001679 0.21720646]\n",
      " [0.18554455 0.20483197 0.21381289 0.17996648 0.21721841]\n",
      " [0.18557265 0.20481482 0.21382284 0.17998597 0.21718548]\n",
      " [0.18554242 0.20481497 0.21381302 0.17999077 0.21722098]\n",
      " [0.18554568 0.20481473 0.21380179 0.18000491 0.21721032]\n",
      " [0.18554357 0.20481569 0.2137981  0.18000913 0.21721143]\n",
      " [0.18554676 0.20481838 0.21380398 0.18000476 0.217205  ]\n",
      " [0.1855266  0.20483068 0.2138131  0.17994617 0.21726106]\n",
      " [0.18554339 0.20482199 0.21380815 0.17999737 0.21720931]\n",
      " [0.18554339 0.20482199 0.21380815 0.17999737 0.21720931]\n",
      " [0.1855303  0.20481695 0.21381702 0.17999017 0.21722315]\n",
      " [0.18556225 0.20482081 0.21379608 0.17999935 0.21720468]\n",
      " [0.18553694 0.20482163 0.21380065 0.18000333 0.21721679]\n",
      " [0.18554631 0.20481706 0.21380205 0.18000655 0.21720672]\n",
      " [0.18557572 0.20480873 0.21380986 0.1799991  0.2171951 ]]\n",
      "Predictions:\n",
      " [[0.18235935 0.20632271 0.21266428 0.18198518 0.2170002 ]\n",
      " [0.1823543  0.20634735 0.21266258 0.181988   0.216986  ]\n",
      " [0.18232423 0.20636655 0.21265993 0.18200788 0.21697687]\n",
      " [0.18230404 0.20639881 0.2126557  0.1820137  0.21696465]\n",
      " [0.18232423 0.20636655 0.21265993 0.18200788 0.21697687]\n",
      " [0.182332   0.20634447 0.21266443 0.18199928 0.21698643]\n",
      " [0.18232587 0.20631266 0.21267469 0.18199389 0.21702054]\n",
      " [0.18236832 0.20635706 0.212658   0.18199258 0.21696308]\n",
      " [0.18245795 0.20629258 0.21267156 0.18191738 0.21699601]\n",
      " [0.1822778  0.20635462 0.21267232 0.18203178 0.21700023]\n",
      " [0.18233049 0.20636812 0.21265611 0.18200871 0.21697253]\n",
      " [0.18233459 0.20637722 0.21266082 0.1819923  0.21697427]\n",
      " [0.1823311  0.20636877 0.21266034 0.1819931  0.2169784 ]\n",
      " [0.18232423 0.20636655 0.21265993 0.18200788 0.21697687]\n",
      " [0.18232702 0.20636415 0.21267377 0.1819964  0.21697381]\n",
      " [0.18230733 0.20636046 0.21265124 0.18203504 0.21697848]\n",
      " [0.18232049 0.2063643  0.2126609  0.18201117 0.21698742]\n",
      " [0.18232888 0.2063614  0.21265201 0.18200599 0.21698838]\n",
      " [0.18232499 0.20636772 0.2126589  0.18200237 0.2169816 ]\n",
      " [0.18233408 0.20636332 0.21266505 0.1820065  0.21696942]\n",
      " [0.18232423 0.20636655 0.21265993 0.18200788 0.21697687]\n",
      " [0.18233643 0.20633861 0.21265784 0.1819982  0.21700007]\n",
      " [0.18232423 0.20636655 0.21265993 0.18200788 0.21697687]\n",
      " [0.18232843 0.20636266 0.21265744 0.18200596 0.21698028]\n",
      " [0.18234268 0.20636964 0.21267158 0.18197878 0.2169762 ]\n",
      " [0.18233071 0.20636171 0.21266039 0.18200184 0.21698079]\n",
      " [0.18233304 0.20639107 0.21264888 0.1819884  0.21697928]\n",
      " [0.18229148 0.20627464 0.2126347  0.18206657 0.2170549 ]\n",
      " [0.1823032  0.20634449 0.21267217 0.18203242 0.21697985]]\n",
      "Mean MSE across 2-fold CV: 0.000816 ± 0.000112\n"
     ]
    },
    {
     "name": "stderr",
     "output_type": "stream",
     "text": [
      "D:\\anacondafolder\\envs\\testenv\\lib\\site-packages\\sklearn\\metrics\\_regression.py:95: FutureWarning: Arrays of bytes/strings is being converted to decimal numbers if dtype='numeric'. This behavior is deprecated in 0.24 and will be removed in 1.1 (renaming of 0.26). Please convert your data to numeric values explicitly instead.\n",
      "  y_true = check_array(y_true, ensure_2d=False, dtype=dtype)\n",
      "D:\\anacondafolder\\envs\\testenv\\lib\\site-packages\\sklearn\\metrics\\_regression.py:95: FutureWarning: Arrays of bytes/strings is being converted to decimal numbers if dtype='numeric'. This behavior is deprecated in 0.24 and will be removed in 1.1 (renaming of 0.26). Please convert your data to numeric values explicitly instead.\n",
      "  y_true = check_array(y_true, ensure_2d=False, dtype=dtype)\n"
     ]
    }
   ],
   "source": [
    "from sklearn.model_selection import KFold\n",
    "from sklearn.linear_model import Ridge\n",
    "from sklearn.metrics import mean_squared_error\n",
    "# Define the number of folds for cross-validation\n",
    "k = 2\n",
    "\n",
    "# Initialize lists to store performance metrics across folds\n",
    "mse_scores = []\n",
    "\n",
    "# Create a Ridge regression model\n",
    "ridge_model = Ridge(alpha=1.0)  # You can adjust alpha as needed\n",
    "\n",
    "# Create a KFold object\n",
    "kf = KFold(n_splits=k, shuffle=True, random_state=42)\n",
    "\n",
    "# Perform k-fold cross-validation\n",
    "for train_index, test_index in kf.split(padded_sequences):\n",
    "    x_train, x_test = padded_sequences[train_index], padded_sequences[test_index]\n",
    "    y_train, y_test = padded_y[train_index], padded_y[test_index]\n",
    "    \n",
    "    # Fit the model on the training data\n",
    "    ridge_model.fit(x_train, y_train)\n",
    "    \n",
    "    # Predict on the test data\n",
    "    y_pred = ridge_model.predict(x_test)\n",
    "    print(\"Predictions:\\n\", y_pred)\n",
    "    # Calculate performance metrics\n",
    "    mse = mean_squared_error(y_test, y_pred)\n",
    "    \n",
    "    \n",
    "    # Append scores to lists\n",
    "    mse_scores.append(mse)\n",
    "    \n",
    "\n",
    "# Calculate mean and standard deviation of scores across folds\n",
    "mean_mse = np.mean(mse_scores)\n",
    "std_mse = np.std(mse_scores)\n",
    "\n",
    "print(f\"Mean MSE across {k}-fold CV: {mean_mse:.6f} ± {std_mse:.6f}\")"
   ]
  },
  {
   "cell_type": "code",
   "execution_count": 70,
   "id": "dc2c0f81",
   "metadata": {},
   "outputs": [],
   "source": [
    "from sklearn.model_selection import train_test_split\n",
    "x_train, x_test, y_train, y_test = train_test_split(padded_sequences, padded_y, test_size=0.1, random_state=42)"
   ]
  },
  {
   "cell_type": "code",
   "execution_count": 69,
   "id": "e4a7fa4f",
   "metadata": {},
   "outputs": [
    {
     "name": "stdout",
     "output_type": "stream",
     "text": [
      "Predictions:\n",
      " [[0.18490319 0.2056705  0.21358567 0.18078002 0.21638085]\n",
      " [0.18491857 0.20565535 0.21358305 0.18077321 0.21638812]\n",
      " [0.18491456 0.20566142 0.21358873 0.1807746  0.21637744]\n",
      " [0.18491298 0.20565388 0.21358055 0.18074895 0.2164157 ]\n",
      " [0.18491596 0.20565191 0.21360789 0.1806957  0.21644063]\n",
      " [0.1849141  0.20567694 0.21358314 0.18076843 0.21638034]]\n",
      "Mean Squared Error: 0.0016653946532737857\n"
     ]
    }
   ],
   "source": [
    "from sklearn.linear_model import Ridge\n",
    "from sklearn.metrics import mean_squared_error\n",
    "# Create a Ridge regression model with regularization strength (alpha) set to 1.0\n",
    "ridge_model1 = Ridge(alpha=1.0)\n",
    "\n",
    "# Train the model\n",
    "ridge_model1.fit(x_train, y_train)\n",
    "\n",
    "# Predictions\n",
    "y_pred = ridge_model1.predict(x_test)\n",
    "\n",
    "# Print the predictions\n",
    "print(\"Predictions:\\n\", y_pred)\n",
    "y_test = np.array(y_test, dtype=float)\n",
    "#print(y_test)\n",
    "mse = mean_squared_error(y_test, y_pred)\n",
    "print(\"Mean Squared Error:\", mse)"
   ]
  },
  {
   "cell_type": "code",
   "execution_count": 71,
   "id": "192718df",
   "metadata": {},
   "outputs": [
    {
     "name": "stdout",
     "output_type": "stream",
     "text": [
      "Predictions:\n",
      " [[0.18490568 0.20566039 0.2135849  0.18075472 0.21641508]\n",
      " [0.18490568 0.20566039 0.2135849  0.18075472 0.21641508]\n",
      " [0.18490568 0.20566039 0.2135849  0.18075472 0.21641508]\n",
      " [0.18490568 0.20566039 0.2135849  0.18075472 0.21641508]\n",
      " [0.18490568 0.20566039 0.2135849  0.18075472 0.21641508]\n",
      " [0.18490568 0.20566039 0.2135849  0.18075472 0.21641508]]\n",
      "Mean Squared Error: 0.0016654065386174275\n"
     ]
    },
    {
     "name": "stderr",
     "output_type": "stream",
     "text": [
      "D:\\anacondafolder\\envs\\testenv\\lib\\site-packages\\sklearn\\metrics\\_regression.py:95: FutureWarning: Arrays of bytes/strings is being converted to decimal numbers if dtype='numeric'. This behavior is deprecated in 0.24 and will be removed in 1.1 (renaming of 0.26). Please convert your data to numeric values explicitly instead.\n",
      "  y_true = check_array(y_true, ensure_2d=False, dtype=dtype)\n"
     ]
    }
   ],
   "source": [
    "from sklearn.linear_model import Lasso\n",
    "from sklearn.metrics import mean_squared_error\n",
    "# Create a Lasso regression model with regularization strength (alpha) set to 1.0\n",
    "lasso_model = Lasso(alpha=0.5)\n",
    "\n",
    "# Train the model\n",
    "lasso_model.fit(x_train, y_train)\n",
    "\n",
    "# Predictions\n",
    "y_pred = lasso_model.predict(x_test)\n",
    "# Print the predictions\n",
    "print(\"Predictions:\\n\", y_pred)\n",
    "mse = mean_squared_error(y_test, y_pred)\n",
    "print(\"Mean Squared Error:\", mse)"
   ]
  },
  {
   "cell_type": "code",
   "execution_count": 72,
   "id": "0bad6f0d",
   "metadata": {},
   "outputs": [],
   "source": [
    "from sklearn.model_selection import train_test_split\n",
    "x_train, x_test, y_train, y_test = train_test_split(padded_sequences, padded_y, test_size=0.1, random_state=42)"
   ]
  },
  {
   "cell_type": "code",
   "execution_count": 73,
   "id": "8b931e66",
   "metadata": {},
   "outputs": [
    {
     "name": "stdout",
     "output_type": "stream",
     "text": [
      "Predictions after applying sigmoid:\n",
      " [[0.5464284  0.5516897  0.55261695 0.5458087  0.55292594]\n",
      " [0.54487693 0.54838336 0.56851435 0.541001   0.54809755]\n",
      " [0.53601027 0.55088574 0.5917594  0.5252817  0.54565966]\n",
      " [0.562377   0.5462914  0.53495014 0.55429167 0.5533119 ]\n",
      " [0.55984807 0.55288225 0.5379358  0.51512253 0.5849682 ]\n",
      " [0.5533969  0.5410319  0.56646943 0.55094284 0.5323364 ]]\n",
      "Mean Squared Error: 0.12498101270506956\n"
     ]
    }
   ],
   "source": [
    "import numpy as np\n",
    "#from sklearn.multioutput import MultiOutputRegressor\n",
    "from sklearn.linear_model import LinearRegression\n",
    "from sklearn.metrics import mean_squared_error\n",
    "\n",
    "# Assuming x_train, y_train, x_test, and y_test are already defined and loaded\n",
    "\n",
    "# Fit the multioutput regressor to the training data\n",
    "model = LinearRegression()\n",
    "model.fit(x_train, y_train)\n",
    "\n",
    "# Predict using the fitted model\n",
    "y_pred = model.predict(x_test)\n",
    "\n",
    "# Apply sigmoid function to the predictions\n",
    "def sigmoid(x):\n",
    "    return 1 / (1 + np.exp(-x))\n",
    "\n",
    "y_pred_sigmoid = sigmoid(y_pred)\n",
    "\n",
    "# Print the predictions\n",
    "print(\"Predictions after applying sigmoid:\\n\", y_pred_sigmoid)\n",
    "y_test = np.array(y_test, dtype=float)\n",
    "#print(y_test)\n",
    "mse = mean_squared_error(y_test, y_pred_sigmoid)\n",
    "print(\"Mean Squared Error:\", mse)"
   ]
  },
  {
   "cell_type": "code",
   "execution_count": 74,
   "id": "7a6c88e1",
   "metadata": {},
   "outputs": [],
   "source": [
    "from sklearn.model_selection import train_test_split\n",
    "x_train, x_test, y_train, y_test = train_test_split(padded_sequences, padded_y, test_size=0.1, random_state=42)"
   ]
  },
  {
   "cell_type": "code",
   "execution_count": 75,
   "id": "ba3495f4",
   "metadata": {},
   "outputs": [
    {
     "name": "stdout",
     "output_type": "stream",
     "text": [
      "Predictions after applying sigmoid:\n",
      " [[5.4793280e-01 5.4703689e-01 5.5759311e-01 5.5002207e-01 5.4762661e-01]\n",
      " [1.0000000e+00 0.0000000e+00 1.0000000e+00 1.0000000e+00 0.0000000e+00]\n",
      " [9.9966073e-01 2.0489241e-09 1.0000000e+00 1.0000000e+00 2.4903213e-13]\n",
      " [1.0000000e+00 8.5187808e-37 1.0000000e+00 1.0000000e+00 0.0000000e+00]\n",
      " [6.3593062e-03 9.9999905e-01 6.1844395e-07 2.7965407e-06 1.0000000e+00]\n",
      " [9.9483407e-01 2.6499347e-06 9.9999917e-01 9.9999630e-01 7.9452160e-09]]\n",
      "Mean Squared Error: 0.3377645429005424\n"
     ]
    },
    {
     "name": "stderr",
     "output_type": "stream",
     "text": [
      "D:\\anacondafolder\\envs\\testenv\\lib\\site-packages\\ipykernel_launcher.py:8: RuntimeWarning: overflow encountered in exp\n",
      "  \n"
     ]
    }
   ],
   "source": [
    "import numpy as np\n",
    "#from sklearn.multioutput import MultiOutputRegressor\n",
    "from sklearn.linear_model import LinearRegression\n",
    "from sklearn.preprocessing import PolynomialFeatures\n",
    "from sklearn.metrics import mean_squared_error\n",
    "\n",
    "def sigmoid(x):\n",
    "    return 1 / (1 + np.exp(-x))\n",
    "\n",
    "y_train = np.array(y_train, dtype=float)\n",
    "\n",
    "# Transform the input features to polynomial features\n",
    "poly = PolynomialFeatures(degree=2)\n",
    "x_train_poly = poly.fit_transform(x_train)\n",
    "x_test_poly = poly.transform(x_test)\n",
    "\n",
    "# Fit the multioutput regressor to the transformed training data\n",
    "model1 = LinearRegression()\n",
    "model1.fit(x_train_poly, y_train)\n",
    "\n",
    "# Predict using the fitted model on the transformed test data\n",
    "y_pred = model1.predict(x_test_poly)\n",
    "y_pred_sigmoid = sigmoid(y_pred)\n",
    "\n",
    "# Print the predictions\n",
    "print(\"Predictions after applying sigmoid:\\n\", y_pred_sigmoid)\n",
    "\n",
    "# Evaluate the model\n",
    "y_test = np.array(y_test, dtype=float)\n",
    "mse = mean_squared_error(y_test, y_pred_sigmoid)\n",
    "print(\"Mean Squared Error:\", mse)"
   ]
  },
  {
   "cell_type": "code",
   "execution_count": 76,
   "id": "4b48c819",
   "metadata": {},
   "outputs": [],
   "source": [
    "from sklearn.ensemble import RandomForestRegressor\n",
    "X_train, X_test, y_train, y_test = train_test_split(padded_sequences, padded_y, test_size=0.1, random_state=42)"
   ]
  },
  {
   "cell_type": "code",
   "execution_count": 77,
   "id": "3fa8e8e6",
   "metadata": {},
   "outputs": [
    {
     "name": "stdout",
     "output_type": "stream",
     "text": [
      "Random Forest Regressor MSE: 0.0018165241791800704\n"
     ]
    },
    {
     "name": "stderr",
     "output_type": "stream",
     "text": [
      "D:\\anacondafolder\\envs\\testenv\\lib\\site-packages\\sklearn\\metrics\\_regression.py:95: FutureWarning: Arrays of bytes/strings is being converted to decimal numbers if dtype='numeric'. This behavior is deprecated in 0.24 and will be removed in 1.1 (renaming of 0.26). Please convert your data to numeric values explicitly instead.\n",
      "  y_true = check_array(y_true, ensure_2d=False, dtype=dtype)\n"
     ]
    }
   ],
   "source": [
    "# Random Forest Regressor\n",
    "rf_model = RandomForestRegressor(n_estimators=100, random_state=42)\n",
    "rf_model.fit(X_train, y_train)\n",
    "y_pred_rf = rf_model.predict(X_test)\n",
    "rf_mse = mean_squared_error(y_test, y_pred_rf)\n",
    "print(f\"Random Forest Regressor MSE: {rf_mse}\")"
   ]
  },
  {
   "cell_type": "markdown",
   "id": "c5d9e2e5",
   "metadata": {},
   "source": [
    "# new prediction"
   ]
  },
  {
   "cell_type": "code",
   "execution_count": 78,
   "id": "58c8649d",
   "metadata": {},
   "outputs": [],
   "source": [
    "import pickle\n",
    "import os\n",
    "import base64\n",
    "\n",
    "file_path = r'D:\\new_post.pickle'\n",
    "with open(file_path, 'rb') as f:\n",
    "    encoded_data = f.read()\n",
    "\n",
    "# Decode the Base64-encoded data\n",
    "decoded_bytes = base64.b64decode(encoded_data)\n",
    "\n",
    "# Deserialize the object using pickle\n",
    "img_dict = pickle.loads(decoded_bytes)\n",
    "#print(img_dict.keys())\n",
    "x=img_dict['x']\n",
    "y=img_dict['y']"
   ]
  },
  {
   "cell_type": "code",
   "execution_count": 79,
   "id": "060a9145",
   "metadata": {},
   "outputs": [],
   "source": [
    "import numpy as np\n",
    "from tensorflow.keras.preprocessing.sequence import pad_sequences\n",
    "\n",
    "sequences = x\n",
    "padded_x = pad_sequences(sequences, maxlen=500, padding='post', dtype='float32')"
   ]
  },
  {
   "cell_type": "code",
   "execution_count": 80,
   "id": "7afc87fc",
   "metadata": {},
   "outputs": [
    {
     "data": {
      "text/plain": [
       "array(['0.18', '0.21', '0.23', '0.14', '0.25'], dtype='<U4')"
      ]
     },
     "execution_count": 80,
     "metadata": {},
     "output_type": "execute_result"
    }
   ],
   "source": [
    "padded_y=np.array(y[10])\n",
    "padded_y"
   ]
  },
  {
   "cell_type": "code",
   "execution_count": 81,
   "id": "ad15dac2",
   "metadata": {},
   "outputs": [
    {
     "name": "stdout",
     "output_type": "stream",
     "text": [
      "Predictions:\n",
      " [[0.18234211 0.20636892 0.21268255 0.18197294 0.21697119]]\n"
     ]
    }
   ],
   "source": [
    "reshaped_data = padded_x[10].reshape(1, -1)\n",
    "y_pred = ridge_model.predict(reshaped_data)\n",
    "\n",
    "# Print the predictions\n",
    "print(\"Predictions:\\n\", y_pred)"
   ]
  },
  {
   "cell_type": "code",
   "execution_count": 82,
   "id": "02e5862a",
   "metadata": {},
   "outputs": [
    {
     "name": "stdout",
     "output_type": "stream",
     "text": [
      "Mean Squared Error: 0.0006342388317382275\n"
     ]
    },
    {
     "name": "stderr",
     "output_type": "stream",
     "text": [
      "D:\\anacondafolder\\envs\\testenv\\lib\\site-packages\\sklearn\\metrics\\_regression.py:95: FutureWarning: Arrays of bytes/strings is being converted to decimal numbers if dtype='numeric'. This behavior is deprecated in 0.24 and will be removed in 1.1 (renaming of 0.26). Please convert your data to numeric values explicitly instead.\n",
      "  y_true = check_array(y_true, ensure_2d=False, dtype=dtype)\n"
     ]
    }
   ],
   "source": [
    "from sklearn.metrics import mean_squared_error\n",
    "reshaped_y = padded_y.reshape(1,-1)\n",
    "mse = mean_squared_error(reshaped_y, y_pred)\n",
    "print(\"Mean Squared Error:\", mse)"
   ]
  },
  {
   "cell_type": "code",
   "execution_count": null,
   "id": "8aee3b2e",
   "metadata": {},
   "outputs": [],
   "source": []
  }
 ],
 "metadata": {
  "kernelspec": {
   "display_name": "Python 3 (ipykernel)",
   "language": "python",
   "name": "python3"
  },
  "language_info": {
   "codemirror_mode": {
    "name": "ipython",
    "version": 3
   },
   "file_extension": ".py",
   "mimetype": "text/x-python",
   "name": "python",
   "nbconvert_exporter": "python",
   "pygments_lexer": "ipython3",
   "version": "3.7.12"
  }
 },
 "nbformat": 4,
 "nbformat_minor": 5
}
