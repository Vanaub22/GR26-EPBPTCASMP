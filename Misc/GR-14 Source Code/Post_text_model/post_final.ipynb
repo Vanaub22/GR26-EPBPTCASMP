{
 "cells": [
  {
   "cell_type": "code",
   "execution_count": 1,
   "id": "20ed7374",
   "metadata": {},
   "outputs": [],
   "source": [
    "import pickle\n",
    "import os\n",
    "import base64\n",
    "\n",
    "file_path = r'D:\\data_post.pickle'\n",
    "with open(file_path, 'rb') as f:\n",
    "    encoded_data = f.read()\n",
    "\n",
    "# Decode the Base64-encoded data\n",
    "decoded_bytes = base64.b64decode(encoded_data)\n",
    "\n",
    "# Deserialize the object using pickle\n",
    "img_dict = pickle.loads(decoded_bytes)\n",
    "x=img_dict['x']\n",
    "y=img_dict['y']"
   ]
  },
  {
   "cell_type": "code",
   "execution_count": 2,
   "id": "3f583b39",
   "metadata": {},
   "outputs": [
    {
     "name": "stderr",
     "output_type": "stream",
     "text": [
      "D:\\anacondafolder\\envs\\testenv\\lib\\site-packages\\tensorflow\\python\\framework\\dtypes.py:516: FutureWarning: Passing (type, 1) or '1type' as a synonym of type is deprecated; in a future version of numpy, it will be understood as (type, (1,)) / '(1,)type'.\n",
      "  _np_qint8 = np.dtype([(\"qint8\", np.int8, 1)])\n",
      "D:\\anacondafolder\\envs\\testenv\\lib\\site-packages\\tensorflow\\python\\framework\\dtypes.py:517: FutureWarning: Passing (type, 1) or '1type' as a synonym of type is deprecated; in a future version of numpy, it will be understood as (type, (1,)) / '(1,)type'.\n",
      "  _np_quint8 = np.dtype([(\"quint8\", np.uint8, 1)])\n",
      "D:\\anacondafolder\\envs\\testenv\\lib\\site-packages\\tensorflow\\python\\framework\\dtypes.py:518: FutureWarning: Passing (type, 1) or '1type' as a synonym of type is deprecated; in a future version of numpy, it will be understood as (type, (1,)) / '(1,)type'.\n",
      "  _np_qint16 = np.dtype([(\"qint16\", np.int16, 1)])\n",
      "D:\\anacondafolder\\envs\\testenv\\lib\\site-packages\\tensorflow\\python\\framework\\dtypes.py:519: FutureWarning: Passing (type, 1) or '1type' as a synonym of type is deprecated; in a future version of numpy, it will be understood as (type, (1,)) / '(1,)type'.\n",
      "  _np_quint16 = np.dtype([(\"quint16\", np.uint16, 1)])\n",
      "D:\\anacondafolder\\envs\\testenv\\lib\\site-packages\\tensorflow\\python\\framework\\dtypes.py:520: FutureWarning: Passing (type, 1) or '1type' as a synonym of type is deprecated; in a future version of numpy, it will be understood as (type, (1,)) / '(1,)type'.\n",
      "  _np_qint32 = np.dtype([(\"qint32\", np.int32, 1)])\n",
      "D:\\anacondafolder\\envs\\testenv\\lib\\site-packages\\tensorflow\\python\\framework\\dtypes.py:525: FutureWarning: Passing (type, 1) or '1type' as a synonym of type is deprecated; in a future version of numpy, it will be understood as (type, (1,)) / '(1,)type'.\n",
      "  np_resource = np.dtype([(\"resource\", np.ubyte, 1)])\n",
      "D:\\anacondafolder\\envs\\testenv\\lib\\site-packages\\tensorboard\\compat\\tensorflow_stub\\dtypes.py:541: FutureWarning: Passing (type, 1) or '1type' as a synonym of type is deprecated; in a future version of numpy, it will be understood as (type, (1,)) / '(1,)type'.\n",
      "  _np_qint8 = np.dtype([(\"qint8\", np.int8, 1)])\n",
      "D:\\anacondafolder\\envs\\testenv\\lib\\site-packages\\tensorboard\\compat\\tensorflow_stub\\dtypes.py:542: FutureWarning: Passing (type, 1) or '1type' as a synonym of type is deprecated; in a future version of numpy, it will be understood as (type, (1,)) / '(1,)type'.\n",
      "  _np_quint8 = np.dtype([(\"quint8\", np.uint8, 1)])\n",
      "D:\\anacondafolder\\envs\\testenv\\lib\\site-packages\\tensorboard\\compat\\tensorflow_stub\\dtypes.py:543: FutureWarning: Passing (type, 1) or '1type' as a synonym of type is deprecated; in a future version of numpy, it will be understood as (type, (1,)) / '(1,)type'.\n",
      "  _np_qint16 = np.dtype([(\"qint16\", np.int16, 1)])\n",
      "D:\\anacondafolder\\envs\\testenv\\lib\\site-packages\\tensorboard\\compat\\tensorflow_stub\\dtypes.py:544: FutureWarning: Passing (type, 1) or '1type' as a synonym of type is deprecated; in a future version of numpy, it will be understood as (type, (1,)) / '(1,)type'.\n",
      "  _np_quint16 = np.dtype([(\"quint16\", np.uint16, 1)])\n",
      "D:\\anacondafolder\\envs\\testenv\\lib\\site-packages\\tensorboard\\compat\\tensorflow_stub\\dtypes.py:545: FutureWarning: Passing (type, 1) or '1type' as a synonym of type is deprecated; in a future version of numpy, it will be understood as (type, (1,)) / '(1,)type'.\n",
      "  _np_qint32 = np.dtype([(\"qint32\", np.int32, 1)])\n",
      "D:\\anacondafolder\\envs\\testenv\\lib\\site-packages\\tensorboard\\compat\\tensorflow_stub\\dtypes.py:550: FutureWarning: Passing (type, 1) or '1type' as a synonym of type is deprecated; in a future version of numpy, it will be understood as (type, (1,)) / '(1,)type'.\n",
      "  np_resource = np.dtype([(\"resource\", np.ubyte, 1)])\n"
     ]
    }
   ],
   "source": [
    "import numpy as np\n",
    "from tensorflow.keras.preprocessing.sequence import pad_sequences\n",
    "\n",
    "sequences = x\n",
    "padded_sequences = pad_sequences(sequences, maxlen=300, padding='post', dtype='float32')\n",
    "\n",
    "#print(\"Padded sequences:\\n\", padded_sequences)\n",
    "#padded_sequences"
   ]
  },
  {
   "cell_type": "code",
   "execution_count": 36,
   "id": "fdfaee9a",
   "metadata": {},
   "outputs": [],
   "source": [
    "#padded_sequences.shape"
   ]
  },
  {
   "cell_type": "code",
   "execution_count": 4,
   "id": "3137c1c4",
   "metadata": {},
   "outputs": [],
   "source": [
    "padded_y=np.array(y)\n",
    "#padded_y.shape"
   ]
  },
  {
   "cell_type": "code",
   "execution_count": 17,
   "id": "b25d2008",
   "metadata": {},
   "outputs": [
    {
     "name": "stdout",
     "output_type": "stream",
     "text": [
      "Predictions:\n",
      " [[0.18046862 0.20702183 0.21665756 0.17968358 0.21716894]\n",
      " [0.18048353 0.20705554 0.21661182 0.17966247 0.2171543 ]\n",
      " [0.18044749 0.20699997 0.21664576 0.17977376 0.21712022]\n",
      " [0.18050095 0.2070298  0.21665747 0.17958908 0.2172106 ]\n",
      " [0.18048409 0.20700692 0.21664983 0.17969361 0.21716273]\n",
      " [0.18046471 0.207012   0.21668056 0.17969313 0.21715297]\n",
      " [0.1804883  0.20701382 0.21665123 0.17966282 0.21717726]\n",
      " [0.18046862 0.20702183 0.21665756 0.17968358 0.21716894]\n",
      " [0.18047819 0.20695251 0.21663304 0.17977229 0.21715409]\n",
      " [0.18049923 0.20697393 0.21661672 0.17974047 0.21715873]\n",
      " [0.18050934 0.20698917 0.21662764 0.17972195 0.21714756]\n",
      " [0.18048528 0.20704375 0.2166445  0.17967854 0.21715096]\n",
      " [0.18048586 0.20701824 0.21662797 0.17969999 0.21716169]\n",
      " [0.18047126 0.20700294 0.21665242 0.1796997  0.2171574 ]\n",
      " [0.18046862 0.20702183 0.21665756 0.17968358 0.21716894]\n",
      " [0.18054141 0.206999   0.21658708 0.17966874 0.21719334]\n",
      " [0.1804812  0.207035   0.21664357 0.17965965 0.21717735]\n",
      " [0.18052617 0.20698321 0.21662557 0.17970574 0.21716169]\n",
      " [0.18045023 0.20697667 0.21672976 0.17969364 0.21716055]\n",
      " [0.1804901  0.20696127 0.21658956 0.17973524 0.21722288]\n",
      " [0.18046862 0.20702183 0.21665756 0.17968358 0.21716894]\n",
      " [0.18045601 0.20702903 0.21665905 0.17967738 0.21718323]\n",
      " [0.18058456 0.20695628 0.21662693 0.17965084 0.21715972]\n",
      " [0.18047611 0.20698729 0.21670206 0.17965597 0.21718311]\n",
      " [0.18048316 0.20702761 0.21666057 0.17964864 0.21717641]\n",
      " [0.18047705 0.20703262 0.21667075 0.17962886 0.21719213]\n",
      " [0.18048346 0.20704415 0.21672834 0.17953314 0.21722968]\n",
      " [0.18048558 0.20703222 0.21665525 0.17966779 0.21715833]\n",
      " [0.1803764  0.20704344 0.21666034 0.17977928 0.21716003]\n",
      " [0.18046862 0.20702183 0.21665756 0.17968358 0.21716894]]\n",
      "Predictions:\n",
      " [[0.183033   0.20384087 0.21465753 0.17961857 0.21884193]\n",
      " [0.18299754 0.2038714  0.2146687  0.17966662 0.21883257]\n",
      " [0.18292361 0.20387939 0.21470656 0.1796715  0.21882404]\n",
      " [0.18302198 0.20385356 0.21465215 0.17967306 0.21881077]\n",
      " [0.1829966  0.20382856 0.21467383 0.17967427 0.21883112]\n",
      " [0.1830443  0.20381941 0.21464919 0.17967682 0.21882349]\n",
      " [0.18305345 0.20380078 0.21464537 0.17978454 0.21874204]\n",
      " [0.18306217 0.20381609 0.21465476 0.17967626 0.2187827 ]\n",
      " [0.1830147  0.20383252 0.21465777 0.17967232 0.21881935]\n",
      " [0.1830311  0.20383035 0.21467811 0.1797061  0.21877046]\n",
      " [0.18307957 0.20382494 0.2146751  0.17962538 0.21879362]\n",
      " [0.18296935 0.20387135 0.21465607 0.17968176 0.21883684]\n",
      " [0.18303621 0.20379405 0.21466349 0.17961432 0.21888539]\n",
      " [0.18301105 0.20384383 0.21465367 0.17966725 0.2188266 ]\n",
      " [0.18306354 0.20382549 0.2146481  0.1797198  0.218755  ]\n",
      " [0.18293433 0.20391193 0.21474354 0.17963614 0.21877185]\n",
      " [0.18302618 0.2038137  0.21463515 0.17973958 0.21878654]\n",
      " [0.1830263  0.20382924 0.21465954 0.17965832 0.21882673]\n",
      " [0.18299694 0.20383221 0.21467942 0.17968427 0.21881945]\n",
      " [0.18299527 0.20384534 0.21469693 0.17963749 0.2188286 ]\n",
      " [0.1830889  0.20381051 0.21466486 0.17966938 0.21878617]\n",
      " [0.18304141 0.20376864 0.21462564 0.17972055 0.21883981]\n",
      " [0.18298548 0.2038156  0.21470357 0.17963697 0.21887842]\n",
      " [0.18299419 0.20384575 0.21467954 0.17964473 0.21883059]\n",
      " [0.18303971 0.20379624 0.21465197 0.17963395 0.21886778]\n",
      " [0.18305531 0.20382196 0.21464175 0.17966443 0.21880636]\n",
      " [0.18300061 0.20385885 0.21467073 0.17965275 0.21882613]\n",
      " [0.18296728 0.2038648  0.21467887 0.17967676 0.21880792]\n",
      " [0.18301105 0.20384383 0.21465367 0.17966725 0.2188266 ]\n",
      " [0.18301105 0.20384383 0.21465367 0.17966725 0.2188266 ]]\n",
      "Predictions:\n",
      " [[0.18013382 0.20588496 0.21802063 0.17630269 0.21899605]\n",
      " [0.1801366  0.20587656 0.21802175 0.1763192  0.21898557]\n",
      " [0.18017587 0.20583978 0.21799237 0.17632    0.21900587]\n",
      " [0.180155   0.20586413 0.2180033  0.17631905 0.21899639]\n",
      " [0.18017359 0.20585933 0.2179641  0.17632388 0.21900806]\n",
      " [0.1801527  0.20586403 0.21800452 0.17631523 0.21900044]\n",
      " [0.18015939 0.2058579  0.21800044 0.1763301  0.21898717]\n",
      " [0.18017587 0.20585036 0.21796875 0.176354   0.21897994]\n",
      " [0.180149   0.20584439 0.21798907 0.17635363 0.21898948]\n",
      " [0.18022896 0.205883   0.21799947 0.17623676 0.21900289]\n",
      " [0.1802111  0.20578676 0.21797392 0.17633155 0.21902128]\n",
      " [0.18013714 0.20587023 0.21799162 0.17630063 0.2190275 ]\n",
      " [0.18015638 0.20587172 0.21801184 0.17631039 0.21899168]\n",
      " [0.18012814 0.20586173 0.21801281 0.17628145 0.21906368]\n",
      " [0.18015434 0.2057932  0.21791834 0.17642236 0.2190343 ]\n",
      " [0.18014535 0.20582077 0.21794473 0.17644618 0.21896075]\n",
      " [0.1801065  0.20587368 0.21804386 0.17630757 0.21902266]\n",
      " [0.18017206 0.20585619 0.21799326 0.17632802 0.21899073]\n",
      " [0.18016033 0.2058395  0.21797527 0.17636335 0.21898718]\n",
      " [0.18013006 0.2058802  0.21804963 0.17627545 0.21902584]\n",
      " [0.180188   0.20585725 0.2179952  0.17630827 0.21899524]\n",
      " [0.180155   0.20586413 0.2180033  0.17631905 0.21899639]\n",
      " [0.180155   0.20586413 0.2180033  0.17631905 0.21899639]\n",
      " [0.18016908 0.20585296 0.21798888 0.1763486  0.21898484]\n",
      " [0.18019755 0.20581886 0.21796937 0.17633852 0.21899323]\n",
      " [0.18013716 0.20588729 0.21805549 0.17628649 0.21897286]\n",
      " [0.18008886 0.2059214  0.21803413 0.17626114 0.21902889]\n",
      " [0.18024307 0.20580496 0.21798529 0.17637803 0.21891439]\n",
      " [0.1802044  0.20587589 0.2180019  0.17629659 0.21897726]\n",
      " [0.18021837 0.20585364 0.21800071 0.17628722 0.21896985]]\n",
      "Mean MSE across 3-fold CV: 0.000864 ± 0.000158\n"
     ]
    },
    {
     "name": "stderr",
     "output_type": "stream",
     "text": [
      "D:\\anacondafolder\\envs\\testenv\\lib\\site-packages\\sklearn\\metrics\\_regression.py:95: FutureWarning: Arrays of bytes/strings is being converted to decimal numbers if dtype='numeric'. This behavior is deprecated in 0.24 and will be removed in 1.1 (renaming of 0.26). Please convert your data to numeric values explicitly instead.\n",
      "  y_true = check_array(y_true, ensure_2d=False, dtype=dtype)\n",
      "D:\\anacondafolder\\envs\\testenv\\lib\\site-packages\\sklearn\\metrics\\_regression.py:95: FutureWarning: Arrays of bytes/strings is being converted to decimal numbers if dtype='numeric'. This behavior is deprecated in 0.24 and will be removed in 1.1 (renaming of 0.26). Please convert your data to numeric values explicitly instead.\n",
      "  y_true = check_array(y_true, ensure_2d=False, dtype=dtype)\n",
      "D:\\anacondafolder\\envs\\testenv\\lib\\site-packages\\sklearn\\metrics\\_regression.py:95: FutureWarning: Arrays of bytes/strings is being converted to decimal numbers if dtype='numeric'. This behavior is deprecated in 0.24 and will be removed in 1.1 (renaming of 0.26). Please convert your data to numeric values explicitly instead.\n",
      "  y_true = check_array(y_true, ensure_2d=False, dtype=dtype)\n"
     ]
    }
   ],
   "source": [
    "from sklearn.model_selection import KFold\n",
    "from sklearn.linear_model import Ridge\n",
    "from sklearn.metrics import mean_squared_error\n",
    "# Define the number of folds for cross-validation\n",
    "k = 3\n",
    "\n",
    "# Initialize lists to store performance metrics across folds\n",
    "mse_scores = []\n",
    "r2_scores = []\n",
    "\n",
    "# Create a Ridge regression model\n",
    "ridge_model = Ridge(alpha=1.0)  # You can adjust alpha as needed\n",
    "\n",
    "# Create a KFold object\n",
    "kf = KFold(n_splits=k, shuffle=True, random_state=42)\n",
    "\n",
    "# Perform k-fold cross-validation\n",
    "for train_index, test_index in kf.split(padded_sequences):\n",
    "    x_train, x_test = padded_sequences[train_index], padded_sequences[test_index]\n",
    "    y_train, y_test = padded_y[train_index], padded_y[test_index]\n",
    "    \n",
    "    # Fit the model on the training data\n",
    "    ridge_model.fit(x_train, y_train)\n",
    "    \n",
    "    # Predict on the test data\n",
    "    y_pred = ridge_model.predict(x_test)\n",
    "    print(\"Predictions:\\n\", y_pred)\n",
    "    # Calculate performance metrics\n",
    "    mse = mean_squared_error(y_test, y_pred)\n",
    "    \n",
    "    \n",
    "    # Append scores to lists\n",
    "    mse_scores.append(mse)\n",
    "    \n",
    "\n",
    "# Calculate mean and standard deviation of scores across folds\n",
    "mean_mse = np.mean(mse_scores)\n",
    "std_mse = np.std(mse_scores)\n",
    "\n",
    "print(f\"Mean MSE across {k}-fold CV: {mean_mse:.6f} ± {std_mse:.6f}\")"
   ]
  },
  {
   "cell_type": "code",
   "execution_count": 39,
   "id": "dc2c0f81",
   "metadata": {},
   "outputs": [],
   "source": [
    "from sklearn.model_selection import train_test_split\n",
    "x_train, x_test, y_train, y_test = train_test_split(padded_sequences, padded_y, test_size=0.1, random_state=42)"
   ]
  },
  {
   "cell_type": "code",
   "execution_count": 48,
   "id": "e4a7fa4f",
   "metadata": {},
   "outputs": [
    {
     "name": "stdout",
     "output_type": "stream",
     "text": [
      "Predictions:\n",
      " [[0.18146513 0.20508587 0.21728371 0.17839393 0.2177751 ]\n",
      " [0.1814786  0.20507976 0.21727331 0.17838481 0.21778117]\n",
      " [0.1815268  0.2050365  0.21724401 0.17843072 0.21776949]\n",
      " [0.18147396 0.20509529 0.21728846 0.17836978 0.21777335]\n",
      " [0.18146513 0.20508587 0.21728371 0.17839393 0.2177751 ]\n",
      " [0.18146513 0.20508587 0.21728371 0.17839393 0.2177751 ]\n",
      " [0.18143637 0.20505457 0.21727002 0.17846271 0.21775822]\n",
      " [0.18146513 0.20508587 0.21728371 0.17839393 0.2177751 ]\n",
      " [0.18143786 0.2050523  0.217257   0.17848964 0.21775946]]\n",
      "Mean Squared Error: 0.000955469626995157\n"
     ]
    }
   ],
   "source": [
    "from sklearn.linear_model import Ridge\n",
    "from sklearn.metrics import mean_squared_error\n",
    "# Create a Ridge regression model with regularization strength (alpha) set to 1.0\n",
    "ridge_model1 = Ridge(alpha=1.0)\n",
    "\n",
    "# Train the model\n",
    "ridge_model1.fit(x_train, y_train)\n",
    "\n",
    "# Predictions\n",
    "y_pred = ridge_model1.predict(x_test)\n",
    "\n",
    "# Print the predictions\n",
    "print(\"Predictions:\\n\", y_pred)\n",
    "y_test = np.array(y_test, dtype=float)\n",
    "#print(y_test)\n",
    "mse = mean_squared_error(y_test, y_pred)\n",
    "print(\"Mean Squared Error:\", mse)"
   ]
  },
  {
   "cell_type": "code",
   "execution_count": 5,
   "id": "0bad6f0d",
   "metadata": {},
   "outputs": [],
   "source": [
    "from sklearn.model_selection import train_test_split\n",
    "x_train, x_test, y_train, y_test = train_test_split(padded_sequences, padded_y, test_size=0.1, random_state=42)"
   ]
  },
  {
   "cell_type": "code",
   "execution_count": 6,
   "id": "8b931e66",
   "metadata": {},
   "outputs": [
    {
     "name": "stdout",
     "output_type": "stream",
     "text": [
      "Predictions after applying sigmoid:\n",
      " [[5.4131484e-01 5.5298883e-01 5.5299795e-01 5.4464549e-01 5.5719888e-01]\n",
      " [6.6749772e-06 5.8979374e-08 4.5820805e-05 1.0000000e+00 3.1114752e-16]\n",
      " [1.0000000e+00 1.0000000e+00 1.0000000e+00 0.0000000e+00 1.0000000e+00]\n",
      " [5.2510572e-06 7.8746886e-08 8.0391932e-05 1.0000000e+00 7.8227257e-16]\n",
      " [5.4131484e-01 5.5298883e-01 5.5299795e-01 5.4464549e-01 5.5719888e-01]\n",
      " [5.4131484e-01 5.5298883e-01 5.5299795e-01 5.4464549e-01 5.5719888e-01]\n",
      " [9.0465753e-35 0.0000000e+00 9.7717188e-28 1.0000000e+00 0.0000000e+00]\n",
      " [5.4131484e-01 5.5298883e-01 5.5299795e-01 5.4464549e-01 5.5719888e-01]\n",
      " [0.0000000e+00 0.0000000e+00 4.2761083e-33 1.0000000e+00 0.0000000e+00]]\n",
      "Mean Squared Error: 0.18774054526812892\n"
     ]
    },
    {
     "name": "stderr",
     "output_type": "stream",
     "text": [
      "D:\\anacondafolder\\envs\\testenv\\lib\\site-packages\\ipykernel_launcher.py:17: RuntimeWarning: overflow encountered in exp\n",
      "  app.launch_new_instance()\n"
     ]
    }
   ],
   "source": [
    "import numpy as np\n",
    "#from sklearn.multioutput import MultiOutputRegressor\n",
    "from sklearn.linear_model import LinearRegression\n",
    "from sklearn.metrics import mean_squared_error\n",
    "\n",
    "# Assuming x_train, y_train, x_test, and y_test are already defined and loaded\n",
    "\n",
    "# Fit the multioutput regressor to the training data\n",
    "model = LinearRegression()\n",
    "model.fit(x_train, y_train)\n",
    "\n",
    "# Predict using the fitted model\n",
    "y_pred = model.predict(x_test)\n",
    "\n",
    "# Apply sigmoid function to the predictions\n",
    "def sigmoid(x):\n",
    "    return 1 / (1 + np.exp(-x))\n",
    "\n",
    "y_pred_sigmoid = sigmoid(y_pred)\n",
    "\n",
    "# Print the predictions\n",
    "print(\"Predictions after applying sigmoid:\\n\", y_pred_sigmoid)\n",
    "y_test = np.array(y_test, dtype=float)\n",
    "#print(y_test)\n",
    "mse = mean_squared_error(y_test, y_pred_sigmoid)\n",
    "print(\"Mean Squared Error:\", mse)"
   ]
  },
  {
   "cell_type": "code",
   "execution_count": 42,
   "id": "de27b9e1",
   "metadata": {},
   "outputs": [
    {
     "name": "stdout",
     "output_type": "stream",
     "text": [
      "Predictions after applying sigmoid:\n",
      " [[5.4131770e-01 5.5298644e-01 5.5300128e-01 5.4463226e-01 5.5720645e-01]\n",
      " [6.6735765e-06 5.8948096e-08 4.5798177e-05 1.0000000e+00 3.1063520e-16]\n",
      " [1.0000000e+00 1.0000000e+00 1.0000000e+00 0.0000000e+00 1.0000000e+00]\n",
      " [5.2503210e-06 7.8700637e-08 8.0357437e-05 1.0000000e+00 7.8137185e-16]\n",
      " [5.4131770e-01 5.5298644e-01 5.5300128e-01 5.4463226e-01 5.5720645e-01]\n",
      " [5.4131770e-01 5.5298644e-01 5.5300128e-01 5.4463226e-01 5.5720645e-01]\n",
      " [9.0369170e-35 0.0000000e+00 9.7414981e-28 1.0000000e+00 0.0000000e+00]\n",
      " [5.4131770e-01 5.5298644e-01 5.5300128e-01 5.4463226e-01 5.5720645e-01]\n",
      " [0.0000000e+00 0.0000000e+00 4.2608676e-33 1.0000000e+00 0.0000000e+00]]\n",
      "Mean Squared Error: 0.18774042311997732\n"
     ]
    },
    {
     "name": "stderr",
     "output_type": "stream",
     "text": [
      "D:\\anacondafolder\\envs\\testenv\\lib\\site-packages\\ipykernel_launcher.py:17: RuntimeWarning: overflow encountered in exp\n",
      "  app.launch_new_instance()\n"
     ]
    }
   ],
   "source": [
    "import numpy as np\n",
    "from sklearn.multioutput import MultiOutputRegressor\n",
    "from sklearn.linear_model import LinearRegression\n",
    "from sklearn.metrics import mean_squared_error\n",
    "\n",
    "# Assuming x_train, y_train, x_test, and y_test are already defined and loaded\n",
    "\n",
    "# Fit the multioutput regressor to the training data\n",
    "multioutput_model = MultiOutputRegressor(LinearRegression())\n",
    "multioutput_model.fit(x_train, y_train)\n",
    "\n",
    "# Predict using the fitted model\n",
    "y_pred = multioutput_model.predict(x_test)\n",
    "\n",
    "# Apply sigmoid function to the predictions\n",
    "def sigmoid(x):\n",
    "    return 1 / (1 + np.exp(-x))\n",
    "\n",
    "y_pred_sigmoid = sigmoid(y_pred)\n",
    "\n",
    "# Print the predictions\n",
    "print(\"Predictions after applying sigmoid:\\n\", y_pred_sigmoid)\n",
    "y_test = np.array(y_test, dtype=float)\n",
    "#print(y_test)\n",
    "mse = mean_squared_error(y_test, y_pred_sigmoid)\n",
    "print(\"Mean Squared Error:\", mse)"
   ]
  },
  {
   "cell_type": "code",
   "execution_count": 8,
   "id": "7a6c88e1",
   "metadata": {},
   "outputs": [],
   "source": [
    "from sklearn.model_selection import train_test_split\n",
    "x_train, x_test, y_train, y_test = train_test_split(padded_sequences, padded_y, test_size=0.1, random_state=42)"
   ]
  },
  {
   "cell_type": "code",
   "execution_count": 9,
   "id": "ba3495f4",
   "metadata": {},
   "outputs": [
    {
     "name": "stdout",
     "output_type": "stream",
     "text": [
      "Predictions after applying sigmoid:\n",
      " [[5.3072298e-01 5.4867351e-01 5.5380696e-01 5.5784535e-01 5.5726564e-01]\n",
      " [2.6001026e-23 5.8995397e-10 9.9073315e-01 1.0000000e+00 6.2954420e-01]\n",
      " [6.5809623e-17 2.0840361e-07 9.7089553e-01 1.0000000e+00 5.5673099e-01]\n",
      " [1.0000000e+00 1.0000000e+00 1.5690856e-07 0.0000000e+00 4.8465163e-01]\n",
      " [5.3072298e-01 5.4867351e-01 5.5380696e-01 5.5784535e-01 5.5726564e-01]\n",
      " [5.3072298e-01 5.4867351e-01 5.5380696e-01 5.5784535e-01 5.5726564e-01]\n",
      " [0.0000000e+00 0.0000000e+00 1.0000000e+00 1.0000000e+00 7.0350254e-01]\n",
      " [5.3072298e-01 5.4867351e-01 5.5380696e-01 5.5784535e-01 5.5726564e-01]\n",
      " [0.0000000e+00 0.0000000e+00 1.0000000e+00 1.0000000e+00 8.2643068e-01]]\n",
      "Mean Squared Error: 0.22834858335981897\n"
     ]
    },
    {
     "name": "stderr",
     "output_type": "stream",
     "text": [
      "D:\\anacondafolder\\envs\\testenv\\lib\\site-packages\\ipykernel_launcher.py:8: RuntimeWarning: overflow encountered in exp\n",
      "  \n"
     ]
    }
   ],
   "source": [
    "import numpy as np\n",
    "#from sklearn.multioutput import MultiOutputRegressor\n",
    "from sklearn.linear_model import LinearRegression\n",
    "from sklearn.preprocessing import PolynomialFeatures\n",
    "from sklearn.metrics import mean_squared_error\n",
    "\n",
    "def sigmoid(x):\n",
    "    return 1 / (1 + np.exp(-x))\n",
    "\n",
    "y_train = np.array(y_train, dtype=float)\n",
    "\n",
    "# Transform the input features to polynomial features\n",
    "poly = PolynomialFeatures(degree=2)\n",
    "x_train_poly = poly.fit_transform(x_train)\n",
    "x_test_poly = poly.transform(x_test)\n",
    "\n",
    "# Fit the multioutput regressor to the transformed training data\n",
    "model1 = LinearRegression()\n",
    "model1.fit(x_train_poly, y_train)\n",
    "\n",
    "# Predict using the fitted model on the transformed test data\n",
    "y_pred = model1.predict(x_test_poly)\n",
    "y_pred_sigmoid = sigmoid(y_pred)\n",
    "\n",
    "# Print the predictions\n",
    "print(\"Predictions after applying sigmoid:\\n\", y_pred_sigmoid)\n",
    "\n",
    "# Evaluate the model\n",
    "y_test = np.array(y_test, dtype=float)\n",
    "mse = mean_squared_error(y_test, y_pred_sigmoid)\n",
    "print(\"Mean Squared Error:\", mse)"
   ]
  },
  {
   "cell_type": "code",
   "execution_count": 44,
   "id": "5c46c68a",
   "metadata": {},
   "outputs": [
    {
     "name": "stdout",
     "output_type": "stream",
     "text": [
      "Predictions after applying sigmoid:\n",
      " [[5.3704137e-01 5.5133218e-01 5.5293202e-01 5.4189372e-01 5.5725527e-01]\n",
      " [2.5349155e-23 5.8650734e-10 9.9073642e-01 1.0000000e+00 6.2964207e-01]\n",
      " [6.6325777e-17 2.0759111e-07 9.7097474e-01 1.0000000e+00 5.5671781e-01]\n",
      " [1.0000000e+00 1.0000000e+00 1.5646863e-07 0.0000000e+00 4.8441058e-01]\n",
      " [5.3704137e-01 5.5133218e-01 5.5293202e-01 5.4189372e-01 5.5725527e-01]\n",
      " [5.3704137e-01 5.5133218e-01 5.5293202e-01 5.4189372e-01 5.5725527e-01]\n",
      " [0.0000000e+00 0.0000000e+00 1.0000000e+00 1.0000000e+00 7.0316821e-01]\n",
      " [5.3704137e-01 5.5133218e-01 5.5293202e-01 5.4189372e-01 5.5725527e-01]\n",
      " [0.0000000e+00 0.0000000e+00 1.0000000e+00 1.0000000e+00 8.2658827e-01]]\n",
      "Mean Squared Error: 0.22782644704603663\n"
     ]
    },
    {
     "name": "stderr",
     "output_type": "stream",
     "text": [
      "D:\\anacondafolder\\envs\\testenv\\lib\\site-packages\\ipykernel_launcher.py:8: RuntimeWarning: overflow encountered in exp\n",
      "  \n"
     ]
    }
   ],
   "source": [
    "import numpy as np\n",
    "from sklearn.multioutput import MultiOutputRegressor\n",
    "from sklearn.linear_model import LinearRegression\n",
    "from sklearn.preprocessing import PolynomialFeatures\n",
    "from sklearn.metrics import mean_squared_error\n",
    "\n",
    "def sigmoid(x):\n",
    "    return 1 / (1 + np.exp(-x))\n",
    "\n",
    "y_train = np.array(y_train, dtype=float)\n",
    "\n",
    "# Transform the input features to polynomial features\n",
    "poly = PolynomialFeatures(degree=2)\n",
    "x_train_poly = poly.fit_transform(x_train)\n",
    "x_test_poly = poly.transform(x_test)\n",
    "\n",
    "# Fit the multioutput regressor to the transformed training data\n",
    "multioutput_model = MultiOutputRegressor(LinearRegression())\n",
    "multioutput_model.fit(x_train_poly, y_train)\n",
    "\n",
    "# Predict using the fitted model on the transformed test data\n",
    "y_pred = multioutput_model.predict(x_test_poly)\n",
    "y_pred_sigmoid = sigmoid(y_pred)\n",
    "\n",
    "# Print the predictions\n",
    "print(\"Predictions after applying sigmoid:\\n\", y_pred_sigmoid)\n",
    "\n",
    "# Evaluate the model\n",
    "y_test = np.array(y_test, dtype=float)\n",
    "mse = mean_squared_error(y_test, y_pred_sigmoid)\n",
    "print(\"Mean Squared Error:\", mse)"
   ]
  },
  {
   "cell_type": "markdown",
   "id": "c5d9e2e5",
   "metadata": {},
   "source": [
    "# new prediction"
   ]
  },
  {
   "cell_type": "code",
   "execution_count": 24,
   "id": "58c8649d",
   "metadata": {},
   "outputs": [],
   "source": [
    "import pickle\n",
    "import os\n",
    "import base64\n",
    "\n",
    "file_path = r'D:\\new_post.pickle'\n",
    "with open(file_path, 'rb') as f:\n",
    "    encoded_data = f.read()\n",
    "\n",
    "# Decode the Base64-encoded data\n",
    "decoded_bytes = base64.b64decode(encoded_data)\n",
    "\n",
    "# Deserialize the object using pickle\n",
    "img_dict = pickle.loads(decoded_bytes)\n",
    "#print(img_dict.keys())\n",
    "x=img_dict['x']\n",
    "y=img_dict['y']"
   ]
  },
  {
   "cell_type": "code",
   "execution_count": 33,
   "id": "060a9145",
   "metadata": {},
   "outputs": [],
   "source": [
    "import numpy as np\n",
    "from tensorflow.keras.preprocessing.sequence import pad_sequences\n",
    "\n",
    "sequences = x\n",
    "padded_x = pad_sequences(sequences, maxlen=300, padding='post', dtype='float32')"
   ]
  },
  {
   "cell_type": "code",
   "execution_count": 35,
   "id": "7afc87fc",
   "metadata": {},
   "outputs": [
    {
     "data": {
      "text/plain": [
       "array(['0.18', '0.21', '0.23', '0.14', '0.25'], dtype='<U4')"
      ]
     },
     "execution_count": 35,
     "metadata": {},
     "output_type": "execute_result"
    }
   ],
   "source": [
    "padded_y=np.array(y[10])\n",
    "padded_y"
   ]
  },
  {
   "cell_type": "code",
   "execution_count": 32,
   "id": "ad15dac2",
   "metadata": {},
   "outputs": [
    {
     "name": "stdout",
     "output_type": "stream",
     "text": [
      "Predictions:\n",
      " [[0.18013708 0.20583625 0.21803221 0.17628355 0.2190747 ]]\n"
     ]
    }
   ],
   "source": [
    "reshaped_data = padded_x[10].reshape(1, -1)\n",
    "y_pred = ridge_model.predict(reshaped_data)\n",
    "\n",
    "# Print the predictions\n",
    "print(\"Predictions:\\n\", y_pred)"
   ]
  },
  {
   "cell_type": "code",
   "execution_count": 36,
   "id": "02e5862a",
   "metadata": {},
   "outputs": [
    {
     "name": "stdout",
     "output_type": "stream",
     "text": [
      "Mean Squared Error: 0.00048669084220117844\n"
     ]
    },
    {
     "name": "stderr",
     "output_type": "stream",
     "text": [
      "D:\\anacondafolder\\envs\\testenv\\lib\\site-packages\\sklearn\\metrics\\_regression.py:95: FutureWarning: Arrays of bytes/strings is being converted to decimal numbers if dtype='numeric'. This behavior is deprecated in 0.24 and will be removed in 1.1 (renaming of 0.26). Please convert your data to numeric values explicitly instead.\n",
      "  y_true = check_array(y_true, ensure_2d=False, dtype=dtype)\n"
     ]
    }
   ],
   "source": [
    "from sklearn.metrics import mean_squared_error\n",
    "reshaped_y = padded_y.reshape(1,-1)\n",
    "mse = mean_squared_error(reshaped_y, y_pred)\n",
    "print(\"Mean Squared Error:\", mse)"
   ]
  },
  {
   "cell_type": "code",
   "execution_count": null,
   "id": "8aee3b2e",
   "metadata": {},
   "outputs": [],
   "source": []
  }
 ],
 "metadata": {
  "kernelspec": {
   "display_name": "Python 3 (ipykernel)",
   "language": "python",
   "name": "python3"
  },
  "language_info": {
   "codemirror_mode": {
    "name": "ipython",
    "version": 3
   },
   "file_extension": ".py",
   "mimetype": "text/x-python",
   "name": "python",
   "nbconvert_exporter": "python",
   "pygments_lexer": "ipython3",
   "version": "3.7.12"
  }
 },
 "nbformat": 4,
 "nbformat_minor": 5
}
