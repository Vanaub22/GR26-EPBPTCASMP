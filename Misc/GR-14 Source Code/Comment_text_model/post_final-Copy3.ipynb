{
 "cells": [
  {
   "cell_type": "code",
   "execution_count": 1,
   "id": "20ed7374",
   "metadata": {},
   "outputs": [],
   "source": [
    "import pickle\n",
    "import os\n",
    "import base64\n",
    "\n",
    "file_path = r'D:\\LinkedInComment.pickle'\n",
    "with open(file_path, 'rb') as f:\n",
    "    encoded_data = f.read()\n",
    "\n",
    "# Decode the Base64-encoded data\n",
    "decoded_bytes = base64.b64decode(encoded_data)\n",
    "\n",
    "# Deserialize the object using pickle\n",
    "img_dict = pickle.loads(decoded_bytes)\n",
    "x=img_dict['x']\n",
    "y=img_dict['y']"
   ]
  },
  {
   "cell_type": "code",
   "execution_count": 36,
   "id": "3f583b39",
   "metadata": {},
   "outputs": [],
   "source": [
    "import numpy as np\n",
    "from tensorflow.keras.preprocessing.sequence import pad_sequences\n",
    "\n",
    "sequences = x\n",
    "padded_sequences = pad_sequences(sequences, maxlen=500, padding='post', dtype='float32')\n",
    "\n",
    "#print(\"Padded sequences:\\n\", padded_sequences)\n",
    "#padded_sequences"
   ]
  },
  {
   "cell_type": "code",
   "execution_count": 37,
   "id": "3137c1c4",
   "metadata": {},
   "outputs": [],
   "source": [
    "padded_y=np.array(y)\n",
    "#padded_y.shape"
   ]
  },
  {
   "cell_type": "code",
   "execution_count": 38,
   "id": "b25d2008",
   "metadata": {
    "scrolled": true
   },
   "outputs": [
    {
     "name": "stdout",
     "output_type": "stream",
     "text": [
      "Predictions:\n",
      " [[0.18553343 0.20482309 0.2138014  0.17999463 0.21722665]\n",
      " [0.18553257 0.20482165 0.21380284 0.17999707 0.21722531]\n",
      " [0.18553498 0.20481735 0.21380079 0.1800029  0.21722238]\n",
      " [0.18553345 0.20481959 0.21379732 0.18000478 0.21722296]\n",
      " [0.18553993 0.20482032 0.21379912 0.17999545 0.21722326]\n",
      " [0.18553749 0.20481953 0.21379516 0.1800019  0.21722147]\n",
      " [0.18553182 0.20482238 0.21380185 0.17999849 0.21722598]\n",
      " [0.18555304 0.2048263  0.21379942 0.17996466 0.2172347 ]\n",
      " [0.18553215 0.20481963 0.2138135  0.18000624 0.21721156]\n",
      " [0.18554235 0.20482671 0.21379995 0.17997621 0.2172334 ]\n",
      " [0.18551867 0.20483221 0.21380512 0.17999206 0.21723434]\n",
      " [0.18550155 0.20484728 0.21378574 0.17998084 0.21726759]\n",
      " [0.18555512 0.20481598 0.21380843 0.17998858 0.21721022]\n",
      " [0.18553993 0.20482032 0.21379912 0.17999545 0.21722326]\n",
      " [0.18553993 0.20482032 0.21379912 0.17999545 0.21722326]\n",
      " [0.18552993 0.20482923 0.2137983  0.17998378 0.21723823]\n",
      " [0.18553951 0.2048211  0.21379903 0.17999399 0.21722446]\n",
      " [0.18553993 0.20482032 0.21379912 0.17999545 0.21722326]\n",
      " [0.18551771 0.20482884 0.21379675 0.1800048  0.21723256]\n",
      " [0.1855298  0.20482776 0.2138032  0.1799895  0.21723054]\n",
      " [0.18553993 0.20482032 0.21379912 0.17999545 0.21722326]\n",
      " [0.18553993 0.20482032 0.21379912 0.17999545 0.21722326]\n",
      " [0.18553951 0.2048213  0.21379894 0.17999353 0.21722478]\n",
      " [0.18553841 0.2048187  0.21379818 0.17999832 0.21722434]\n",
      " [0.18554005 0.20482022 0.2137991  0.1799956  0.2172231 ]\n",
      " [0.18553993 0.20482032 0.21379912 0.17999545 0.21722326]\n",
      " [0.18552496 0.20482218 0.21380241 0.1800069  0.21722285]\n",
      " [0.18554223 0.20483004 0.21380237 0.17997383 0.21722999]\n",
      " [0.1855392  0.2048209  0.21379922 0.17999457 0.21722426]\n",
      " [0.18553993 0.20482032 0.21379912 0.17999545 0.21722326]]\n",
      "Predictions:\n",
      " [[0.18234196 0.20633298 0.2126614  0.18200298 0.21699442]\n",
      " [0.18231587 0.206339   0.21265377 0.18202633 0.21699905]\n",
      " [0.18233891 0.20633589 0.21267085 0.18199301 0.2169945 ]\n",
      " [0.18231493 0.2063232  0.21266544 0.18202409 0.21700464]\n",
      " [0.18234232 0.20633602 0.21266527 0.18199672 0.21699312]\n",
      " [0.18233863 0.2063376  0.21266612 0.18199708 0.21699417]\n",
      " [0.18232818 0.20633224 0.21267378 0.18198586 0.21701387]\n",
      " [0.18232259 0.20633304 0.21266168 0.18201397 0.21700121]\n",
      " [0.18233904 0.20633748 0.2126659  0.18199708 0.21699408]\n",
      " [0.18232699 0.20633681 0.21266367 0.18200755 0.21699809]\n",
      " [0.18231036 0.20632999 0.21265908 0.18204436 0.21698686]\n",
      " [0.18232062 0.20634542 0.21266268 0.18200581 0.21700019]\n",
      " [0.18233863 0.2063376  0.21266612 0.18199708 0.21699417]\n",
      " [0.18233487 0.20633745 0.2126676  0.18199748 0.21699606]\n",
      " [0.18231766 0.20633614 0.21265732 0.18201949 0.21700244]\n",
      " [0.18233965 0.20633487 0.21266572 0.18199797 0.21699534]\n",
      " [0.18234165 0.20634176 0.21266615 0.1819918  0.21699207]\n",
      " [0.18233863 0.2063376  0.21266612 0.18199708 0.21699417]\n",
      " [0.18233863 0.2063376  0.21266612 0.18199708 0.21699417]\n",
      " [0.182339   0.20633754 0.21266584 0.1819971  0.2169941 ]\n",
      " [0.18233478 0.20634    0.21266739 0.18199553 0.21699645]\n",
      " [0.18233863 0.2063376  0.21266612 0.18199708 0.21699417]\n",
      " [0.18233596 0.20633891 0.21266642 0.18199745 0.21699499]\n",
      " [0.18233863 0.2063376  0.21266612 0.18199708 0.21699417]\n",
      " [0.18233645 0.20633666 0.2126676  0.18199515 0.21699929]\n",
      " [0.18233718 0.20633844 0.21266526 0.1819972  0.21699542]\n",
      " [0.18233863 0.2063376  0.21266612 0.18199708 0.21699417]\n",
      " [0.18234421 0.20634863 0.21267584 0.18198182 0.21698484]\n",
      " [0.18233863 0.2063376  0.21266612 0.18199708 0.21699417]]\n",
      "Mean MSE across 2-fold CV: 0.000816 ± 0.000112\n"
     ]
    },
    {
     "name": "stderr",
     "output_type": "stream",
     "text": [
      "D:\\anacondafolder\\envs\\testenv\\lib\\site-packages\\sklearn\\metrics\\_regression.py:95: FutureWarning: Arrays of bytes/strings is being converted to decimal numbers if dtype='numeric'. This behavior is deprecated in 0.24 and will be removed in 1.1 (renaming of 0.26). Please convert your data to numeric values explicitly instead.\n",
      "  y_true = check_array(y_true, ensure_2d=False, dtype=dtype)\n",
      "D:\\anacondafolder\\envs\\testenv\\lib\\site-packages\\sklearn\\metrics\\_regression.py:95: FutureWarning: Arrays of bytes/strings is being converted to decimal numbers if dtype='numeric'. This behavior is deprecated in 0.24 and will be removed in 1.1 (renaming of 0.26). Please convert your data to numeric values explicitly instead.\n",
      "  y_true = check_array(y_true, ensure_2d=False, dtype=dtype)\n"
     ]
    }
   ],
   "source": [
    "from sklearn.model_selection import KFold\n",
    "from sklearn.linear_model import Ridge\n",
    "from sklearn.metrics import mean_squared_error\n",
    "# Define the number of folds for cross-validation\n",
    "k = 2\n",
    "\n",
    "# Initialize lists to store performance metrics across folds\n",
    "mse_scores = []\n",
    "r2_scores = []\n",
    "\n",
    "# Create a Ridge regression model\n",
    "ridge_model = Ridge(alpha=1.0)  # You can adjust alpha as needed\n",
    "\n",
    "# Create a KFold object\n",
    "kf = KFold(n_splits=k, shuffle=True, random_state=42)\n",
    "\n",
    "# Perform k-fold cross-validation\n",
    "for train_index, test_index in kf.split(padded_sequences):\n",
    "    x_train, x_test = padded_sequences[train_index], padded_sequences[test_index]\n",
    "    y_train, y_test = padded_y[train_index], padded_y[test_index]\n",
    "    \n",
    "    # Fit the model on the training data\n",
    "    ridge_model.fit(x_train, y_train)\n",
    "    \n",
    "    # Predict on the test data\n",
    "    y_pred = ridge_model.predict(x_test)\n",
    "    print(\"Predictions:\\n\", y_pred)\n",
    "    # Calculate performance metrics\n",
    "    mse = mean_squared_error(y_test, y_pred)\n",
    "    \n",
    "    \n",
    "    # Append scores to lists\n",
    "    mse_scores.append(mse)\n",
    "    \n",
    "\n",
    "# Calculate mean and standard deviation of scores across folds\n",
    "mean_mse = np.mean(mse_scores)\n",
    "std_mse = np.std(mse_scores)\n",
    "\n",
    "print(f\"Mean MSE across {k}-fold CV: {mean_mse:.6f} ± {std_mse:.6f}\")"
   ]
  },
  {
   "cell_type": "code",
   "execution_count": 39,
   "id": "dc2c0f81",
   "metadata": {},
   "outputs": [],
   "source": [
    "from sklearn.model_selection import train_test_split\n",
    "x_train, x_test, y_train, y_test = train_test_split(padded_sequences, padded_y, test_size=0.1, random_state=42)"
   ]
  },
  {
   "cell_type": "code",
   "execution_count": 40,
   "id": "e4a7fa4f",
   "metadata": {},
   "outputs": [
    {
     "name": "stdout",
     "output_type": "stream",
     "text": [
      "Predictions:\n",
      " [[0.18491074 0.20566157 0.213592   0.1807505  0.2164067 ]\n",
      " [0.18491152 0.20565732 0.21358728 0.18076576 0.21639779]\n",
      " [0.18491054 0.20566392 0.21358538 0.18075053 0.21641278]\n",
      " [0.18491422 0.20565447 0.21360348 0.18076435 0.21638884]\n",
      " [0.18491921 0.20565791 0.21358794 0.18075296 0.21640146]\n",
      " [0.18490398 0.20566098 0.21359326 0.18076654 0.21639583]]\n",
      "Mean Squared Error: 0.0016655499480038596\n"
     ]
    }
   ],
   "source": [
    "from sklearn.linear_model import Ridge\n",
    "from sklearn.metrics import mean_squared_error\n",
    "# Create a Ridge regression model with regularization strength (alpha) set to 1.0\n",
    "ridge_model1 = Ridge(alpha=1.0)\n",
    "\n",
    "# Train the model\n",
    "ridge_model1.fit(x_train, y_train)\n",
    "\n",
    "# Predictions\n",
    "y_pred = ridge_model1.predict(x_test)\n",
    "\n",
    "# Print the predictions\n",
    "print(\"Predictions:\\n\", y_pred)\n",
    "y_test = np.array(y_test, dtype=float)\n",
    "#print(y_test)\n",
    "mse = mean_squared_error(y_test, y_pred)\n",
    "print(\"Mean Squared Error:\", mse)"
   ]
  },
  {
   "cell_type": "code",
   "execution_count": 41,
   "id": "c1c01138",
   "metadata": {},
   "outputs": [
    {
     "name": "stdout",
     "output_type": "stream",
     "text": [
      "Predictions:\n",
      " [[0.18490568 0.20566039 0.2135849  0.18075472 0.21641508]\n",
      " [0.18490568 0.20566039 0.2135849  0.18075472 0.21641508]\n",
      " [0.18490568 0.20566039 0.2135849  0.18075472 0.21641508]\n",
      " [0.18490568 0.20566039 0.2135849  0.18075472 0.21641508]\n",
      " [0.18490568 0.20566039 0.2135849  0.18075472 0.21641508]\n",
      " [0.18490568 0.20566039 0.2135849  0.18075472 0.21641508]]\n",
      "[[0.18 0.25 0.22 0.12 0.23]\n",
      " [0.25 0.17 0.18 0.19 0.21]\n",
      " [0.17 0.24 0.22 0.2  0.17]\n",
      " [0.08 0.17 0.2  0.28 0.26]\n",
      " [0.14 0.19 0.23 0.19 0.24]\n",
      " [0.23 0.21 0.21 0.12 0.23]]\n",
      "Mean Squared Error: 0.0016654065386174275\n"
     ]
    }
   ],
   "source": [
    "from sklearn.linear_model import Lasso\n",
    "from sklearn.metrics import mean_squared_error\n",
    "# Create a Lasso regression model with regularization strength (alpha) set to 1.0\n",
    "lasso_model = Lasso(alpha=1.0)\n",
    "\n",
    "# Train the model\n",
    "lasso_model.fit(x_train, y_train)\n",
    "\n",
    "# Predictions\n",
    "y_pred = lasso_model.predict(x_test)\n",
    "from sklearn.metrics import mean_squared_error, r2_score\n",
    "# Print the predictions\n",
    "print(\"Predictions:\\n\", y_pred)\n",
    "\n",
    "print(y_test)\n",
    "y_test = np.array(y_test, dtype=float)\n",
    "mse = mean_squared_error(y_test, y_pred)\n",
    "print(\"Mean Squared Error:\", mse)"
   ]
  },
  {
   "cell_type": "code",
   "execution_count": 42,
   "id": "ae556048",
   "metadata": {},
   "outputs": [
    {
     "name": "stdout",
     "output_type": "stream",
     "text": [
      "Random Forest Regressor MSE: 0.0016168111363951566\n"
     ]
    }
   ],
   "source": [
    "from sklearn.linear_model import Ridge\n",
    "from sklearn.ensemble import RandomForestRegressor\n",
    "# Random Forest Regressor\n",
    "rf_model = RandomForestRegressor(n_estimators=100, random_state=42)\n",
    "rf_model.fit(x_train, y_train)\n",
    "y_pred_rf = rf_model.predict(x_test)\n",
    "rf_mse = mean_squared_error(y_test, y_pred_rf)\n",
    "print(f\"Random Forest Regressor MSE: {rf_mse}\")"
   ]
  },
  {
   "cell_type": "code",
   "execution_count": 43,
   "id": "0bad6f0d",
   "metadata": {},
   "outputs": [],
   "source": [
    "from sklearn.model_selection import train_test_split\n",
    "x_train, x_test, y_train, y_test = train_test_split(padded_sequences, padded_y, test_size=0.1, random_state=42)"
   ]
  },
  {
   "cell_type": "code",
   "execution_count": 44,
   "id": "cc1894fc",
   "metadata": {},
   "outputs": [
    {
     "name": "stdout",
     "output_type": "stream",
     "text": [
      "Predictions after applying sigmoid:\n",
      " [[0.5650764  0.54929537 0.5257506  0.5620769  0.54634076]\n",
      " [0.62807655 0.5764179  0.5645958  0.51479876 0.4498767 ]\n",
      " [0.5124765  0.5761577  0.54039687 0.51155233 0.6101191 ]\n",
      " [0.3788733  0.67128175 0.4945937  0.4410432  0.7561975 ]\n",
      " [0.5446618  0.5493009  0.5542408  0.5467894  0.5545008 ]\n",
      " [0.5185807  0.51731914 0.5566422  0.57768923 0.5763135 ]]\n",
      "Mean Squared Error: 0.12735529517164296\n"
     ]
    }
   ],
   "source": [
    "import numpy as np\n",
    "#from sklearn.multioutput import MultiOutputRegressor\n",
    "from sklearn.linear_model import LinearRegression\n",
    "from sklearn.metrics import mean_squared_error\n",
    "\n",
    "# Assuming x_train, y_train, x_test, and y_test are already defined and loaded\n",
    "\n",
    "# Fit the multioutput regressor to the training data\n",
    "model = LinearRegression()\n",
    "model.fit(x_train, y_train)\n",
    "\n",
    "# Predict using the fitted model\n",
    "y_pred = model.predict(x_test)\n",
    "\n",
    "# Apply sigmoid function to the predictions\n",
    "def sigmoid(x):\n",
    "    return 1 / (1 + np.exp(-x))\n",
    "\n",
    "y_pred_sigmoid = sigmoid(y_pred)\n",
    "\n",
    "# Print the predictions\n",
    "print(\"Predictions after applying sigmoid:\\n\", y_pred_sigmoid)\n",
    "y_test = np.array(y_test, dtype=float)\n",
    "#print(y_test)\n",
    "mse = mean_squared_error(y_test, y_pred_sigmoid)\n",
    "print(\"Mean Squared Error:\", mse)"
   ]
  },
  {
   "cell_type": "code",
   "execution_count": 45,
   "id": "cd1cd5dd",
   "metadata": {},
   "outputs": [],
   "source": [
    "from sklearn.model_selection import train_test_split\n",
    "x_train, x_test, y_train, y_test = train_test_split(padded_sequences, padded_y, test_size=0.1, random_state=42)"
   ]
  },
  {
   "cell_type": "code",
   "execution_count": 46,
   "id": "78dc276d",
   "metadata": {},
   "outputs": [
    {
     "name": "stdout",
     "output_type": "stream",
     "text": [
      "Predictions after applying sigmoid:\n",
      " [[9.2709976e-01 1.8905446e-02 9.9471867e-01 1.1247575e-03 9.8649383e-01]\n",
      " [1.1818139e-01 9.7935402e-01 4.2483211e-02 9.9304235e-01 4.5015529e-02]\n",
      " [9.9802953e-01 6.9748700e-07 9.9999666e-01 5.8505316e-07 9.9998903e-01]\n",
      " [0.0000000e+00 1.0000000e+00 0.0000000e+00 1.0000000e+00 0.0000000e+00]\n",
      " [5.5374664e-01 5.4092389e-01 5.5977142e-01 5.4092389e-01 5.5060738e-01]\n",
      " [3.0574577e-03 9.9917042e-01 1.4367507e-06 1.0000000e+00 6.9221838e-05]]\n",
      "Mean Squared Error: 0.2910593590439029\n"
     ]
    },
    {
     "name": "stderr",
     "output_type": "stream",
     "text": [
      "D:\\anacondafolder\\envs\\testenv\\lib\\site-packages\\ipykernel_launcher.py:8: RuntimeWarning: overflow encountered in exp\n",
      "  \n"
     ]
    }
   ],
   "source": [
    "import numpy as np\n",
    "#from sklearn.multioutput import MultiOutputRegressor\n",
    "from sklearn.linear_model import LinearRegression\n",
    "from sklearn.preprocessing import PolynomialFeatures\n",
    "from sklearn.metrics import mean_squared_error\n",
    "\n",
    "def sigmoid(x):\n",
    "    return 1 / (1 + np.exp(-x))\n",
    "\n",
    "y_train = np.array(y_train, dtype=float)\n",
    "\n",
    "# Transform the input features to polynomial features\n",
    "poly = PolynomialFeatures(degree=2)\n",
    "x_train_poly = poly.fit_transform(x_train)\n",
    "x_test_poly = poly.transform(x_test)\n",
    "\n",
    "# Fit the multioutput regressor to the transformed training data\n",
    "model1 = LinearRegression()\n",
    "model1.fit(x_train_poly, y_train)\n",
    "\n",
    "# Predict using the fitted model on the transformed test data\n",
    "y_pred = model1.predict(x_test_poly)\n",
    "y_pred_sigmoid = sigmoid(y_pred)\n",
    "\n",
    "# Print the predictions\n",
    "print(\"Predictions after applying sigmoid:\\n\", y_pred_sigmoid)\n",
    "\n",
    "# Evaluate the model\n",
    "y_test = np.array(y_test, dtype=float)\n",
    "mse = mean_squared_error(y_test, y_pred_sigmoid)\n",
    "print(\"Mean Squared Error:\", mse)"
   ]
  },
  {
   "cell_type": "markdown",
   "id": "bfd3934c",
   "metadata": {},
   "source": [
    "# new prediction"
   ]
  },
  {
   "cell_type": "code",
   "execution_count": 47,
   "id": "fc87f9d3",
   "metadata": {},
   "outputs": [],
   "source": [
    "import pickle\n",
    "import os\n",
    "import base64\n",
    "\n",
    "file_path = r'D:\\new_comment.pickle'\n",
    "with open(file_path, 'rb') as f:\n",
    "    encoded_data = f.read()\n",
    "\n",
    "# Decode the Base64-encoded data\n",
    "decoded_bytes = base64.b64decode(encoded_data)\n",
    "\n",
    "# Deserialize the object using pickle\n",
    "img_dict = pickle.loads(decoded_bytes)\n",
    "#print(img_dict.keys())\n",
    "x=img_dict['x']\n",
    "y=img_dict['y']"
   ]
  },
  {
   "cell_type": "code",
   "execution_count": 49,
   "id": "493ef574",
   "metadata": {},
   "outputs": [],
   "source": [
    "import numpy as np\n",
    "from tensorflow.keras.preprocessing.sequence import pad_sequences\n",
    "\n",
    "sequences = x\n",
    "padded_x = pad_sequences(sequences, maxlen=500, padding='post', dtype='float32')"
   ]
  },
  {
   "cell_type": "code",
   "execution_count": 50,
   "id": "6f56674d",
   "metadata": {},
   "outputs": [
    {
     "data": {
      "text/plain": [
       "array(['0.18', '0.21', '0.23', '0.14', '0.25'], dtype='<U4')"
      ]
     },
     "execution_count": 50,
     "metadata": {},
     "output_type": "execute_result"
    }
   ],
   "source": [
    "padded_y=np.array(y[10])\n",
    "padded_y"
   ]
  },
  {
   "cell_type": "code",
   "execution_count": 51,
   "id": "39792d71",
   "metadata": {},
   "outputs": [
    {
     "name": "stdout",
     "output_type": "stream",
     "text": [
      "Predictions:\n",
      " [[0.18233494 0.2063399  0.21266447 0.18200006 0.21699446]]\n"
     ]
    }
   ],
   "source": [
    "reshaped_data = padded_x[10].reshape(1, -1)\n",
    "y_pred = ridge_model.predict(reshaped_data)\n",
    "\n",
    "# Print the predictions\n",
    "print(\"Predictions:\\n\", y_pred)"
   ]
  },
  {
   "cell_type": "code",
   "execution_count": 52,
   "id": "65bbdf62",
   "metadata": {},
   "outputs": [
    {
     "name": "stdout",
     "output_type": "stream",
     "text": [
      "Mean Squared Error: 0.0006345478008251115\n"
     ]
    },
    {
     "name": "stderr",
     "output_type": "stream",
     "text": [
      "D:\\anacondafolder\\envs\\testenv\\lib\\site-packages\\sklearn\\metrics\\_regression.py:95: FutureWarning: Arrays of bytes/strings is being converted to decimal numbers if dtype='numeric'. This behavior is deprecated in 0.24 and will be removed in 1.1 (renaming of 0.26). Please convert your data to numeric values explicitly instead.\n",
      "  y_true = check_array(y_true, ensure_2d=False, dtype=dtype)\n"
     ]
    }
   ],
   "source": [
    "from sklearn.metrics import mean_squared_error\n",
    "reshaped_y = padded_y.reshape(1,-1)\n",
    "mse = mean_squared_error(reshaped_y, y_pred)\n",
    "print(\"Mean Squared Error:\", mse)"
   ]
  },
  {
   "cell_type": "code",
   "execution_count": 62,
   "id": "bf297c5b",
   "metadata": {},
   "outputs": [],
   "source": [
    "post_text_weight = 0.5\n",
    "comment_weight = 0.5\n",
    "import numpy as np"
   ]
  },
  {
   "cell_type": "code",
   "execution_count": 53,
   "id": "02ad03d6",
   "metadata": {},
   "outputs": [],
   "source": [
    "final_comment_prediction = np.array([[0.18233494,0.2063399,0.21266447,0.18200006,0.21699446]])"
   ]
  },
  {
   "cell_type": "code",
   "execution_count": 54,
   "id": "d21d66a6",
   "metadata": {},
   "outputs": [
    {
     "name": "stdout",
     "output_type": "stream",
     "text": [
      "<class 'numpy.ndarray'>\n"
     ]
    }
   ],
   "source": [
    "print(type(final_comment_prediction))"
   ]
  },
  {
   "cell_type": "code",
   "execution_count": 55,
   "id": "490f5318",
   "metadata": {},
   "outputs": [],
   "source": [
    "final_post_prediction = np.array([[0.18234211,0.20636892,0.21268255,0.18197294,0.21697119]])"
   ]
  },
  {
   "cell_type": "code",
   "execution_count": 56,
   "id": "a2175b54",
   "metadata": {},
   "outputs": [
    {
     "name": "stdout",
     "output_type": "stream",
     "text": [
      "<class 'numpy.ndarray'>\n"
     ]
    }
   ],
   "source": [
    "print(type(final_post_prediction))"
   ]
  },
  {
   "cell_type": "code",
   "execution_count": 57,
   "id": "dd044b65",
   "metadata": {},
   "outputs": [],
   "source": [
    "#final_post_img_prediction = np.array([0.17933537065982819, 0.19528426229953766, 0.2029479742050171, 0.1652487963438034, 0.20580318570137024])"
   ]
  },
  {
   "cell_type": "code",
   "execution_count": 58,
   "id": "ffda505a",
   "metadata": {},
   "outputs": [],
   "source": [
    "#print(type(final_post_img_prediction))"
   ]
  },
  {
   "cell_type": "code",
   "execution_count": 59,
   "id": "bc2b6a5e",
   "metadata": {},
   "outputs": [],
   "source": [
    "#final_profile_img_prediction = np.array([0.07974329590797424, 0.10734947770833969, 0.0936485156416893, 0.09621872007846832, 0.1311817318201065])"
   ]
  },
  {
   "cell_type": "code",
   "execution_count": 60,
   "id": "ff159a0e",
   "metadata": {},
   "outputs": [],
   "source": [
    "#print(type(final_profile_img_prediction))"
   ]
  },
  {
   "cell_type": "code",
   "execution_count": 63,
   "id": "98df866c",
   "metadata": {},
   "outputs": [],
   "source": [
    "final_text_prediction = post_text_weight * final_post_prediction + comment_weight * final_comment_prediction"
   ]
  },
  {
   "cell_type": "code",
   "execution_count": 64,
   "id": "5686a14b",
   "metadata": {},
   "outputs": [
    {
     "name": "stdout",
     "output_type": "stream",
     "text": [
      "[[0.18233853 0.20635441 0.21267351 0.1819865  0.21698282]]\n"
     ]
    }
   ],
   "source": [
    "print(final_text_prediction)"
   ]
  },
  {
   "cell_type": "code",
   "execution_count": 67,
   "id": "09566c71",
   "metadata": {},
   "outputs": [],
   "source": [
    "y_ac=np.array([[0.18,0.21,0.23,0.14,0.25]])"
   ]
  },
  {
   "cell_type": "code",
   "execution_count": 68,
   "id": "4da14d36",
   "metadata": {},
   "outputs": [
    {
     "name": "stdout",
     "output_type": "stream",
     "text": [
      "Mean Squared Error: 0.0006343932617148898\n"
     ]
    }
   ],
   "source": [
    "from sklearn.metrics import mean_squared_error\n",
    "mse = mean_squared_error(final_text_prediction, y_ac)\n",
    "print(\"Mean Squared Error:\", mse)"
   ]
  },
  {
   "cell_type": "code",
   "execution_count": null,
   "id": "1f2903f8",
   "metadata": {},
   "outputs": [],
   "source": []
  }
 ],
 "metadata": {
  "kernelspec": {
   "display_name": "Python 3 (ipykernel)",
   "language": "python",
   "name": "python3"
  },
  "language_info": {
   "codemirror_mode": {
    "name": "ipython",
    "version": 3
   },
   "file_extension": ".py",
   "mimetype": "text/x-python",
   "name": "python",
   "nbconvert_exporter": "python",
   "pygments_lexer": "ipython3",
   "version": "3.7.12"
  }
 },
 "nbformat": 4,
 "nbformat_minor": 5
}
