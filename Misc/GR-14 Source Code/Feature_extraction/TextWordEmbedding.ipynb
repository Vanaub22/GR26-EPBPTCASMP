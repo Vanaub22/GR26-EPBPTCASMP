{
  "nbformat": 4,
  "nbformat_minor": 0,
  "metadata": {
    "colab": {
      "provenance": []
    },
    "kernelspec": {
      "name": "python3",
      "display_name": "Python 3"
    },
    "language_info": {
      "name": "python"
    }
  },
  "cells": [
    {
      "cell_type": "markdown",
      "source": [
        "Pre-trained fast text model"
      ],
      "metadata": {
        "id": "V0dxxA9a6Alk"
      }
    },
    {
      "cell_type": "code",
      "source": [
        "!pip install fasttext"
      ],
      "metadata": {
        "colab": {
          "base_uri": "https://localhost:8080/"
        },
        "id": "MQhmAz6tojF3",
        "outputId": "c4c7ea3f-0c23-43a0-ab93-ec757a92c99a"
      },
      "execution_count": null,
      "outputs": [
        {
          "output_type": "stream",
          "name": "stdout",
          "text": [
            "Collecting fasttext\n",
            "  Downloading fasttext-0.9.2.tar.gz (68 kB)\n",
            "\u001b[?25l     \u001b[90m━━━━━━━━━━━━━━━━━━━━━━━━━━━━━━━━━━━━━━━━\u001b[0m \u001b[32m0.0/68.8 kB\u001b[0m \u001b[31m?\u001b[0m eta \u001b[36m-:--:--\u001b[0m\r\u001b[2K     \u001b[90m━━━━━━━━━━━━━━━━━━━━━━━━━━━━━━━━━━━━━━━━\u001b[0m \u001b[32m68.8/68.8 kB\u001b[0m \u001b[31m2.0 MB/s\u001b[0m eta \u001b[36m0:00:00\u001b[0m\n",
            "\u001b[?25h  Preparing metadata (setup.py) ... \u001b[?25l\u001b[?25hdone\n",
            "Collecting pybind11>=2.2 (from fasttext)\n",
            "  Using cached pybind11-2.12.0-py3-none-any.whl (234 kB)\n",
            "Requirement already satisfied: setuptools>=0.7.0 in /usr/local/lib/python3.10/dist-packages (from fasttext) (67.7.2)\n",
            "Requirement already satisfied: numpy in /usr/local/lib/python3.10/dist-packages (from fasttext) (1.25.2)\n",
            "Building wheels for collected packages: fasttext\n",
            "  Building wheel for fasttext (setup.py) ... \u001b[?25l\u001b[?25hdone\n",
            "  Created wheel for fasttext: filename=fasttext-0.9.2-cp310-cp310-linux_x86_64.whl size=4227136 sha256=3c376474ddcc2c077d72b380c0665dba6ce9e029d41289aef5320b4e62fead75\n",
            "  Stored in directory: /root/.cache/pip/wheels/a5/13/75/f811c84a8ab36eedbaef977a6a58a98990e8e0f1967f98f394\n",
            "Successfully built fasttext\n",
            "Installing collected packages: pybind11, fasttext\n",
            "Successfully installed fasttext-0.9.2 pybind11-2.12.0\n"
          ]
        }
      ]
    },
    {
      "cell_type": "code",
      "source": [
        "import fasttext.util\n",
        "fasttext.util.download_model('en', if_exists='ignore')"
      ],
      "metadata": {
        "id": "4-Vy3gv_EGHB",
        "colab": {
          "base_uri": "https://localhost:8080/",
          "height": 70
        },
        "outputId": "06bc2ac7-0022-4bc6-a873-fd042a74a223"
      },
      "execution_count": null,
      "outputs": [
        {
          "output_type": "stream",
          "name": "stdout",
          "text": [
            "Downloading https://dl.fbaipublicfiles.com/fasttext/vectors-crawl/cc.en.300.bin.gz\n",
            "\n"
          ]
        },
        {
          "output_type": "execute_result",
          "data": {
            "text/plain": [
              "'cc.en.300.bin'"
            ],
            "application/vnd.google.colaboratory.intrinsic+json": {
              "type": "string"
            }
          },
          "metadata": {},
          "execution_count": 2
        }
      ]
    },
    {
      "cell_type": "code",
      "source": [
        "import fasttext\n",
        "ft = fasttext.load_model('cc.en.300.bin')"
      ],
      "metadata": {
        "colab": {
          "base_uri": "https://localhost:8080/"
        },
        "id": "WJKRM0ghowPF",
        "outputId": "3fcbcb48-ba35-478e-89e8-748b788a8c13"
      },
      "execution_count": null,
      "outputs": [
        {
          "output_type": "stream",
          "name": "stderr",
          "text": [
            "Warning : `load_model` does not return WordVectorModel or SupervisedModel any more, but a `FastText` object which is very similar.\n"
          ]
        }
      ]
    },
    {
      "cell_type": "code",
      "source": [
        "from google.colab import files\n",
        "uploaded = files.upload()"
      ],
      "metadata": {
        "colab": {
          "base_uri": "https://localhost:8080/",
          "height": 73
        },
        "id": "a93nKrE9UrpR",
        "outputId": "ccd72e04-8a04-45e7-cd82-0623192f6f55"
      },
      "execution_count": null,
      "outputs": [
        {
          "output_type": "display_data",
          "data": {
            "text/plain": [
              "<IPython.core.display.HTML object>"
            ],
            "text/html": [
              "\n",
              "     <input type=\"file\" id=\"files-102473b9-8a50-4d89-bf37-d2835af08b8d\" name=\"files[]\" multiple disabled\n",
              "        style=\"border:none\" />\n",
              "     <output id=\"result-102473b9-8a50-4d89-bf37-d2835af08b8d\">\n",
              "      Upload widget is only available when the cell has been executed in the\n",
              "      current browser session. Please rerun this cell to enable.\n",
              "      </output>\n",
              "      <script>// Copyright 2017 Google LLC\n",
              "//\n",
              "// Licensed under the Apache License, Version 2.0 (the \"License\");\n",
              "// you may not use this file except in compliance with the License.\n",
              "// You may obtain a copy of the License at\n",
              "//\n",
              "//      http://www.apache.org/licenses/LICENSE-2.0\n",
              "//\n",
              "// Unless required by applicable law or agreed to in writing, software\n",
              "// distributed under the License is distributed on an \"AS IS\" BASIS,\n",
              "// WITHOUT WARRANTIES OR CONDITIONS OF ANY KIND, either express or implied.\n",
              "// See the License for the specific language governing permissions and\n",
              "// limitations under the License.\n",
              "\n",
              "/**\n",
              " * @fileoverview Helpers for google.colab Python module.\n",
              " */\n",
              "(function(scope) {\n",
              "function span(text, styleAttributes = {}) {\n",
              "  const element = document.createElement('span');\n",
              "  element.textContent = text;\n",
              "  for (const key of Object.keys(styleAttributes)) {\n",
              "    element.style[key] = styleAttributes[key];\n",
              "  }\n",
              "  return element;\n",
              "}\n",
              "\n",
              "// Max number of bytes which will be uploaded at a time.\n",
              "const MAX_PAYLOAD_SIZE = 100 * 1024;\n",
              "\n",
              "function _uploadFiles(inputId, outputId) {\n",
              "  const steps = uploadFilesStep(inputId, outputId);\n",
              "  const outputElement = document.getElementById(outputId);\n",
              "  // Cache steps on the outputElement to make it available for the next call\n",
              "  // to uploadFilesContinue from Python.\n",
              "  outputElement.steps = steps;\n",
              "\n",
              "  return _uploadFilesContinue(outputId);\n",
              "}\n",
              "\n",
              "// This is roughly an async generator (not supported in the browser yet),\n",
              "// where there are multiple asynchronous steps and the Python side is going\n",
              "// to poll for completion of each step.\n",
              "// This uses a Promise to block the python side on completion of each step,\n",
              "// then passes the result of the previous step as the input to the next step.\n",
              "function _uploadFilesContinue(outputId) {\n",
              "  const outputElement = document.getElementById(outputId);\n",
              "  const steps = outputElement.steps;\n",
              "\n",
              "  const next = steps.next(outputElement.lastPromiseValue);\n",
              "  return Promise.resolve(next.value.promise).then((value) => {\n",
              "    // Cache the last promise value to make it available to the next\n",
              "    // step of the generator.\n",
              "    outputElement.lastPromiseValue = value;\n",
              "    return next.value.response;\n",
              "  });\n",
              "}\n",
              "\n",
              "/**\n",
              " * Generator function which is called between each async step of the upload\n",
              " * process.\n",
              " * @param {string} inputId Element ID of the input file picker element.\n",
              " * @param {string} outputId Element ID of the output display.\n",
              " * @return {!Iterable<!Object>} Iterable of next steps.\n",
              " */\n",
              "function* uploadFilesStep(inputId, outputId) {\n",
              "  const inputElement = document.getElementById(inputId);\n",
              "  inputElement.disabled = false;\n",
              "\n",
              "  const outputElement = document.getElementById(outputId);\n",
              "  outputElement.innerHTML = '';\n",
              "\n",
              "  const pickedPromise = new Promise((resolve) => {\n",
              "    inputElement.addEventListener('change', (e) => {\n",
              "      resolve(e.target.files);\n",
              "    });\n",
              "  });\n",
              "\n",
              "  const cancel = document.createElement('button');\n",
              "  inputElement.parentElement.appendChild(cancel);\n",
              "  cancel.textContent = 'Cancel upload';\n",
              "  const cancelPromise = new Promise((resolve) => {\n",
              "    cancel.onclick = () => {\n",
              "      resolve(null);\n",
              "    };\n",
              "  });\n",
              "\n",
              "  // Wait for the user to pick the files.\n",
              "  const files = yield {\n",
              "    promise: Promise.race([pickedPromise, cancelPromise]),\n",
              "    response: {\n",
              "      action: 'starting',\n",
              "    }\n",
              "  };\n",
              "\n",
              "  cancel.remove();\n",
              "\n",
              "  // Disable the input element since further picks are not allowed.\n",
              "  inputElement.disabled = true;\n",
              "\n",
              "  if (!files) {\n",
              "    return {\n",
              "      response: {\n",
              "        action: 'complete',\n",
              "      }\n",
              "    };\n",
              "  }\n",
              "\n",
              "  for (const file of files) {\n",
              "    const li = document.createElement('li');\n",
              "    li.append(span(file.name, {fontWeight: 'bold'}));\n",
              "    li.append(span(\n",
              "        `(${file.type || 'n/a'}) - ${file.size} bytes, ` +\n",
              "        `last modified: ${\n",
              "            file.lastModifiedDate ? file.lastModifiedDate.toLocaleDateString() :\n",
              "                                    'n/a'} - `));\n",
              "    const percent = span('0% done');\n",
              "    li.appendChild(percent);\n",
              "\n",
              "    outputElement.appendChild(li);\n",
              "\n",
              "    const fileDataPromise = new Promise((resolve) => {\n",
              "      const reader = new FileReader();\n",
              "      reader.onload = (e) => {\n",
              "        resolve(e.target.result);\n",
              "      };\n",
              "      reader.readAsArrayBuffer(file);\n",
              "    });\n",
              "    // Wait for the data to be ready.\n",
              "    let fileData = yield {\n",
              "      promise: fileDataPromise,\n",
              "      response: {\n",
              "        action: 'continue',\n",
              "      }\n",
              "    };\n",
              "\n",
              "    // Use a chunked sending to avoid message size limits. See b/62115660.\n",
              "    let position = 0;\n",
              "    do {\n",
              "      const length = Math.min(fileData.byteLength - position, MAX_PAYLOAD_SIZE);\n",
              "      const chunk = new Uint8Array(fileData, position, length);\n",
              "      position += length;\n",
              "\n",
              "      const base64 = btoa(String.fromCharCode.apply(null, chunk));\n",
              "      yield {\n",
              "        response: {\n",
              "          action: 'append',\n",
              "          file: file.name,\n",
              "          data: base64,\n",
              "        },\n",
              "      };\n",
              "\n",
              "      let percentDone = fileData.byteLength === 0 ?\n",
              "          100 :\n",
              "          Math.round((position / fileData.byteLength) * 100);\n",
              "      percent.textContent = `${percentDone}% done`;\n",
              "\n",
              "    } while (position < fileData.byteLength);\n",
              "  }\n",
              "\n",
              "  // All done.\n",
              "  yield {\n",
              "    response: {\n",
              "      action: 'complete',\n",
              "    }\n",
              "  };\n",
              "}\n",
              "\n",
              "scope.google = scope.google || {};\n",
              "scope.google.colab = scope.google.colab || {};\n",
              "scope.google.colab._files = {\n",
              "  _uploadFiles,\n",
              "  _uploadFilesContinue,\n",
              "};\n",
              "})(self);\n",
              "</script> "
            ]
          },
          "metadata": {}
        },
        {
          "output_type": "stream",
          "name": "stdout",
          "text": [
            "Saving Final_Curated_Dataset_Sanjeev.csv to Final_Curated_Dataset_Sanjeev.csv\n"
          ]
        }
      ]
    },
    {
      "cell_type": "code",
      "source": [
        "# ! gdown --id 14C-w0CVndsYJ_AgSwZ9csQMJ7dzfTMCi"
      ],
      "metadata": {
        "id": "GWqisxW54tjQ",
        "colab": {
          "base_uri": "https://localhost:8080/"
        },
        "outputId": "2372dda0-cfb9-4534-b634-4fa11b3b13f9"
      },
      "execution_count": null,
      "outputs": [
        {
          "output_type": "stream",
          "name": "stdout",
          "text": [
            "/usr/local/lib/python3.10/dist-packages/gdown/__main__.py:132: FutureWarning: Option `--id` was deprecated in version 4.3.1 and will be removed in 5.0. You don't need to pass it anymore to use a file ID.\n",
            "  warnings.warn(\n",
            "Downloading...\n",
            "From (original): https://drive.google.com/uc?id=14C-w0CVndsYJ_AgSwZ9csQMJ7dzfTMCi\n",
            "From (redirected): https://drive.google.com/uc?id=14C-w0CVndsYJ_AgSwZ9csQMJ7dzfTMCi&confirm=t&uuid=923248a8-6c0a-4c5d-a87c-c0a7a0bcea61\n",
            "To: /content/Sudakshina_dict.pickle\n",
            "100% 453M/453M [00:11<00:00, 41.0MB/s]\n"
          ]
        }
      ]
    },
    {
      "cell_type": "code",
      "source": [
        "import pickle\n",
        "import os\n",
        "import base64"
      ],
      "metadata": {
        "id": "i6OJVKkvPyMF"
      },
      "execution_count": null,
      "outputs": []
    },
    {
      "cell_type": "code",
      "source": [
        "total_text_embedding=[]\n",
        "with open('Final_Curated_Dataset_Sanjeev.csv', 'r', newline='', encoding='utf-8') as csvfile:\n",
        "      csvreader = csv.reader(csvfile)\n",
        "      data = list(csvreader)  # Read the CSV file into a list of rows\n",
        "\n",
        "# Define the row and column index\n",
        "row_index = [29,90,93,96,98,99,100,103,104,105,106,107,109,110,111,112,114,116,117]\n",
        "column_index = 22\n",
        "total_trait_scores = []\n",
        "col_index_traits = [2,3,4,5,6]\n",
        "\n",
        "dict_vec={}\n",
        "dict_vec['x']= []\n",
        "dict_vec['y']= []\n",
        "\n",
        "for r in row_index:\n",
        "  preprocessed_post_text = data[r - 1][column_index]\n",
        "  print(preprocessed_post_text)\n",
        "\n",
        "  # Tokenize the text (you can use any tokenization method)\n",
        "  tokens = preprocessed_post_text.split()\n",
        "\n",
        "  # Initialize an empty list to store word embeddings\n",
        "  word_embeddings = []\n",
        "  print(len(tokens))\n",
        "  # Get word embeddings for each token\n",
        "  for token in tokens:\n",
        "      # Get the word embedding for the token\n",
        "      word_embedding = ft.get_word_vector(token)\n",
        "      w_mean= np.mean(word_embedding)\n",
        "      # print(w_mean.shape)\n",
        "      word_embeddings.append(w_mean)\n",
        "  print(word_embeddings)\n",
        "  dict_vec['x'].append(word_embeddings)\n",
        "  print(len(word_embeddings))\n",
        "\n",
        "  trait_scores = []\n",
        "  for c in col_index_traits:\n",
        "    trait_scores.append(data[r - 1][c])\n",
        "\n",
        "  dict_vec['y'].append(trait_scores)\n",
        "  print(dict_vec['y'])\n"
      ],
      "metadata": {
        "colab": {
          "base_uri": "https://localhost:8080/"
        },
        "id": "gWjmPaeMeEAE",
        "outputId": "213a0e8a-7424-4a4b-c643-831e0c81bf3d"
      },
      "execution_count": null,
      "outputs": [
        {
          "output_type": "stream",
          "name": "stdout",
          "text": [
            "\n",
            "0\n",
            "[]\n",
            "0\n",
            "[['0.22', '0.2', '0.2', '0.2', '0.18']]\n",
            "petunia believe integrity inside success example long time present context people incapable flaw splendor nature welcome mother arrival repeatedly cancel plan execute foot bhairabanki inspire tag person\n",
            "27\n",
            "[-0.004456422, -0.0028521859, -5.183036e-05, -0.00065378606, -0.0038596499, 0.0030865143, -0.005540064, -0.0014402281, -0.00068829587, 0.0024510226, -0.002788194, -0.00017629881, 0.0015660775, -0.00076052744, 0.0011187971, -0.0004531666, 0.00038103163, -0.00046368717, -0.0002837946, 0.0015433304, -0.007354425, 0.0016212183, 0.0014696616, -0.00085793156, -0.0014000399, -0.009642606, -0.00065000623]\n",
            "27\n",
            "[['0.22', '0.2', '0.2', '0.2', '0.18'], ['0.14', '0.2', '0.26', '0.16', '0.24']]\n",
            "glimpse today show channelonesayantika musical stories highlight followers dibyendu das supriya das bala madhurima bhattacharyya anupam roy coke studio highlight\n",
            "20\n",
            "[0.0036178767, -0.0016927087, 0.004324806, -0.00026710698, -0.00093690824, -0.002311644, -0.00076815026, 0.002470948, -0.0016045161, 0.011788019, -0.0010958497, 0.011788019, -0.0042185863, -0.00067396177, 0.00048402112, 0.0028264567, -0.0052970587, -0.0031950702, 0.0011455052, -0.00076815026]\n",
            "20\n",
            "[['0.22', '0.2', '0.2', '0.2', '0.18'], ['0.14', '0.2', '0.26', '0.16', '0.24'], ['0.17', '0.24', '0.22', '0.2', '0.17']]\n",
            "k g f chapter happy birthday king world cricket virat kohli take millions heart cricket lovers runmachine chasemaster king nao abr bolo sobai didir reception pic stupid boy retouch akshay z\n",
            "31\n",
            "[-0.010542415, -0.0038617952, 0.010992844, 0.0027615933, -0.0045042317, -0.002619909, -0.008081026, -0.007037379, -0.0047360016, 0.0014906907, -0.002637945, 0.0063370755, -0.003300515, -0.001768109, -0.0047360016, -0.008052702, -0.001602009, 0.0025120557, -0.008081026, 0.009464866, 0.009613798, 0.0043857256, 0.002266533, -0.0021047874, -0.00062031316, 0.0051531834, -0.0037157529, 1.4852285e-05, 0.0060771364, 0.00028623064, 0.0021859312]\n",
            "31\n",
            "[['0.22', '0.2', '0.2', '0.2', '0.18'], ['0.14', '0.2', '0.26', '0.16', '0.24'], ['0.17', '0.24', '0.22', '0.2', '0.17'], ['0.19', '0.21', '0.23', '0.17', '0.2']]\n",
            "cover bhalobashar morshum ear phone recommend better quality audio voice madhumanti banerjee guitar soubhagya das keyboard shubhayu debnath see enjoy madrid downfall santanu haldersayan kararnab sarkarritom mistryr u p k r u p k r u p k r u p k song survival x happy barb wire rupam islam sorry fault first big stage totally non train see come dream somlata acharyya chowdhury udaan see barcelona backline set years come caption angel di maria tear score world cup final mean everything barcelona win el clasico thank franck kessie goal final minutes fcb leo messi win best fifa award best football player year best fifa world xi courtois hakimi van dijk cancelo de bruyne cas see old friends reunite santanu haldersayan kararnab sarkarritom mistryr u p k r u p k r u p k r u p k r u p k different sky santanu haldersayan kararnab sarkarritom mistryr u p k r u p k r u p k r u p k r u p k leo messi dinner barcelona sergio busquets jordi alba big friends center barcelona share see legit ans like mirchi somak xavi laliga barcelona player manager legend first kiss forget rodrigo de paul whole vibe right one last dance supercampions girl picturethe picture busii emiiiiiiiiii ago today goat bear one man million memories happy birthday greatest player time lionel messi many people come pl see fan still pic day messi make psg mbappe backheel assist mean else argentina semi finalist world cup face croatia netherlands world cup messi put gvardiol blender assist sergio busquets decide leave barca barcelona la liga champion xavi hernandez win first la liga title manager beat espanyol tonight catalan derby la liga see ronald araujoyou might last players die badgesour gladiator lionel messi julian alvarez shy ederson push lift trophy break lionel messileo messi father jorge messi speak return barca meet president laporta leo want return see messi do national team yet santanu halder arnab sarkar ritom mistry sayan kar always remain heart kk august may moment hummm nahi sudhrenge lionel messi level gabriel batistuta argentina time top goalscorer south city mall ft alternatives vivekananda college trinamool chatra parishad udaan day soubhagya das humiliate madrid dna tiki taka enjoy pure football lionel messi play mls lionel messi play inter miami go barcelona spanish supercopa champion first trophy since win copa del rey end era hey bro play sack race like whose pola end era thank everything jordi alba tear receive stand ovation walk pitch spotify camp nou last time barcelona legend brazilian legend pele pass away one greatest time change game man god give talent one historical name see time last hours idea propose barca v vissel kobe friendly iniesta could play one half barca half visse see hattrick leo messi lionel messi become first player ever score international goals world cup winner congratulations greatest goat parent free kick man hi haters say anything lionel messi assist sergio ramos time alive leo messi leave european football end era favourite moment messi european club career number game goals see angel di maria score three straight finals argentina big game player happiness\n",
            "521\n",
            "[0.003990047, -0.00070507807, -0.00063104875, -0.002450346, -0.004208006, -0.00037156578, -0.0058201714, -0.002869154, 0.0008107119, 0.0053393897, 0.0018132658, -0.0067185657, 0.004658957, -0.0010357356, 0.011788019, 0.0016509261, -0.00080362865, -0.00028143864, 0.0044432185, -0.0028599803, -0.0012651157, -0.006182989, 0.0009225182, -2.7494729e-05, -0.00022441606, -0.0010232684, 0.0016016664, -0.0031600588, 0.0057285787, -0.010542415, -0.008351284, -0.0031600588, 0.0057285787, -0.010542415, -0.008351284, -0.0031600588, 0.0057285787, -0.010542415, -0.008351284, -0.0031600588, 0.0057285787, -0.010542415, 0.0010233555, -0.00077507464, -0.012117739, -0.0045042317, 0.000884397, -0.0046022846, 0.004206575, 0.0033168434, -0.0012313721, -0.0026255012, 0.0017685785, -0.009750261, -0.0013592516, -0.00038761448, -0.0011250136, -0.0029937243, 0.0044432185, -0.004797528, -0.008782955, -0.00078324694, -0.00088064594, 0.0016250814, 0.0023813657, 0.0044432185, -0.00011014402, 0.003075173, 0.0029924675, -0.00499253, -0.004797528, -0.003612007, 0.0005195407, 0.030713517, 0.00015017232, 0.010575852, -0.0019445976, -0.007037379, -0.014125993, 0.0024728375, -0.005641273, -0.0012970255, -0.00011014402, -0.012016968, 0.005003664, -0.0010437231, -0.0036561163, -0.002342543, 0.00088190555, -0.0057108756, 0.0024728375, 0.0036226043, 0.0027062725, -0.006316598, -0.0032153258, -0.012016968, -0.0108603, -0.00314273, -0.005506936, -0.0108603, -0.0069693476, -0.0023787257, -0.006660682, -0.0108603, -0.00314273, -0.007037379, 0.011563052, -0.0006570403, 0.0010396123, 0.006070713, 0.007042877, 0.0033139023, 0.021340702, 0.0016694828, -0.0056499117, 0.0044432185, -0.0019529513, -0.003112082, -0.0040898975, 0.0009225182, -2.7494729e-05, -0.00022441606, -0.0010232684, 0.0016016664, -0.0031600588, 0.0057285787, -0.010542415, -0.008351284, -0.0031600588, 0.0057285787, -0.010542415, -0.008351284, -0.0031600588, 0.0057285787, -0.010542415, -0.008351284, -0.0031600588, 0.0057285787, -0.010542415, -0.008351284, -0.0031600588, 0.0057285787, -0.010542415, -0.0022411717, 0.002953179, 0.0009225182, -2.7494729e-05, -0.00022441606, -0.0010232684, 0.0016016664, -0.0031600588, 0.0057285787, -0.010542415, -0.008351284, -0.0031600588, 0.0057285787, -0.010542415, -0.008351284, -0.0031600588, 0.0057285787, -0.010542415, -0.008351284, -0.0031600588, 0.0057285787, -0.010542415, -0.008351284, -0.0031600588, 0.0057285787, -0.010542415, -0.006316598, -0.0032153258, -0.002269247, -0.00011014402, 0.00063564855, -0.00026234437, 0.0026340901, 0.0023237478, -0.009750261, -0.003112082, -3.4830969e-06, -0.00011014402, 0.0042029605, 0.0044432185, -0.0038027933, -0.011272291, -0.0012137892, -0.0022456709, -0.0023400064, 0.005418095, -0.0049935547, -0.00011014402, -0.0023787257, -0.00017554601, -0.0052776975, 0.0017685785, 0.0026934189, -0.00062426185, 0.001421441, 0.021340702, 0.007297271, 0.0005805958, 0.009009186, 0.0009910616, -0.003979863, -0.00023081104, -0.0018276217, 0.0002361418, -0.0019992208, 0.0009880116, -0.001367155, -0.005905165, 0.0017437176, -0.0038147569, -0.0016927087, 0.0014935341, 0.0013942281, -0.003979863, 0.00090579846, -0.0021892875, -0.004808447, -0.0045042317, -0.002619909, -0.0049600108, -0.0023787257, -0.0014402281, -0.00056868553, -0.0032153258, -0.0067619896, -0.002788194, -0.004797528, 0.0066024475, 0.0044432185, -0.006162933, -0.003099041, 0.0051531834, -0.0025426156, -0.0032153258, -0.006065611, 0.0010759203, 0.004328475, 0.008521846, -0.0032836725, -0.005641273, -0.0051544053, -0.003764775, 0.0002839012, 0.0005726881, -0.007037379, -0.014125993, 0.0036296418, -0.0015725734, -0.0019167654, -0.007037379, -0.014125993, -0.0032153258, -0.0023589476, 0.004793892, 0.005962674, -0.0032836725, 0.00063564855, -0.00026234437, -0.0024276231, 0.0074752886, -0.0030124395, -0.00011014402, 0.03174397, -0.011906698, -0.006001676, 0.005418095, -0.002662771, -0.012016968, 0.0017685785, 0.03174397, -0.011906698, -0.0024665094, -0.00017554601, 0.0013021012, -0.00044063161, 0.0013730814, -0.00030558227, -0.003561738, 0.03174397, -0.011906698, 0.0044432185, -0.0026249667, -0.0026791373, -0.0044668308, -0.00023081104, -0.003768874, 0.00047816514, 0.0025606758, -0.0003118383, -0.00056868553, -0.0032153258, 0.0020517844, 3.179749e-05, 0.00059813657, -0.0011346678, 0.00047026176, -0.004309848, -0.008248664, 0.002693517, -0.00056868553, 0.002357981, -0.0032153258, -0.00022110403, 0.002389693, -0.0032153258, 0.0004490129, -0.00026590488, -0.0030124395, -0.003798004, -0.0022962622, 0.0004330952, -0.006316598, -0.0013633191, -0.00026590488, 0.0044432185, -0.0032153258, -0.006182754, -0.0018048416, -0.009206209, 0.0044635097, 0.0009225182, -0.0016463033, -0.0044546765, 0.00017631869, -0.0011180929, -0.0035371617, -0.0010434816, -0.007595728, -0.003677294, 8.461605e-05, -0.001768109, -0.000293233, -0.002236559, -0.007088786, 0.0016524076, -0.0039938823, -0.0028603706, -0.0002689145, -0.00056868553, -0.0032153258, 0.0015914994, 0.0020017351, -0.0018701787, -0.003764775, -0.0014402281, -0.008718389, -0.0057936297, 0.0006009138, -0.0027374935, -0.004408344, 0.008009744, -0.0004489553, -0.00042561372, -0.004026132, -0.0014378709, 0.0012561039, -0.002151893, 0.0023813657, -0.0025426156, -0.0010357356, 0.011788019, -0.00016322856, -0.0012651157, -0.0012290726, -0.0075998767, -0.011666662, -0.0028599803, 0.00017294784, -0.0069693476, -0.00056868553, -0.0032153258, -0.0054104957, 0.007296297, -0.00056868553, -0.0032153258, -0.0054104957, -0.002935739, 0.00015010755, -0.01084902, -0.00011014402, -0.00059115805, -0.0012963628, -0.006001676, 0.0017685785, -0.008248664, -0.003762041, -0.012016968, -0.01105208, 0.016676549, -0.0051841987, -0.0030037935, -0.014879168, -0.0067469026, 0.0006091527, -0.0054104957, -0.005306611, -0.0020224212, -0.0012137892, 0.0021954456, 0.007130902, -0.0030037935, -0.014879168, -0.0036561163, -0.0012970255, 0.0026340901, 0.0023237478, 0.010575852, 0.0039924774, 0.002244889, 0.0047047352, 0.0033422, 0.0046046334, -0.0023354478, 0.0028617345, 0.0041633947, -0.00023081104, -0.0014402281, -0.00011014402, -0.0052776975, 0.0010825783, -0.0052776975, 0.0058044083, 0.0038020865, 0.000211248, -0.003979863, -0.0049600108, -0.0014402281, -0.00028618236, -0.003620755, 0.00090579846, -0.0070469603, 0.005684421, -0.004434701, -0.003979863, 0.00085422833, -0.0028352477, 0.0044432185, -0.0014402281, -0.00023081104, 0.003907969, 0.0002483661, -0.0028446568, -0.0030124395, 0.016932093, -0.00043685475, -0.007765565, -0.0023000967, 0.0014403879, -0.0040905755, -0.0054104957, -0.003979863, 0.0016316203, -0.0030124395, 0.0016316203, -0.0018725741, 0.0044432185, 0.0011322465, -0.006316598, -0.0032153258, -0.00056868553, -0.0032153258, -0.0019996173, 0.0017685785, -0.0023787257, -0.005372779, -0.0019445976, -0.0001530753, -0.006624776, -0.007037379, -0.014125993, -0.0046962476, -0.0018569984, -0.0049600108, 0.0014935341, 0.001619035, 0.0040082023, 0.008701385, 0.00090579846, 0.008582012, -0.0008608061, -0.0032433048, -0.00036682832, -0.00056868553, -0.0032153258, -0.0032836725, 0.00063564855, -0.0005103171, -0.0014402281, -0.0048055653, -0.006316598, -0.0032153258, 0.0074752886, -0.0036352118, -0.0069693476, -0.0030037935, -0.014879168, -0.00086072524, 0.0016524076, -0.0032153258, -0.0036352118, -0.013254925, -0.00545182, -0.0023741527, -0.003620755, -0.006624776, 0.0044432185, 0.0005195407, 0.030713517, 0.00015017232, -0.0019445976, -0.00094156543, 0.0003055902, -0.0037618394, -0.003764775, -0.009750261, -0.003620755, -0.0023787257, -0.0043470925]\n",
            "521\n",
            "[['0.22', '0.2', '0.2', '0.2', '0.18'], ['0.14', '0.2', '0.26', '0.16', '0.24'], ['0.17', '0.24', '0.22', '0.2', '0.17'], ['0.19', '0.21', '0.23', '0.17', '0.2'], ['0.18', '0.2', '0.2', '0.22', '0.19']]\n",
            "day namchi sikkim sharod diaries pt festivalens sharoddairies samaritansti sharod diaries pt festivalens sharoddairies samaritansti\n",
            "15\n",
            "[-0.0025426156, -0.0030339647, -0.0070072366, -0.00069963455, -0.0035190117, 0.032652605, -0.001991057, -0.0025405078, 0.0020321654, -0.00069963455, -0.0035190117, 0.032652605, -0.001991057, -0.0025405078, 0.0020321654]\n",
            "15\n",
            "[['0.22', '0.2', '0.2', '0.2', '0.18'], ['0.14', '0.2', '0.26', '0.16', '0.24'], ['0.17', '0.24', '0.22', '0.2', '0.17'], ['0.19', '0.21', '0.23', '0.17', '0.2'], ['0.18', '0.2', '0.2', '0.22', '0.19'], ['0.15', '0.23', '0.25', '0.18', '0.2']]\n",
            "new gojo satoru art gege initial page jjk volume summer summervibes comedy memes literally describe life go right potato mutton lovers amaze starboy mood nowadays industry riyal careful every time kiss taste like heaven aaye haye oye oye memes fun lol viral chahatfatehalikhan narrator say unlock potential black flash amidst scatter black spark itadori yuji awaken everytime weather recently beauty sunset shibuya jai sree ramjai bajrangbaliram burdwan direct christopher nolan life busy days many people everyone want lunch box pretty like name ishqcore black flash happy soul\n",
            "87\n",
            "[0.0020585987, 0.001651065, -0.0016274871, -0.0012996661, 0.006594893, 0.003753125, 0.0013100046, 0.00014579893, 0.0027348602, -0.0016222062, -0.0006809435, -0.0002849275, 0.0013617342, -0.0005033821, 0.0011179057, -0.0057536648, -0.01084902, 0.0009910616, -0.0022093016, -0.0049304585, -0.008052702, -0.002182509, 0.00041993603, -0.001307882, -0.0035432505, -0.0050321333, -0.008153213, 0.001779493, 0.0031642655, -0.0014402281, 0.0026934189, 0.0039261566, -0.0012137892, -0.0027886147, -0.0114652505, -0.0050226953, -0.0028991255, -0.0028991255, 0.0013617342, -0.0047401637, -0.00938202, 0.007859295, -0.0007368688, -0.000732579, -0.0032433048, -0.0034847665, -0.0015561362, 0.0013735578, 0.0044510593, 0.0008945779, 0.0040988238, 0.0013735578, 0.002131823, 0.0021016009, 0.002396956, 0.0016834259, -0.0005272005, 0.0009572814, 0.00051775156, 0.0008022954, 0.005002283, -0.0011172178, -0.0068943985, -0.0011761034, -0.0029316742, 0.00010846873, 0.001982183, 0.0040433607, -0.00031822047, -0.0016890117, -0.0057536648, -7.7925324e-05, -0.0014024591, -0.0067619896, -0.002788194, -0.001832371, -0.0013633191, 0.0022561327, -0.008162468, -0.0023238135, -0.0012137892, -0.0028352477, 0.0026515848, 0.0013735578, 0.0044510593, -0.0045042317, 0.00087413035]\n",
            "87\n",
            "[['0.22', '0.2', '0.2', '0.2', '0.18'], ['0.14', '0.2', '0.26', '0.16', '0.24'], ['0.17', '0.24', '0.22', '0.2', '0.17'], ['0.19', '0.21', '0.23', '0.17', '0.2'], ['0.18', '0.2', '0.2', '0.22', '0.19'], ['0.15', '0.23', '0.25', '0.18', '0.2'], ['0.19', '0.2', '0.24', '0.17', '0.19']]\n",
            "excite news hey everyone beyond thrill share amaze news give incredible opportunity part isp internshala student partner program represent internshala face program college wor see\n",
            "25\n",
            "[0.0029423283, 0.0025275373, -0.0067469026, -0.001832371, -0.00048946845, -0.00031349203, 0.0042029605, -0.002182509, 0.0025275373, 0.005684421, 0.00021185917, 0.001385842, 0.0014721167, -0.016217448, -0.0011303709, -0.0012622769, 0.00059143506, -0.0010236417, -0.002658518, -0.0011303709, 0.0036296418, -0.0010236417, -0.004026132, -0.001030252, 0.0044432185]\n",
            "25\n",
            "[['0.22', '0.2', '0.2', '0.2', '0.18'], ['0.14', '0.2', '0.26', '0.16', '0.24'], ['0.17', '0.24', '0.22', '0.2', '0.17'], ['0.19', '0.21', '0.23', '0.17', '0.2'], ['0.18', '0.2', '0.2', '0.22', '0.19'], ['0.15', '0.23', '0.25', '0.18', '0.2'], ['0.19', '0.2', '0.24', '0.17', '0.19'], ['0.16', '0.18', '0.22', '0.26', '0.17']]\n",
            "kotulpur highlight jai maa raksha kali kotulpur cow market mother bless everyone mother\n",
            "13\n",
            "[3.6891302e-06, -0.00076815026, -0.0068943985, 0.007139747, 0.0044386825, 0.0017801818, 3.6891302e-06, -0.0094748065, -0.001830707, 0.00038103163, -0.006455558, -0.001832371, 0.00038103163]\n",
            "13\n",
            "[['0.22', '0.2', '0.2', '0.2', '0.18'], ['0.14', '0.2', '0.26', '0.16', '0.24'], ['0.17', '0.24', '0.22', '0.2', '0.17'], ['0.19', '0.21', '0.23', '0.17', '0.2'], ['0.18', '0.2', '0.2', '0.22', '0.19'], ['0.15', '0.23', '0.25', '0.18', '0.2'], ['0.19', '0.2', '0.24', '0.17', '0.19'], ['0.16', '0.18', '0.22', '0.26', '0.17'], ['0.14', '0.26', '0.22', '0.15', '0.23']]\n",
            "wait new version dance video pura dekhe happy birthday homemade generator create use plastic bottle power water may beloved get chain see face may beloved find patience see face see beautiful sun set single love story write god busy make best time slow time fast never stop always last time bed good night wish happy new year cut plastic put phone happen next breathtaking video paper engine model work aid pressure machine take internet storm watch complete ram katha subscribe channel get story every room share ram devotee self troll\n",
            "90\n",
            "[0.0002262636, 0.0020585987, 0.00042247763, -0.0018276217, 0.0035090318, -0.0052144513, 0.0007311545, -0.0045042317, -0.002619909, -0.00020241758, 0.00034265796, 0.00011408053, 0.008236836, -0.0025556663, -0.00055624684, 0.001334008, 0.0010878327, -0.007088786, -0.0018903782, 0.002053332, -0.0022971774, 0.0044432185, 0.0036296418, -0.007088786, -0.0018903782, -0.0005540792, 0.0025108324, 0.0044432185, 0.0036296418, 0.0044432185, -0.0013174935, 0.0046497383, 0.0029924675, 0.0037127289, 0.0011810825, -0.0010370032, -0.00059340993, -0.0070469603, -7.7925324e-05, -0.006065611, -0.0108603, -0.0014402281, -0.0005769673, -0.0014402281, 0.0030046678, -0.001652453, -0.0023025884, -0.003677294, -0.00023081104, -0.0014402281, 0.0021173677, -0.001763463, -0.0001432094, -0.0037354326, -0.0045042317, 0.0020585987, -0.006660682, -0.0012717528, -0.0025556663, -0.0023589476, -0.004208006, -0.0033743647, -0.0017432082, 0.00014796063, 0.0035090318, -0.0058365213, 0.001207637, -0.0009115978, 0.00049261877, -0.0053132875, -0.0013272339, -0.0023551928, 0.0063370755, -0.0023634124, 0.0057824375, 0.00085365615, 0.00086657883, -0.010012743, 0.00079790043, 0.0030805643, 0.0019086954, 0.002053332, -0.0010370032, 0.0031642655, -0.0020742163, 0.0042029605, -0.010012743, -0.0014726191, 0.0012229411, -0.0015576218]\n",
            "90\n",
            "[['0.22', '0.2', '0.2', '0.2', '0.18'], ['0.14', '0.2', '0.26', '0.16', '0.24'], ['0.17', '0.24', '0.22', '0.2', '0.17'], ['0.19', '0.21', '0.23', '0.17', '0.2'], ['0.18', '0.2', '0.2', '0.22', '0.19'], ['0.15', '0.23', '0.25', '0.18', '0.2'], ['0.19', '0.2', '0.24', '0.17', '0.19'], ['0.16', '0.18', '0.22', '0.26', '0.17'], ['0.14', '0.26', '0.22', '0.15', '0.23'], ['0.13', '0.16', '0.21', '0.26', '0.23']]\n",
            "ishan banerjee sayantan chakraborty shauvik das debanjan paul arunabha poddar rupam ganguly ritarshi banerjee prerona biswas ishan banerjee sayantan chakraborty raj banerjee rupam ganguly ritarshi banerjee shauvik das focus good ritarshi banerjee click hallo schon wish happy prosperous diwali shoot achievements lockdown diaries moody theme happy wed anniversary papa mum count second fresh start lockdown diaries dsc sonydark orange theme khushi roy ritarshi banerjee continue practice play gta birthday thank much ritarshi banerjee click ritarshi banerjee ki kire lockdown diaries redmi note lockdown diaries happy birthday lot love dear dad stay well stay healthy may dream come true happy birthday ritarshi banerjee theke besh valoi combo amader cholche jaihok amr name dhar newar jnno dhonnobad name ta dhar mama niyechilo amr theke jodio r lomba hos na vai pls take love go apply decent job work everyone lockdown diaries lockdown diaries\n",
            "141\n",
            "[-0.0022113724, -0.0067185657, -0.0011648003, -0.0009650588, -0.0018309774, 0.011788019, 0.002834142, 0.007297271, -0.0030698443, 0.002218728, 0.004206575, -0.0025869424, -0.0016712259, -0.0067185657, -0.0027521076, 0.002735905, -0.0022113724, -0.0067185657, -0.0011648003, -0.0009650588, 0.00020137985, -0.0067185657, 0.004206575, -0.0025869424, -0.0016712259, -0.0067185657, -0.0018309774, 0.011788019, 0.0033642605, -0.001763463, -0.0016712259, -0.0067185657, 0.0072867903, -0.0007181506, 0.0034183161, -0.0037354326, -0.0045042317, -0.0030264023, 0.0012625877, 0.0048155435, -0.0026828276, 0.0028005962, -0.0035190117, 0.005274617, 0.0024243195, -0.0045042317, -0.0038816961, -0.001448385, 0.00040147343, -0.00026870647, -0.004795014, 0.0034715247, 0.00053551234, 0.0011740321, 0.0028005962, -0.0035190117, 0.006494304, -0.00028560206, 0.0008614159, 0.0024243195, -0.00066628854, -0.0052970587, -0.0016712259, -0.0067185657, -0.0010461833, 0.0024760838, -0.0054104957, 0.012005523, -0.002619909, -0.0036561163, -0.0040644957, -0.0016712259, -0.0067185657, 0.0072867903, -0.0016712259, -0.0067185657, 0.0045825415, 0.0028127565, 0.0028005962, -0.0035190117, -0.00010231495, 0.0047728843, 0.0028005962, -0.0035190117, -0.0045042317, -0.002619909, -0.007638453, 0.0011810825, -0.0040011415, -0.0035851726, -0.0054117967, -0.0075903004, -0.0054117967, 0.00086108944, -0.007088786, -0.008782955, -0.004797528, -0.0077197617, -0.0045042317, -0.002619909, -0.0016712259, -0.0067185657, 0.0013052511, -0.002752424, -0.0020186198, 0.0034749, 0.00081076985, -9.778018e-06, 6.8315516e-05, 0.0083297165, -0.0028352477, 0.0014136847, 0.0002819834, -0.00027829077, -0.0024929016, -0.0028352477, 0.010530168, 0.0014136847, 0.0011902348, 0.0021460683, 0.0083297165, 0.0013052511, 0.0027707536, -0.008351284, -0.0006628541, 0.0012017288, 0.016361741, 0.014272833, 0.006222374, 0.0063370755, 0.0011810825, -0.01084902, 0.0069342884, 0.001254868, -0.0001708438, 0.00049261877, -0.001832371, 0.0028005962, -0.0035190117, 0.0028005962, -0.0035190117]\n",
            "141\n",
            "[['0.22', '0.2', '0.2', '0.2', '0.18'], ['0.14', '0.2', '0.26', '0.16', '0.24'], ['0.17', '0.24', '0.22', '0.2', '0.17'], ['0.19', '0.21', '0.23', '0.17', '0.2'], ['0.18', '0.2', '0.2', '0.22', '0.19'], ['0.15', '0.23', '0.25', '0.18', '0.2'], ['0.19', '0.2', '0.24', '0.17', '0.19'], ['0.16', '0.18', '0.22', '0.26', '0.17'], ['0.14', '0.26', '0.22', '0.15', '0.23'], ['0.13', '0.16', '0.21', '0.26', '0.23'], ['0.18', '0.21', '0.23', '0.14', '0.25']]\n",
            "life begin wake love mother face happy mother day happy father day somitava chatterjee subho maha astami fall catch sei years ager khota achon dadar k er family damdama chandpara hajra fall harder harder every day see students unite west bengal state council technical education wbscte demand change accountabilitythe students calcutta technical scho see peace demand heroic labor difficult sacrifice unite apc see save best move time devil jabe naki debangshu halder nilotpal roy arkya dasabhranil biswassoumya ghoshtuhina aliakash majianiket mukherjeesouvik ghosh de somitava chatterjee ria das devil debangshu halder abhranil biswas possess bengali mom debangshu halder doubt wear red happy birthday late grandfather miss lot wish wherever happy sob borolok debangshu halder nilotpal roy arkya das biplab sarkar aniket mukherjee abhranil biswas akash maji tuhina ali\n",
            "127\n",
            "[-0.0057536648, 0.0017310581, 0.004838998, 0.0011810825, 0.00038103163, 0.0036296418, -0.0045042317, 0.00038103163, -0.0025426156, -0.0045042317, -0.00022110403, -0.0025426156, -0.00088806293, -0.0009496081, -0.0037127936, -0.0026054934, -0.00051332, 0.0025657902, 0.0021881782, 0.0074863164, -0.00499253, 0.0069125416, 0.0021958249, 0.0006283692, 0.004206876, -0.010542415, -0.0062635, -0.003436879, 0.0012543065, 0.0008966945, -0.0020694875, 0.0025657902, -0.0033490574, -0.0033490574, 0.0031642655, -0.0025426156, 0.0044432185, -0.0006768616, -0.0032562283, 0.0006456586, 0.0025699467, -0.0026943532, -0.000945976, 0.0009922296, -3.7903737e-05, 0.00030314078, 0.0010708544, -0.00028618236, -2.8586735e-05, -0.0006768616, -0.003946639, 0.0009922296, 0.0011224541, 0.0044432185, -0.0037134541, 0.0010708544, -0.001424046, 0.003088044, -0.0021248963, -0.0017648246, -0.0032562283, 0.013196922, 0.0044432185, -0.003669443, -0.0108603, 0.0010357399, -0.0014402281, -0.0022529599, -0.0032242865, 0.008231844, 0.0014076671, -0.0016463033, -0.0006431523, -0.0052970587, -0.0046319813, -0.0005710714, -0.0008795669, -0.0009842293, 0.00026954114, -0.002058982, -0.00079352834, -0.0020179646, 0.021340702, -0.00088806293, -0.0009496081, 0.006412505, 0.011788019, -0.0022529599, 0.0014076671, -0.0016463033, 0.0014568538, 0.002735905, 0.0021966344, 0.0004916032, -0.0022408739, 0.0014076671, -0.0016463033, -0.004224719, 0.0021238874, -0.0062238644, -0.0045042317, -0.002619909, -0.0032015254, -0.0019697463, 0.004515634, -0.007638453, -0.0037354326, -0.0009852459, -0.0045042317, 0.0071638743, -0.0014413366, 0.0014076671, -0.0016463033, -0.0006431523, -0.0052970587, -0.0046319813, 0.011788019, -0.0026831457, 0.00017631869, 0.000807788, -0.0016077831, 0.0014568538, 0.002735905, 0.00021496117, -0.005921344, -0.0017139928, -0.00088490645]\n",
            "127\n",
            "[['0.22', '0.2', '0.2', '0.2', '0.18'], ['0.14', '0.2', '0.26', '0.16', '0.24'], ['0.17', '0.24', '0.22', '0.2', '0.17'], ['0.19', '0.21', '0.23', '0.17', '0.2'], ['0.18', '0.2', '0.2', '0.22', '0.19'], ['0.15', '0.23', '0.25', '0.18', '0.2'], ['0.19', '0.2', '0.24', '0.17', '0.19'], ['0.16', '0.18', '0.22', '0.26', '0.17'], ['0.14', '0.26', '0.22', '0.15', '0.23'], ['0.13', '0.16', '0.21', '0.26', '0.23'], ['0.18', '0.21', '0.23', '0.14', '0.25'], ['0.15', '0.26', '0.25', '0.1', '0.24']]\n",
            "celebrate holi friends legends\n",
            "4\n",
            "[-0.0033056473, 0.0016003647, -0.003112082, -0.0052645733]\n",
            "4\n",
            "[['0.22', '0.2', '0.2', '0.2', '0.18'], ['0.14', '0.2', '0.26', '0.16', '0.24'], ['0.17', '0.24', '0.22', '0.2', '0.17'], ['0.19', '0.21', '0.23', '0.17', '0.2'], ['0.18', '0.2', '0.2', '0.22', '0.19'], ['0.15', '0.23', '0.25', '0.18', '0.2'], ['0.19', '0.2', '0.24', '0.17', '0.19'], ['0.16', '0.18', '0.22', '0.26', '0.17'], ['0.14', '0.26', '0.22', '0.15', '0.23'], ['0.13', '0.16', '0.21', '0.26', '0.23'], ['0.18', '0.21', '0.23', '0.14', '0.25'], ['0.15', '0.26', '0.25', '0.1', '0.24'], ['0.21', '0.18', '0.2', '0.2', '0.2']]\n",
            "sniper humour sonu sood tmcl play pubg bank final day quarantine dubai kit ready ready let us roll mrfcricketsouthafrica pumasouthafrica difference pubgmliteclan snowid sensational bat kl rahul bring second ipl century first kings xi punjab kxipvrcb mybirthday birthdayparty humor cat dog never sure make filter watch video marvel cinematic universe phase new release date every mcu movie release date marvel mcu disney blackwidow csk back win ways ab aayega mazza cricketkatonic pharmeasy takeiteasy giphy churanbhejun snowclan pubgmobilelite sonu bhai stump pandya maintain socialdistancing bro see stranger dismissal recent time kkrvmi star sport networ see msd\n",
            "95\n",
            "[0.0064127264, 0.003393182, 0.0003177492, 0.004078451, -0.0018827451, -0.0054104957, -0.00019558241, -0.008063486, 0.0024728375, -0.0025426156, 0.0024018066, -0.0017341223, -0.0053523565, 0.00044698446, 0.00044698446, 0.003945475, 0.009384141, 0.0009302598, 0.00033228332, 0.0011883819, -0.0016421016, 0.00032023207, 0.0013391644, -0.00026106075, -0.0004401032, 0.023722738, -0.0004698507, -0.0029754073, 0.0034715247, -0.0032162173, 0.0005874756, 0.0017685785, -0.0073955264, 0.011563052, 0.0003243045, 0.0004735984, 0.00024187575, 0.0013152328, 0.0028405304, -0.009963419, -0.017525889, -0.001652453, -0.0066336966, -0.006065611, 0.0010104061, 0.00085365615, 0.0035090318, -0.00014773697, 0.0013841535, -0.00096649764, 0.0045382874, 0.0020585987, 0.0010932724, -0.0038865553, 0.0031642655, -0.002181747, -0.0023404867, 0.0010932724, -0.0038865553, -0.00014773697, -0.002181747, -0.006314321, -0.0012731251, -0.00077035587, -0.003843858, -0.012016968, -0.0096098585, 0.023092795, -0.0034796982, 0.003359212, 0.0018700204, -0.0015989107, -0.001706061, 0.010532642, -0.00026756924, -0.0014922695, -0.0011259064, 0.0003177492, -0.0067247273, 0.00265895, -0.002406667, 0.0001946039, 0.0010677062, 0.0006091527, 0.0044432185, 0.0017280958, 0.0038621267, -0.00016760608, -0.0014402281, -0.0012055293, -0.00093175034, -0.0092897955, -0.0026803645, 0.0044432185, -0.015049375]\n",
            "95\n",
            "[['0.22', '0.2', '0.2', '0.2', '0.18'], ['0.14', '0.2', '0.26', '0.16', '0.24'], ['0.17', '0.24', '0.22', '0.2', '0.17'], ['0.19', '0.21', '0.23', '0.17', '0.2'], ['0.18', '0.2', '0.2', '0.22', '0.19'], ['0.15', '0.23', '0.25', '0.18', '0.2'], ['0.19', '0.2', '0.24', '0.17', '0.19'], ['0.16', '0.18', '0.22', '0.26', '0.17'], ['0.14', '0.26', '0.22', '0.15', '0.23'], ['0.13', '0.16', '0.21', '0.26', '0.23'], ['0.18', '0.21', '0.23', '0.14', '0.25'], ['0.15', '0.26', '0.25', '0.1', '0.24'], ['0.21', '0.18', '0.2', '0.2', '0.2'], ['0.18', '0.21', '0.2', '0.21', '0.21']]\n",
            "go place spark joy\n",
            "4\n",
            "[-0.01084902, -0.0006105388, 0.002131823, -0.004051293]\n",
            "4\n",
            "[['0.22', '0.2', '0.2', '0.2', '0.18'], ['0.14', '0.2', '0.26', '0.16', '0.24'], ['0.17', '0.24', '0.22', '0.2', '0.17'], ['0.19', '0.21', '0.23', '0.17', '0.2'], ['0.18', '0.2', '0.2', '0.22', '0.19'], ['0.15', '0.23', '0.25', '0.18', '0.2'], ['0.19', '0.2', '0.24', '0.17', '0.19'], ['0.16', '0.18', '0.22', '0.26', '0.17'], ['0.14', '0.26', '0.22', '0.15', '0.23'], ['0.13', '0.16', '0.21', '0.26', '0.23'], ['0.18', '0.21', '0.23', '0.14', '0.25'], ['0.15', '0.26', '0.25', '0.1', '0.24'], ['0.21', '0.18', '0.2', '0.2', '0.2'], ['0.18', '0.21', '0.2', '0.21', '0.21'], ['0.17', '0.19', '0.25', '0.19', '0.2']]\n",
            "\n",
            "0\n",
            "[]\n",
            "0\n",
            "[['0.22', '0.2', '0.2', '0.2', '0.18'], ['0.14', '0.2', '0.26', '0.16', '0.24'], ['0.17', '0.24', '0.22', '0.2', '0.17'], ['0.19', '0.21', '0.23', '0.17', '0.2'], ['0.18', '0.2', '0.2', '0.22', '0.19'], ['0.15', '0.23', '0.25', '0.18', '0.2'], ['0.19', '0.2', '0.24', '0.17', '0.19'], ['0.16', '0.18', '0.22', '0.26', '0.17'], ['0.14', '0.26', '0.22', '0.15', '0.23'], ['0.13', '0.16', '0.21', '0.26', '0.23'], ['0.18', '0.21', '0.23', '0.14', '0.25'], ['0.15', '0.26', '0.25', '0.1', '0.24'], ['0.21', '0.18', '0.2', '0.2', '0.2'], ['0.18', '0.21', '0.2', '0.21', '0.21'], ['0.17', '0.19', '0.25', '0.19', '0.2'], ['0.13', '0.23', '0.19', '0.16', '0.29']]\n",
            "one day leave world nnever come back cry see mynumber miss sit alone willbe see see thousands want one person listen absence things understand experience nights go sleepless days go useless ask god love god reply dear exam near wish brother happy birthday special day us enjoy day search one person change life take look mirror wish would come back tell separate dav public school ccl organize future life unpredictable things change n stories write pen pain true friends never let us fall neither anyone eye anyone feet call heart nothing say old memories even silence signal great love smile lovingly see post happy birthday yrbe happy always difference alone alone friend unique one happy birthday oh friend may one ever look may lovely face never sad many happy return day selfie want become famous life boys learn scam girls learn raise eyebrows find reason smile otherwise life pass like try smile even unnecessarily life also smile along happy holly\n",
            "160\n",
            "[-0.003979863, -0.0025426156, 0.0074752886, -0.007037379, -0.0017436192, -0.004797528, -0.003843858, 0.005778388, 0.0044432185, -0.00050898275, 0.004515634, 0.0038844394, -0.0005533345, 0.0012566925, 0.0044432185, 0.0044432185, -0.0021741327, -0.0013633191, -0.003979863, -0.00065000623, 0.001217639, 0.0045088255, -0.0038417173, -0.0005923914, 0.00020072701, -0.0020327135, -0.01084902, 0.00094872696, -0.0014024591, -0.01084902, -0.001840163, -0.00093356945, -0.0070469603, 0.0011810825, -0.0070469603, 0.0041905935, -0.0040011415, 0.004388883, 0.001818403, -0.0037354326, -0.0013705455, -0.0045042317, -0.002619909, 0.001008788, -0.0025426156, 0.009384141, -0.0028599803, -0.0025426156, 0.0014768078, -0.003979863, -0.00065000623, -0.00028618236, -0.0057536648, 0.0063370755, 0.002771818, 0.001877869, -0.0037354326, -0.004174035, -0.004797528, -0.003843858, -0.0013592936, -0.00070675043, 0.010143034, 0.00033657634, -0.00047227656, 0.0007730218, -0.0017087653, -0.006526938, -0.0057536648, -0.0010730429, -0.0038417173, -0.00028618236, 0.0033280598, -0.002311644, -0.00059340993, -0.014387261, 0.0023213213, -0.0077197617, -0.003112082, -0.001652453, 0.003945475, 0.009384141, 0.0025657902, 0.0006346691, 0.00094618363, 0.008828003, 0.00094618363, -0.0005517079, 4.6509405e-05, -0.001768109, -0.0016657772, -0.0032433048, -0.0019529513, -0.004808447, -0.004137682, 0.0036019755, -0.0010626861, -0.0022348496, 0.0011810825, -0.0017025204, -0.0021292511, 0.0044432185, 0.00409128, -0.0045042317, -0.002619909, -5.586172e-05, -0.0045042317, -0.003677294, -0.0016421016, -0.0005533345, -0.0005533345, -0.0021905154, -0.00076934526, -0.003979863, -0.0045042317, -0.002619909, -0.006720132, -0.0021905154, -0.007088786, -0.003979863, -0.005372779, 0.002771818, -0.007088786, -4.042089e-05, 0.0036296418, -0.001652453, -0.0015098667, -0.0067619896, -0.0045042317, -0.00026590488, -0.0025426156, 0.0017388893, -0.0013633191, -0.0019996173, -0.006250846, -0.0057536648, -0.0034133343, 0.0015749718, -0.012610616, -0.004119641, 0.0015749718, -0.0017458135, -0.00085922994, -0.0005540792, 0.00085686403, -0.0017025204, -0.00013915956, -0.0057536648, 0.0038020865, -0.0012137892, -0.0007840461, -0.0017025204, -0.004137682, -0.0006774143, -0.0057536648, -0.0041166297, -0.0017025204, -0.001333785, -0.0045042317, -0.0025471575]\n",
            "160\n",
            "[['0.22', '0.2', '0.2', '0.2', '0.18'], ['0.14', '0.2', '0.26', '0.16', '0.24'], ['0.17', '0.24', '0.22', '0.2', '0.17'], ['0.19', '0.21', '0.23', '0.17', '0.2'], ['0.18', '0.2', '0.2', '0.22', '0.19'], ['0.15', '0.23', '0.25', '0.18', '0.2'], ['0.19', '0.2', '0.24', '0.17', '0.19'], ['0.16', '0.18', '0.22', '0.26', '0.17'], ['0.14', '0.26', '0.22', '0.15', '0.23'], ['0.13', '0.16', '0.21', '0.26', '0.23'], ['0.18', '0.21', '0.23', '0.14', '0.25'], ['0.15', '0.26', '0.25', '0.1', '0.24'], ['0.21', '0.18', '0.2', '0.2', '0.2'], ['0.18', '0.21', '0.2', '0.21', '0.21'], ['0.17', '0.19', '0.25', '0.19', '0.2'], ['0.13', '0.23', '0.19', '0.16', '0.29'], ['0.18', '0.21', '0.19', '0.18', '0.24']]\n",
            "life tough enjoy bankura lakshatora crematorium dress differently year bestfriendchallenge arrival old memories tulip garden srinagar best view come hardest climb perfect meme nowadays problem give discount enjoy day freely wonderful moments friendsforever\n",
            "33\n",
            "[-0.0057536648, -0.0023422732, -0.0028599803, -0.0029110427, 0.0010766605, 6.074575e-05, -0.0016512149, -0.0042115073, -0.006660682, -0.0010143765, -0.00046368717, -0.0019529513, -0.004808447, -0.008914938, -0.0052502113, -0.0005161751, -0.0108603, 0.0022216036, -0.004797528, -0.0007952247, 0.0022694515, 1.5929838e-05, 0.0036533745, -0.0035432505, -0.0036642202, 0.005684421, -0.0007839824, -0.0028599803, -0.0025426156, -0.00014261424, -0.001228368, 0.0006937472, -0.002345384]\n",
            "33\n",
            "[['0.22', '0.2', '0.2', '0.2', '0.18'], ['0.14', '0.2', '0.26', '0.16', '0.24'], ['0.17', '0.24', '0.22', '0.2', '0.17'], ['0.19', '0.21', '0.23', '0.17', '0.2'], ['0.18', '0.2', '0.2', '0.22', '0.19'], ['0.15', '0.23', '0.25', '0.18', '0.2'], ['0.19', '0.2', '0.24', '0.17', '0.19'], ['0.16', '0.18', '0.22', '0.26', '0.17'], ['0.14', '0.26', '0.22', '0.15', '0.23'], ['0.13', '0.16', '0.21', '0.26', '0.23'], ['0.18', '0.21', '0.23', '0.14', '0.25'], ['0.15', '0.26', '0.25', '0.1', '0.24'], ['0.21', '0.18', '0.2', '0.2', '0.2'], ['0.18', '0.21', '0.2', '0.21', '0.21'], ['0.17', '0.19', '0.25', '0.19', '0.2'], ['0.13', '0.23', '0.19', '0.16', '0.29'], ['0.18', '0.21', '0.19', '0.18', '0.24'], ['0.23', '0.16', '0.19', '0.21', '0.21']]\n",
            "rain come pour drown could finally breathe morning go trace think finally clean buy stairway heaven p c manaswita chakraborty c c preetam chakraborty sir er birthday celebration sayani das abhishikta ray manaswita chakraborty first glance seem pretty thinkall along someinvisible stringtying p see think win better lose every day even lose everything surrender matter much flood depression dress differently red black today ananya facebook find two way answer come p c abhishikta ray look day today sea blue eye bandraworlisealink time fly year since mumbai entry wave inspire rise fall time fall never forget rise bandrabandstand bandrafort quick\n",
            "99\n",
            "[0.0018880586, -0.004797528, 0.0065425895, 0.00079520146, -0.0040905755, -0.0007134341, 0.0009985279, 0.0033076275, -0.01084902, 0.0044018994, -0.0043525193, -0.0007134341, -0.00048143914, -0.005435162, -0.0026860046, -0.0027886147, 0.0057285787, 0.015955545, -0.0016726875, -0.0009650588, 0.015955545, 0.015955545, -0.00043128108, -0.0009650588, -0.002683143, -0.0062635, -0.002619909, -0.0014394205, -0.0017118088, 0.011788019, 0.0015571801, -0.0023422118, -0.0016726875, -0.0009650588, 0.0017685785, 0.0074089305, -0.002495416, -0.0023238135, -0.0016270914, -0.001333785, 0.0003924921, -3.007864e-05, 0.0057285787, 0.0044432185, -0.0043525193, -0.012016968, -0.0058201714, 0.000336895, 0.0031642655, -0.0025426156, -0.004137682, 0.000336895, -0.0012970255, 0.001453621, -0.00032930585, -0.0040644957, 0.0060722777, -0.0027253043, -0.0016512149, -0.0042115073, -0.0062238644, 0.0013735578, -0.0016927087, -0.00033274392, 0.0011843401, -0.0005540792, -0.002463603, -0.005798859, -0.0008451036, -0.004797528, 0.0057285787, 0.015955545, 0.0015571801, -0.0023422118, 0.002771818, -0.0025426156, -0.0016927087, 0.0066767563, -0.0014079853, 0.008828003, -0.0014032779, -0.0014402281, -0.0025942684, -0.006660682, -0.003762041, 0.00013048113, -0.00047945837, 0.008657503, -0.0014000399, 0.0068167225, 0.0025657902, -0.0014402281, 0.0025657902, -0.001652453, -0.00062426185, 0.0068167225, -0.0022922615, -0.0007269139, 0.007119489]\n",
            "99\n",
            "[['0.22', '0.2', '0.2', '0.2', '0.18'], ['0.14', '0.2', '0.26', '0.16', '0.24'], ['0.17', '0.24', '0.22', '0.2', '0.17'], ['0.19', '0.21', '0.23', '0.17', '0.2'], ['0.18', '0.2', '0.2', '0.22', '0.19'], ['0.15', '0.23', '0.25', '0.18', '0.2'], ['0.19', '0.2', '0.24', '0.17', '0.19'], ['0.16', '0.18', '0.22', '0.26', '0.17'], ['0.14', '0.26', '0.22', '0.15', '0.23'], ['0.13', '0.16', '0.21', '0.26', '0.23'], ['0.18', '0.21', '0.23', '0.14', '0.25'], ['0.15', '0.26', '0.25', '0.1', '0.24'], ['0.21', '0.18', '0.2', '0.2', '0.2'], ['0.18', '0.21', '0.2', '0.21', '0.21'], ['0.17', '0.19', '0.25', '0.19', '0.2'], ['0.13', '0.23', '0.19', '0.16', '0.29'], ['0.18', '0.21', '0.19', '0.18', '0.24'], ['0.23', '0.16', '0.19', '0.21', '0.21'], ['0.22', '0.21', '0.21', '0.12', '0.23']]\n"
          ]
        }
      ]
    },
    {
      "cell_type": "code",
      "source": [
        "print(len(dict_vec['y']))\n",
        "print(len(dict_vec['x']))\n",
        "print(len(dict_vec))\n",
        "print(len(row_index))"
      ],
      "metadata": {
        "colab": {
          "base_uri": "https://localhost:8080/"
        },
        "id": "3qKdEa-eLC28",
        "outputId": "7883e86b-0f27-45df-9132-1f94fb0ce7d3"
      },
      "execution_count": null,
      "outputs": [
        {
          "output_type": "stream",
          "name": "stdout",
          "text": [
            "19\n",
            "19\n",
            "2\n",
            "19\n"
          ]
        }
      ]
    },
    {
      "cell_type": "code",
      "source": [
        "total_text_embedding=[]\n",
        "with open('Final_Curated_Dataset_Sanjeev.csv', 'r', newline='', encoding='utf-8') as csvfile:\n",
        "      csvreader = csv.reader(csvfile)\n",
        "      data = list(csvreader)  # Read the CSV file into a list of rows\n",
        "\n",
        "# Define the row and column index\n",
        "row_index = [29,90,93,96,98,99,100,103,104,105,106,107,109,110,111,112,114,116,117]\n",
        "column_index = 24\n",
        "total_trait_scores = []\n",
        "col_index_traits = [2,3,4,5,6]\n",
        "\n",
        "dict_vec_com={}\n",
        "dict_vec_com['x']= []\n",
        "dict_vec_com['y']= []\n",
        "\n",
        "for r in row_index:\n",
        "  preprocessed_comment_text = data[r - 1][column_index]\n",
        "  print(preprocessed_comment_text)\n",
        "\n",
        "  # Tokenize the text (you can use any tokenization method)\n",
        "  tokens = preprocessed_comment_text.split()\n",
        "\n",
        "  # Initialize an empty list to store word embeddings\n",
        "  word_embeddings = []\n",
        "  print(len(tokens))\n",
        "  # Get word embeddings for each token\n",
        "  for token in tokens:\n",
        "    # Get the word embedding for the token\n",
        "      word_embedding = ft.get_word_vector(token)\n",
        "      w_mean= np.mean(word_embedding)\n",
        "      # print(w_mean.shape)\n",
        "      word_embeddings.append(w_mean)\n",
        "  print(word_embeddings)\n",
        "  dict_vec_com['x'].append(word_embeddings)\n",
        "  print(len(word_embeddings))\n",
        "\n",
        "  trait_scores = []\n",
        "  for c in col_index_traits:\n",
        "    trait_scores.append(data[r - 1][c])\n",
        "\n",
        "  dict_vec_com['y'].append(trait_scores)\n",
        "  print(dict_vec_com['y'])\n"
      ],
      "metadata": {
        "colab": {
          "base_uri": "https://localhost:8080/"
        },
        "id": "iJrQtfw9NeuJ",
        "outputId": "b3471f24-1d30-4e5a-98fb-6bb961842b9a"
      },
      "execution_count": null,
      "outputs": [
        {
          "output_type": "stream",
          "name": "stdout",
          "text": [
            "\n",
            "0\n",
            "[]\n",
            "0\n",
            "[['0.22', '0.2', '0.2', '0.2', '0.18']]\n",
            "sahadeb das hmm ghore na bhai riya nandi pal gorgeous picture keo pote jaan vabi beautiful post nice hero asmita bolche rahul mama pore jabe ramchand saren riya nandi pal thank didi piyush erz darun tule6u look awesome ata kothy tule6u ghore\n",
            "42\n",
            "[-0.0029864954, 0.011788019, -0.010809945, -0.0003294474, 0.016361741, -0.0067247273, 0.0054608677, 0.00035067677, -0.01388546, -8.2059305e-05, -0.001367155, 0.0023677754, 0.00014065315, -0.00723975, 0.0054216487, -0.0013174935, 0.00409128, -2.6561816e-06, -0.0061412277, 0.0056556314, -6.888757e-05, -0.0004698507, 0.0011902348, 0.001686157, -0.0032242865, 0.0013865908, 0.0019113863, 0.0054608677, 0.00035067677, -0.01388546, -0.0036561163, -0.0048013767, -0.00086361705, -0.0041927337, 0.002693712, 0.0018927722, 0.002771818, 0.00023825209, 0.0062528076, 0.0023752833, 0.0018927722, -0.0003294474]\n",
            "42\n",
            "[['0.22', '0.2', '0.2', '0.2', '0.18'], ['0.14', '0.2', '0.26', '0.16', '0.24']]\n",
            "sweet anita das thankyou much\n",
            "5\n",
            "[0.0011630952, -0.0021868588, 0.011788019, -0.0032014975, -0.0040644957]\n",
            "5\n",
            "[['0.22', '0.2', '0.2', '0.2', '0.18'], ['0.14', '0.2', '0.26', '0.16', '0.24'], ['0.17', '0.24', '0.22', '0.2', '0.17']]\n",
            "miss much\n",
            "2\n",
            "[0.004515634, -0.0040644957]\n",
            "2\n",
            "[['0.22', '0.2', '0.2', '0.2', '0.18'], ['0.14', '0.2', '0.26', '0.16', '0.24'], ['0.17', '0.24', '0.22', '0.2', '0.17'], ['0.19', '0.21', '0.23', '0.17', '0.2']]\n",
            "emi\n",
            "1\n",
            "[-0.0017319969]\n",
            "1\n",
            "[['0.22', '0.2', '0.2', '0.2', '0.18'], ['0.14', '0.2', '0.26', '0.16', '0.24'], ['0.17', '0.24', '0.22', '0.2', '0.17'], ['0.19', '0.21', '0.23', '0.17', '0.2'], ['0.18', '0.2', '0.2', '0.22', '0.19']]\n",
            "wow amaze\n",
            "2\n",
            "[-0.000258497, -0.002182509]\n",
            "2\n",
            "[['0.22', '0.2', '0.2', '0.2', '0.18'], ['0.14', '0.2', '0.26', '0.16', '0.24'], ['0.17', '0.24', '0.22', '0.2', '0.17'], ['0.19', '0.21', '0.23', '0.17', '0.2'], ['0.18', '0.2', '0.2', '0.22', '0.19'], ['0.15', '0.23', '0.25', '0.18', '0.2']]\n",
            "nije toh jao na r amko niye jao na\n",
            "9\n",
            "[0.010006803, -0.0012304117, 0.0016919279, 0.016361741, -0.008351284, -0.0026046655, 0.0031681657, 0.0016919279, 0.016361741]\n",
            "9\n",
            "[['0.22', '0.2', '0.2', '0.2', '0.18'], ['0.14', '0.2', '0.26', '0.16', '0.24'], ['0.17', '0.24', '0.22', '0.2', '0.17'], ['0.19', '0.21', '0.23', '0.17', '0.2'], ['0.18', '0.2', '0.2', '0.22', '0.19'], ['0.15', '0.23', '0.25', '0.18', '0.2'], ['0.19', '0.2', '0.24', '0.17', '0.19']]\n",
            "awesome congratulations\n",
            "2\n",
            "[0.00023825209, -0.0018569984]\n",
            "2\n",
            "[['0.22', '0.2', '0.2', '0.2', '0.18'], ['0.14', '0.2', '0.26', '0.16', '0.24'], ['0.17', '0.24', '0.22', '0.2', '0.17'], ['0.19', '0.21', '0.23', '0.17', '0.2'], ['0.18', '0.2', '0.2', '0.22', '0.19'], ['0.15', '0.23', '0.25', '0.18', '0.2'], ['0.19', '0.2', '0.24', '0.17', '0.19'], ['0.16', '0.18', '0.22', '0.26', '0.17']]\n",
            "say give number holi suryadhan\n",
            "5\n",
            "[-0.0032433048, 0.005684421, -0.0023741527, 0.0016003647, 0.005690743]\n",
            "5\n",
            "[['0.22', '0.2', '0.2', '0.2', '0.18'], ['0.14', '0.2', '0.26', '0.16', '0.24'], ['0.17', '0.24', '0.22', '0.2', '0.17'], ['0.19', '0.21', '0.23', '0.17', '0.2'], ['0.18', '0.2', '0.2', '0.22', '0.19'], ['0.15', '0.23', '0.25', '0.18', '0.2'], ['0.19', '0.2', '0.24', '0.17', '0.19'], ['0.16', '0.18', '0.22', '0.26', '0.17'], ['0.14', '0.26', '0.22', '0.15', '0.23']]\n",
            "best\n",
            "1\n",
            "[-0.0108603]\n",
            "1\n",
            "[['0.22', '0.2', '0.2', '0.2', '0.18'], ['0.14', '0.2', '0.26', '0.16', '0.24'], ['0.17', '0.24', '0.22', '0.2', '0.17'], ['0.19', '0.21', '0.23', '0.17', '0.2'], ['0.18', '0.2', '0.2', '0.22', '0.19'], ['0.15', '0.23', '0.25', '0.18', '0.2'], ['0.19', '0.2', '0.24', '0.17', '0.19'], ['0.16', '0.18', '0.22', '0.26', '0.17'], ['0.14', '0.26', '0.22', '0.15', '0.23'], ['0.13', '0.16', '0.21', '0.26', '0.23']]\n",
            "thank much wow amaze nice\n",
            "5\n",
            "[-0.0036561163, -0.0040644957, -0.000258497, -0.002182509, -2.6561816e-06]\n",
            "5\n",
            "[['0.22', '0.2', '0.2', '0.2', '0.18'], ['0.14', '0.2', '0.26', '0.16', '0.24'], ['0.17', '0.24', '0.22', '0.2', '0.17'], ['0.19', '0.21', '0.23', '0.17', '0.2'], ['0.18', '0.2', '0.2', '0.22', '0.19'], ['0.15', '0.23', '0.25', '0.18', '0.2'], ['0.19', '0.2', '0.24', '0.17', '0.19'], ['0.16', '0.18', '0.22', '0.26', '0.17'], ['0.14', '0.26', '0.22', '0.15', '0.23'], ['0.13', '0.16', '0.21', '0.26', '0.23'], ['0.18', '0.21', '0.23', '0.14', '0.25']]\n",
            "sei nice pic bhaiiiiiiii cool smart look delicious saayak majumder good look haan iphone model bujlam tar por\n",
            "18\n",
            "[0.0074863164, -2.6561816e-06, 0.0051531834, -0.001449414, 0.0010625616, -0.0033824146, 0.002771818, -0.0011150045, -0.0030235846, 8.9894536e-05, -0.001763463, 0.002771818, -4.109939e-05, 0.00094524265, -0.0009115978, 0.0023658804, 0.004697774, 0.0032051564]\n",
            "18\n",
            "[['0.22', '0.2', '0.2', '0.2', '0.18'], ['0.14', '0.2', '0.26', '0.16', '0.24'], ['0.17', '0.24', '0.22', '0.2', '0.17'], ['0.19', '0.21', '0.23', '0.17', '0.2'], ['0.18', '0.2', '0.2', '0.22', '0.19'], ['0.15', '0.23', '0.25', '0.18', '0.2'], ['0.19', '0.2', '0.24', '0.17', '0.19'], ['0.16', '0.18', '0.22', '0.26', '0.17'], ['0.14', '0.26', '0.22', '0.15', '0.23'], ['0.13', '0.16', '0.21', '0.26', '0.23'], ['0.18', '0.21', '0.23', '0.14', '0.25'], ['0.15', '0.26', '0.25', '0.1', '0.24']]\n",
            "holi\n",
            "1\n",
            "[0.0016003647]\n",
            "1\n",
            "[['0.22', '0.2', '0.2', '0.2', '0.18'], ['0.14', '0.2', '0.26', '0.16', '0.24'], ['0.17', '0.24', '0.22', '0.2', '0.17'], ['0.19', '0.21', '0.23', '0.17', '0.2'], ['0.18', '0.2', '0.2', '0.22', '0.19'], ['0.15', '0.23', '0.25', '0.18', '0.2'], ['0.19', '0.2', '0.24', '0.17', '0.19'], ['0.16', '0.18', '0.22', '0.26', '0.17'], ['0.14', '0.26', '0.22', '0.15', '0.23'], ['0.13', '0.16', '0.21', '0.26', '0.23'], ['0.18', '0.21', '0.23', '0.14', '0.25'], ['0.15', '0.26', '0.25', '0.1', '0.24'], ['0.21', '0.18', '0.2', '0.2', '0.2']]\n",
            "happy raksha bandan dear brother\n",
            "5\n",
            "[-0.0045042317, 0.0044386825, -0.0003634577, -0.0040011415, -0.0013705455]\n",
            "5\n",
            "[['0.22', '0.2', '0.2', '0.2', '0.18'], ['0.14', '0.2', '0.26', '0.16', '0.24'], ['0.17', '0.24', '0.22', '0.2', '0.17'], ['0.19', '0.21', '0.23', '0.17', '0.2'], ['0.18', '0.2', '0.2', '0.22', '0.19'], ['0.15', '0.23', '0.25', '0.18', '0.2'], ['0.19', '0.2', '0.24', '0.17', '0.19'], ['0.16', '0.18', '0.22', '0.26', '0.17'], ['0.14', '0.26', '0.22', '0.15', '0.23'], ['0.13', '0.16', '0.21', '0.26', '0.23'], ['0.18', '0.21', '0.23', '0.14', '0.25'], ['0.15', '0.26', '0.25', '0.1', '0.24'], ['0.21', '0.18', '0.2', '0.2', '0.2'], ['0.18', '0.21', '0.2', '0.21', '0.21']]\n",
            "eid mubarak\n",
            "2\n",
            "[0.00014898618, -0.0019165949]\n",
            "2\n",
            "[['0.22', '0.2', '0.2', '0.2', '0.18'], ['0.14', '0.2', '0.26', '0.16', '0.24'], ['0.17', '0.24', '0.22', '0.2', '0.17'], ['0.19', '0.21', '0.23', '0.17', '0.2'], ['0.18', '0.2', '0.2', '0.22', '0.19'], ['0.15', '0.23', '0.25', '0.18', '0.2'], ['0.19', '0.2', '0.24', '0.17', '0.19'], ['0.16', '0.18', '0.22', '0.26', '0.17'], ['0.14', '0.26', '0.22', '0.15', '0.23'], ['0.13', '0.16', '0.21', '0.26', '0.23'], ['0.18', '0.21', '0.23', '0.14', '0.25'], ['0.15', '0.26', '0.25', '0.1', '0.24'], ['0.21', '0.18', '0.2', '0.2', '0.2'], ['0.18', '0.21', '0.2', '0.21', '0.21'], ['0.17', '0.19', '0.25', '0.19', '0.2']]\n",
            "great memories happy birthday\n",
            "4\n",
            "[-0.0022348496, -0.004808447, -0.0045042317, -0.002619909]\n",
            "4\n",
            "[['0.22', '0.2', '0.2', '0.2', '0.18'], ['0.14', '0.2', '0.26', '0.16', '0.24'], ['0.17', '0.24', '0.22', '0.2', '0.17'], ['0.19', '0.21', '0.23', '0.17', '0.2'], ['0.18', '0.2', '0.2', '0.22', '0.19'], ['0.15', '0.23', '0.25', '0.18', '0.2'], ['0.19', '0.2', '0.24', '0.17', '0.19'], ['0.16', '0.18', '0.22', '0.26', '0.17'], ['0.14', '0.26', '0.22', '0.15', '0.23'], ['0.13', '0.16', '0.21', '0.26', '0.23'], ['0.18', '0.21', '0.23', '0.14', '0.25'], ['0.15', '0.26', '0.25', '0.1', '0.24'], ['0.21', '0.18', '0.2', '0.2', '0.2'], ['0.18', '0.21', '0.2', '0.21', '0.21'], ['0.17', '0.19', '0.25', '0.19', '0.2'], ['0.13', '0.23', '0.19', '0.16', '0.29']]\n",
            "superb fabulous\n",
            "2\n",
            "[0.00024592757, -0.0017863875]\n",
            "2\n",
            "[['0.22', '0.2', '0.2', '0.2', '0.18'], ['0.14', '0.2', '0.26', '0.16', '0.24'], ['0.17', '0.24', '0.22', '0.2', '0.17'], ['0.19', '0.21', '0.23', '0.17', '0.2'], ['0.18', '0.2', '0.2', '0.22', '0.19'], ['0.15', '0.23', '0.25', '0.18', '0.2'], ['0.19', '0.2', '0.24', '0.17', '0.19'], ['0.16', '0.18', '0.22', '0.26', '0.17'], ['0.14', '0.26', '0.22', '0.15', '0.23'], ['0.13', '0.16', '0.21', '0.26', '0.23'], ['0.18', '0.21', '0.23', '0.14', '0.25'], ['0.15', '0.26', '0.25', '0.1', '0.24'], ['0.21', '0.18', '0.2', '0.2', '0.2'], ['0.18', '0.21', '0.2', '0.21', '0.21'], ['0.17', '0.19', '0.25', '0.19', '0.2'], ['0.13', '0.23', '0.19', '0.16', '0.29'], ['0.18', '0.21', '0.19', '0.18', '0.24']]\n",
            "beautiful\n",
            "1\n",
            "[-0.0013174935]\n",
            "1\n",
            "[['0.22', '0.2', '0.2', '0.2', '0.18'], ['0.14', '0.2', '0.26', '0.16', '0.24'], ['0.17', '0.24', '0.22', '0.2', '0.17'], ['0.19', '0.21', '0.23', '0.17', '0.2'], ['0.18', '0.2', '0.2', '0.22', '0.19'], ['0.15', '0.23', '0.25', '0.18', '0.2'], ['0.19', '0.2', '0.24', '0.17', '0.19'], ['0.16', '0.18', '0.22', '0.26', '0.17'], ['0.14', '0.26', '0.22', '0.15', '0.23'], ['0.13', '0.16', '0.21', '0.26', '0.23'], ['0.18', '0.21', '0.23', '0.14', '0.25'], ['0.15', '0.26', '0.25', '0.1', '0.24'], ['0.21', '0.18', '0.2', '0.2', '0.2'], ['0.18', '0.21', '0.2', '0.21', '0.21'], ['0.17', '0.19', '0.25', '0.19', '0.2'], ['0.13', '0.23', '0.19', '0.16', '0.29'], ['0.18', '0.21', '0.19', '0.18', '0.24'], ['0.23', '0.16', '0.19', '0.21', '0.21']]\n",
            "mountains forest sea wave heart precious one like\n",
            "8\n",
            "[-0.0010495961, 0.0015307943, 0.0066767563, 0.008657503, -0.001768109, -0.00074174575, -0.003979863, -0.0012137892]\n",
            "8\n",
            "[['0.22', '0.2', '0.2', '0.2', '0.18'], ['0.14', '0.2', '0.26', '0.16', '0.24'], ['0.17', '0.24', '0.22', '0.2', '0.17'], ['0.19', '0.21', '0.23', '0.17', '0.2'], ['0.18', '0.2', '0.2', '0.22', '0.19'], ['0.15', '0.23', '0.25', '0.18', '0.2'], ['0.19', '0.2', '0.24', '0.17', '0.19'], ['0.16', '0.18', '0.22', '0.26', '0.17'], ['0.14', '0.26', '0.22', '0.15', '0.23'], ['0.13', '0.16', '0.21', '0.26', '0.23'], ['0.18', '0.21', '0.23', '0.14', '0.25'], ['0.15', '0.26', '0.25', '0.1', '0.24'], ['0.21', '0.18', '0.2', '0.2', '0.2'], ['0.18', '0.21', '0.2', '0.21', '0.21'], ['0.17', '0.19', '0.25', '0.19', '0.2'], ['0.13', '0.23', '0.19', '0.16', '0.29'], ['0.18', '0.21', '0.19', '0.18', '0.24'], ['0.23', '0.16', '0.19', '0.21', '0.21'], ['0.22', '0.21', '0.21', '0.12', '0.23']]\n"
          ]
        }
      ]
    },
    {
      "cell_type": "code",
      "source": [
        "print(len(dict_vec_com['y']))\n",
        "print(len(dict_vec_com['x']))\n",
        "print(len(dict_vec_com))\n",
        "print(len(row_index))"
      ],
      "metadata": {
        "colab": {
          "base_uri": "https://localhost:8080/"
        },
        "id": "SMUC8hk5Lh2p",
        "outputId": "74590a29-5897-468d-c71a-dc665bfd9584"
      },
      "execution_count": null,
      "outputs": [
        {
          "output_type": "stream",
          "name": "stdout",
          "text": [
            "19\n",
            "19\n",
            "2\n",
            "19\n"
          ]
        }
      ]
    },
    {
      "cell_type": "code",
      "source": [
        "# Serialize the object to bytes using pickle [STORING DICTIONARY INTO PICKLE]\n",
        "pickled_bytes = pickle.dumps(dict_vec)\n",
        "\n",
        "# Encode the pickled bytes using Base64\n",
        "encoded_data = base64.b64encode(pickled_bytes)\n",
        "file_path = \"/content/drive/My Drive/CSV_DATA/Sanjeev.pickle\"\n",
        "# Write the encoded data to a file\n",
        "with open(file_path, 'wb') as f:\n",
        "    f.write(encoded_data)\n",
        "\n",
        "print(\"hello\")"
      ],
      "metadata": {
        "colab": {
          "base_uri": "https://localhost:8080/"
        },
        "id": "kLrWTfQWNReG",
        "outputId": "2db29a68-733f-4cdc-85b4-d6507f94d265"
      },
      "execution_count": null,
      "outputs": [
        {
          "output_type": "stream",
          "name": "stdout",
          "text": [
            "hello\n"
          ]
        }
      ]
    },
    {
      "cell_type": "code",
      "source": [
        "with open(file_path, 'rb') as f:\n",
        "    encoded_data = f.read()\n",
        "\n",
        "# Decode the Base64-encoded data\n",
        "decoded_bytes = base64.b64decode(encoded_data)\n",
        "\n",
        "# Deserialize the object using pickle\n",
        "dict_vec = pickle.loads(decoded_bytes)\n",
        "print(dict_vec)"
      ],
      "metadata": {
        "colab": {
          "base_uri": "https://localhost:8080/"
        },
        "id": "Gj4gHr4JQqOv",
        "outputId": "392faec1-f9f0-4b65-eccd-96d6061bf1ed"
      },
      "execution_count": null,
      "outputs": [
        {
          "output_type": "stream",
          "name": "stdout",
          "text": [
            "{'x': [[], [-0.004456422, -0.0028521859, -5.183036e-05, -0.00065378606, -0.0038596499, 0.0030865143, -0.005540064, -0.0014402281, -0.00068829587, 0.0024510226, -0.002788194, -0.00017629881, 0.0015660775, -0.00076052744, 0.0011187971, -0.0004531666, 0.00038103163, -0.00046368717, -0.0002837946, 0.0015433304, -0.007354425, 0.0016212183, 0.0014696616, -0.00085793156, -0.0014000399, -0.009642606, -0.00065000623], [0.0036178767, -0.0016927087, 0.004324806, -0.00026710698, -0.00093690824, -0.002311644, -0.00076815026, 0.002470948, -0.0016045161, 0.011788019, -0.0010958497, 0.011788019, -0.0042185863, -0.00067396177, 0.00048402112, 0.0028264567, -0.0052970587, -0.0031950702, 0.0011455052, -0.00076815026], [-0.010542415, -0.0038617952, 0.010992844, 0.0027615933, -0.0045042317, -0.002619909, -0.008081026, -0.007037379, -0.0047360016, 0.0014906907, -0.002637945, 0.0063370755, -0.003300515, -0.001768109, -0.0047360016, -0.008052702, -0.001602009, 0.0025120557, -0.008081026, 0.009464866, 0.009613798, 0.0043857256, 0.002266533, -0.0021047874, -0.00062031316, 0.0051531834, -0.0037157529, 1.4852285e-05, 0.0060771364, 0.00028623064, 0.0021859312], [0.003990047, -0.00070507807, -0.00063104875, -0.002450346, -0.004208006, -0.00037156578, -0.0058201714, -0.002869154, 0.0008107119, 0.0053393897, 0.0018132658, -0.0067185657, 0.004658957, -0.0010357356, 0.011788019, 0.0016509261, -0.00080362865, -0.00028143864, 0.0044432185, -0.0028599803, -0.0012651157, -0.006182989, 0.0009225182, -2.7494729e-05, -0.00022441606, -0.0010232684, 0.0016016664, -0.0031600588, 0.0057285787, -0.010542415, -0.008351284, -0.0031600588, 0.0057285787, -0.010542415, -0.008351284, -0.0031600588, 0.0057285787, -0.010542415, -0.008351284, -0.0031600588, 0.0057285787, -0.010542415, 0.0010233555, -0.00077507464, -0.012117739, -0.0045042317, 0.000884397, -0.0046022846, 0.004206575, 0.0033168434, -0.0012313721, -0.0026255012, 0.0017685785, -0.009750261, -0.0013592516, -0.00038761448, -0.0011250136, -0.0029937243, 0.0044432185, -0.004797528, -0.008782955, -0.00078324694, -0.00088064594, 0.0016250814, 0.0023813657, 0.0044432185, -0.00011014402, 0.003075173, 0.0029924675, -0.00499253, -0.004797528, -0.003612007, 0.0005195407, 0.030713517, 0.00015017232, 0.010575852, -0.0019445976, -0.007037379, -0.014125993, 0.0024728375, -0.005641273, -0.0012970255, -0.00011014402, -0.012016968, 0.005003664, -0.0010437231, -0.0036561163, -0.002342543, 0.00088190555, -0.0057108756, 0.0024728375, 0.0036226043, 0.0027062725, -0.006316598, -0.0032153258, -0.012016968, -0.0108603, -0.00314273, -0.005506936, -0.0108603, -0.0069693476, -0.0023787257, -0.006660682, -0.0108603, -0.00314273, -0.007037379, 0.011563052, -0.0006570403, 0.0010396123, 0.006070713, 0.007042877, 0.0033139023, 0.021340702, 0.0016694828, -0.0056499117, 0.0044432185, -0.0019529513, -0.003112082, -0.0040898975, 0.0009225182, -2.7494729e-05, -0.00022441606, -0.0010232684, 0.0016016664, -0.0031600588, 0.0057285787, -0.010542415, -0.008351284, -0.0031600588, 0.0057285787, -0.010542415, -0.008351284, -0.0031600588, 0.0057285787, -0.010542415, -0.008351284, -0.0031600588, 0.0057285787, -0.010542415, -0.008351284, -0.0031600588, 0.0057285787, -0.010542415, -0.0022411717, 0.002953179, 0.0009225182, -2.7494729e-05, -0.00022441606, -0.0010232684, 0.0016016664, -0.0031600588, 0.0057285787, -0.010542415, -0.008351284, -0.0031600588, 0.0057285787, -0.010542415, -0.008351284, -0.0031600588, 0.0057285787, -0.010542415, -0.008351284, -0.0031600588, 0.0057285787, -0.010542415, -0.008351284, -0.0031600588, 0.0057285787, -0.010542415, -0.006316598, -0.0032153258, -0.002269247, -0.00011014402, 0.00063564855, -0.00026234437, 0.0026340901, 0.0023237478, -0.009750261, -0.003112082, -3.4830969e-06, -0.00011014402, 0.0042029605, 0.0044432185, -0.0038027933, -0.011272291, -0.0012137892, -0.0022456709, -0.0023400064, 0.005418095, -0.0049935547, -0.00011014402, -0.0023787257, -0.00017554601, -0.0052776975, 0.0017685785, 0.0026934189, -0.00062426185, 0.001421441, 0.021340702, 0.007297271, 0.0005805958, 0.009009186, 0.0009910616, -0.003979863, -0.00023081104, -0.0018276217, 0.0002361418, -0.0019992208, 0.0009880116, -0.001367155, -0.005905165, 0.0017437176, -0.0038147569, -0.0016927087, 0.0014935341, 0.0013942281, -0.003979863, 0.00090579846, -0.0021892875, -0.004808447, -0.0045042317, -0.002619909, -0.0049600108, -0.0023787257, -0.0014402281, -0.00056868553, -0.0032153258, -0.0067619896, -0.002788194, -0.004797528, 0.0066024475, 0.0044432185, -0.006162933, -0.003099041, 0.0051531834, -0.0025426156, -0.0032153258, -0.006065611, 0.0010759203, 0.004328475, 0.008521846, -0.0032836725, -0.005641273, -0.0051544053, -0.003764775, 0.0002839012, 0.0005726881, -0.007037379, -0.014125993, 0.0036296418, -0.0015725734, -0.0019167654, -0.007037379, -0.014125993, -0.0032153258, -0.0023589476, 0.004793892, 0.005962674, -0.0032836725, 0.00063564855, -0.00026234437, -0.0024276231, 0.0074752886, -0.0030124395, -0.00011014402, 0.03174397, -0.011906698, -0.006001676, 0.005418095, -0.002662771, -0.012016968, 0.0017685785, 0.03174397, -0.011906698, -0.0024665094, -0.00017554601, 0.0013021012, -0.00044063161, 0.0013730814, -0.00030558227, -0.003561738, 0.03174397, -0.011906698, 0.0044432185, -0.0026249667, -0.0026791373, -0.0044668308, -0.00023081104, -0.003768874, 0.00047816514, 0.0025606758, -0.0003118383, -0.00056868553, -0.0032153258, 0.0020517844, 3.179749e-05, 0.00059813657, -0.0011346678, 0.00047026176, -0.004309848, -0.008248664, 0.002693517, -0.00056868553, 0.002357981, -0.0032153258, -0.00022110403, 0.002389693, -0.0032153258, 0.0004490129, -0.00026590488, -0.0030124395, -0.003798004, -0.0022962622, 0.0004330952, -0.006316598, -0.0013633191, -0.00026590488, 0.0044432185, -0.0032153258, -0.006182754, -0.0018048416, -0.009206209, 0.0044635097, 0.0009225182, -0.0016463033, -0.0044546765, 0.00017631869, -0.0011180929, -0.0035371617, -0.0010434816, -0.007595728, -0.003677294, 8.461605e-05, -0.001768109, -0.000293233, -0.002236559, -0.007088786, 0.0016524076, -0.0039938823, -0.0028603706, -0.0002689145, -0.00056868553, -0.0032153258, 0.0015914994, 0.0020017351, -0.0018701787, -0.003764775, -0.0014402281, -0.008718389, -0.0057936297, 0.0006009138, -0.0027374935, -0.004408344, 0.008009744, -0.0004489553, -0.00042561372, -0.004026132, -0.0014378709, 0.0012561039, -0.002151893, 0.0023813657, -0.0025426156, -0.0010357356, 0.011788019, -0.00016322856, -0.0012651157, -0.0012290726, -0.0075998767, -0.011666662, -0.0028599803, 0.00017294784, -0.0069693476, -0.00056868553, -0.0032153258, -0.0054104957, 0.007296297, -0.00056868553, -0.0032153258, -0.0054104957, -0.002935739, 0.00015010755, -0.01084902, -0.00011014402, -0.00059115805, -0.0012963628, -0.006001676, 0.0017685785, -0.008248664, -0.003762041, -0.012016968, -0.01105208, 0.016676549, -0.0051841987, -0.0030037935, -0.014879168, -0.0067469026, 0.0006091527, -0.0054104957, -0.005306611, -0.0020224212, -0.0012137892, 0.0021954456, 0.007130902, -0.0030037935, -0.014879168, -0.0036561163, -0.0012970255, 0.0026340901, 0.0023237478, 0.010575852, 0.0039924774, 0.002244889, 0.0047047352, 0.0033422, 0.0046046334, -0.0023354478, 0.0028617345, 0.0041633947, -0.00023081104, -0.0014402281, -0.00011014402, -0.0052776975, 0.0010825783, -0.0052776975, 0.0058044083, 0.0038020865, 0.000211248, -0.003979863, -0.0049600108, -0.0014402281, -0.00028618236, -0.003620755, 0.00090579846, -0.0070469603, 0.005684421, -0.004434701, -0.003979863, 0.00085422833, -0.0028352477, 0.0044432185, -0.0014402281, -0.00023081104, 0.003907969, 0.0002483661, -0.0028446568, -0.0030124395, 0.016932093, -0.00043685475, -0.007765565, -0.0023000967, 0.0014403879, -0.0040905755, -0.0054104957, -0.003979863, 0.0016316203, -0.0030124395, 0.0016316203, -0.0018725741, 0.0044432185, 0.0011322465, -0.006316598, -0.0032153258, -0.00056868553, -0.0032153258, -0.0019996173, 0.0017685785, -0.0023787257, -0.005372779, -0.0019445976, -0.0001530753, -0.006624776, -0.007037379, -0.014125993, -0.0046962476, -0.0018569984, -0.0049600108, 0.0014935341, 0.001619035, 0.0040082023, 0.008701385, 0.00090579846, 0.008582012, -0.0008608061, -0.0032433048, -0.00036682832, -0.00056868553, -0.0032153258, -0.0032836725, 0.00063564855, -0.0005103171, -0.0014402281, -0.0048055653, -0.006316598, -0.0032153258, 0.0074752886, -0.0036352118, -0.0069693476, -0.0030037935, -0.014879168, -0.00086072524, 0.0016524076, -0.0032153258, -0.0036352118, -0.013254925, -0.00545182, -0.0023741527, -0.003620755, -0.006624776, 0.0044432185, 0.0005195407, 0.030713517, 0.00015017232, -0.0019445976, -0.00094156543, 0.0003055902, -0.0037618394, -0.003764775, -0.009750261, -0.003620755, -0.0023787257, -0.0043470925], [-0.0025426156, -0.0030339647, -0.0070072366, -0.00069963455, -0.0035190117, 0.032652605, -0.001991057, -0.0025405078, 0.0020321654, -0.00069963455, -0.0035190117, 0.032652605, -0.001991057, -0.0025405078, 0.0020321654], [0.0020585987, 0.001651065, -0.0016274871, -0.0012996661, 0.006594893, 0.003753125, 0.0013100046, 0.00014579893, 0.0027348602, -0.0016222062, -0.0006809435, -0.0002849275, 0.0013617342, -0.0005033821, 0.0011179057, -0.0057536648, -0.01084902, 0.0009910616, -0.0022093016, -0.0049304585, -0.008052702, -0.002182509, 0.00041993603, -0.001307882, -0.0035432505, -0.0050321333, -0.008153213, 0.001779493, 0.0031642655, -0.0014402281, 0.0026934189, 0.0039261566, -0.0012137892, -0.0027886147, -0.0114652505, -0.0050226953, -0.0028991255, -0.0028991255, 0.0013617342, -0.0047401637, -0.00938202, 0.007859295, -0.0007368688, -0.000732579, -0.0032433048, -0.0034847665, -0.0015561362, 0.0013735578, 0.0044510593, 0.0008945779, 0.0040988238, 0.0013735578, 0.002131823, 0.0021016009, 0.002396956, 0.0016834259, -0.0005272005, 0.0009572814, 0.00051775156, 0.0008022954, 0.005002283, -0.0011172178, -0.0068943985, -0.0011761034, -0.0029316742, 0.00010846873, 0.001982183, 0.0040433607, -0.00031822047, -0.0016890117, -0.0057536648, -7.7925324e-05, -0.0014024591, -0.0067619896, -0.002788194, -0.001832371, -0.0013633191, 0.0022561327, -0.008162468, -0.0023238135, -0.0012137892, -0.0028352477, 0.0026515848, 0.0013735578, 0.0044510593, -0.0045042317, 0.00087413035], [0.0029423283, 0.0025275373, -0.0067469026, -0.001832371, -0.00048946845, -0.00031349203, 0.0042029605, -0.002182509, 0.0025275373, 0.005684421, 0.00021185917, 0.001385842, 0.0014721167, -0.016217448, -0.0011303709, -0.0012622769, 0.00059143506, -0.0010236417, -0.002658518, -0.0011303709, 0.0036296418, -0.0010236417, -0.004026132, -0.001030252, 0.0044432185], [3.6891302e-06, -0.00076815026, -0.0068943985, 0.007139747, 0.0044386825, 0.0017801818, 3.6891302e-06, -0.0094748065, -0.001830707, 0.00038103163, -0.006455558, -0.001832371, 0.00038103163], [0.0002262636, 0.0020585987, 0.00042247763, -0.0018276217, 0.0035090318, -0.0052144513, 0.0007311545, -0.0045042317, -0.002619909, -0.00020241758, 0.00034265796, 0.00011408053, 0.008236836, -0.0025556663, -0.00055624684, 0.001334008, 0.0010878327, -0.007088786, -0.0018903782, 0.002053332, -0.0022971774, 0.0044432185, 0.0036296418, -0.007088786, -0.0018903782, -0.0005540792, 0.0025108324, 0.0044432185, 0.0036296418, 0.0044432185, -0.0013174935, 0.0046497383, 0.0029924675, 0.0037127289, 0.0011810825, -0.0010370032, -0.00059340993, -0.0070469603, -7.7925324e-05, -0.006065611, -0.0108603, -0.0014402281, -0.0005769673, -0.0014402281, 0.0030046678, -0.001652453, -0.0023025884, -0.003677294, -0.00023081104, -0.0014402281, 0.0021173677, -0.001763463, -0.0001432094, -0.0037354326, -0.0045042317, 0.0020585987, -0.006660682, -0.0012717528, -0.0025556663, -0.0023589476, -0.004208006, -0.0033743647, -0.0017432082, 0.00014796063, 0.0035090318, -0.0058365213, 0.001207637, -0.0009115978, 0.00049261877, -0.0053132875, -0.0013272339, -0.0023551928, 0.0063370755, -0.0023634124, 0.0057824375, 0.00085365615, 0.00086657883, -0.010012743, 0.00079790043, 0.0030805643, 0.0019086954, 0.002053332, -0.0010370032, 0.0031642655, -0.0020742163, 0.0042029605, -0.010012743, -0.0014726191, 0.0012229411, -0.0015576218], [-0.0022113724, -0.0067185657, -0.0011648003, -0.0009650588, -0.0018309774, 0.011788019, 0.002834142, 0.007297271, -0.0030698443, 0.002218728, 0.004206575, -0.0025869424, -0.0016712259, -0.0067185657, -0.0027521076, 0.002735905, -0.0022113724, -0.0067185657, -0.0011648003, -0.0009650588, 0.00020137985, -0.0067185657, 0.004206575, -0.0025869424, -0.0016712259, -0.0067185657, -0.0018309774, 0.011788019, 0.0033642605, -0.001763463, -0.0016712259, -0.0067185657, 0.0072867903, -0.0007181506, 0.0034183161, -0.0037354326, -0.0045042317, -0.0030264023, 0.0012625877, 0.0048155435, -0.0026828276, 0.0028005962, -0.0035190117, 0.005274617, 0.0024243195, -0.0045042317, -0.0038816961, -0.001448385, 0.00040147343, -0.00026870647, -0.004795014, 0.0034715247, 0.00053551234, 0.0011740321, 0.0028005962, -0.0035190117, 0.006494304, -0.00028560206, 0.0008614159, 0.0024243195, -0.00066628854, -0.0052970587, -0.0016712259, -0.0067185657, -0.0010461833, 0.0024760838, -0.0054104957, 0.012005523, -0.002619909, -0.0036561163, -0.0040644957, -0.0016712259, -0.0067185657, 0.0072867903, -0.0016712259, -0.0067185657, 0.0045825415, 0.0028127565, 0.0028005962, -0.0035190117, -0.00010231495, 0.0047728843, 0.0028005962, -0.0035190117, -0.0045042317, -0.002619909, -0.007638453, 0.0011810825, -0.0040011415, -0.0035851726, -0.0054117967, -0.0075903004, -0.0054117967, 0.00086108944, -0.007088786, -0.008782955, -0.004797528, -0.0077197617, -0.0045042317, -0.002619909, -0.0016712259, -0.0067185657, 0.0013052511, -0.002752424, -0.0020186198, 0.0034749, 0.00081076985, -9.778018e-06, 6.8315516e-05, 0.0083297165, -0.0028352477, 0.0014136847, 0.0002819834, -0.00027829077, -0.0024929016, -0.0028352477, 0.010530168, 0.0014136847, 0.0011902348, 0.0021460683, 0.0083297165, 0.0013052511, 0.0027707536, -0.008351284, -0.0006628541, 0.0012017288, 0.016361741, 0.014272833, 0.006222374, 0.0063370755, 0.0011810825, -0.01084902, 0.0069342884, 0.001254868, -0.0001708438, 0.00049261877, -0.001832371, 0.0028005962, -0.0035190117, 0.0028005962, -0.0035190117], [-0.0057536648, 0.0017310581, 0.004838998, 0.0011810825, 0.00038103163, 0.0036296418, -0.0045042317, 0.00038103163, -0.0025426156, -0.0045042317, -0.00022110403, -0.0025426156, -0.00088806293, -0.0009496081, -0.0037127936, -0.0026054934, -0.00051332, 0.0025657902, 0.0021881782, 0.0074863164, -0.00499253, 0.0069125416, 0.0021958249, 0.0006283692, 0.004206876, -0.010542415, -0.0062635, -0.003436879, 0.0012543065, 0.0008966945, -0.0020694875, 0.0025657902, -0.0033490574, -0.0033490574, 0.0031642655, -0.0025426156, 0.0044432185, -0.0006768616, -0.0032562283, 0.0006456586, 0.0025699467, -0.0026943532, -0.000945976, 0.0009922296, -3.7903737e-05, 0.00030314078, 0.0010708544, -0.00028618236, -2.8586735e-05, -0.0006768616, -0.003946639, 0.0009922296, 0.0011224541, 0.0044432185, -0.0037134541, 0.0010708544, -0.001424046, 0.003088044, -0.0021248963, -0.0017648246, -0.0032562283, 0.013196922, 0.0044432185, -0.003669443, -0.0108603, 0.0010357399, -0.0014402281, -0.0022529599, -0.0032242865, 0.008231844, 0.0014076671, -0.0016463033, -0.0006431523, -0.0052970587, -0.0046319813, -0.0005710714, -0.0008795669, -0.0009842293, 0.00026954114, -0.002058982, -0.00079352834, -0.0020179646, 0.021340702, -0.00088806293, -0.0009496081, 0.006412505, 0.011788019, -0.0022529599, 0.0014076671, -0.0016463033, 0.0014568538, 0.002735905, 0.0021966344, 0.0004916032, -0.0022408739, 0.0014076671, -0.0016463033, -0.004224719, 0.0021238874, -0.0062238644, -0.0045042317, -0.002619909, -0.0032015254, -0.0019697463, 0.004515634, -0.007638453, -0.0037354326, -0.0009852459, -0.0045042317, 0.0071638743, -0.0014413366, 0.0014076671, -0.0016463033, -0.0006431523, -0.0052970587, -0.0046319813, 0.011788019, -0.0026831457, 0.00017631869, 0.000807788, -0.0016077831, 0.0014568538, 0.002735905, 0.00021496117, -0.005921344, -0.0017139928, -0.00088490645], [-0.0033056473, 0.0016003647, -0.003112082, -0.0052645733], [0.0064127264, 0.003393182, 0.0003177492, 0.004078451, -0.0018827451, -0.0054104957, -0.00019558241, -0.008063486, 0.0024728375, -0.0025426156, 0.0024018066, -0.0017341223, -0.0053523565, 0.00044698446, 0.00044698446, 0.003945475, 0.009384141, 0.0009302598, 0.00033228332, 0.0011883819, -0.0016421016, 0.00032023207, 0.0013391644, -0.00026106075, -0.0004401032, 0.023722738, -0.0004698507, -0.0029754073, 0.0034715247, -0.0032162173, 0.0005874756, 0.0017685785, -0.0073955264, 0.011563052, 0.0003243045, 0.0004735984, 0.00024187575, 0.0013152328, 0.0028405304, -0.009963419, -0.017525889, -0.001652453, -0.0066336966, -0.006065611, 0.0010104061, 0.00085365615, 0.0035090318, -0.00014773697, 0.0013841535, -0.00096649764, 0.0045382874, 0.0020585987, 0.0010932724, -0.0038865553, 0.0031642655, -0.002181747, -0.0023404867, 0.0010932724, -0.0038865553, -0.00014773697, -0.002181747, -0.006314321, -0.0012731251, -0.00077035587, -0.003843858, -0.012016968, -0.0096098585, 0.023092795, -0.0034796982, 0.003359212, 0.0018700204, -0.0015989107, -0.001706061, 0.010532642, -0.00026756924, -0.0014922695, -0.0011259064, 0.0003177492, -0.0067247273, 0.00265895, -0.002406667, 0.0001946039, 0.0010677062, 0.0006091527, 0.0044432185, 0.0017280958, 0.0038621267, -0.00016760608, -0.0014402281, -0.0012055293, -0.00093175034, -0.0092897955, -0.0026803645, 0.0044432185, -0.015049375], [-0.01084902, -0.0006105388, 0.002131823, -0.004051293], [], [-0.003979863, -0.0025426156, 0.0074752886, -0.007037379, -0.0017436192, -0.004797528, -0.003843858, 0.005778388, 0.0044432185, -0.00050898275, 0.004515634, 0.0038844394, -0.0005533345, 0.0012566925, 0.0044432185, 0.0044432185, -0.0021741327, -0.0013633191, -0.003979863, -0.00065000623, 0.001217639, 0.0045088255, -0.0038417173, -0.0005923914, 0.00020072701, -0.0020327135, -0.01084902, 0.00094872696, -0.0014024591, -0.01084902, -0.001840163, -0.00093356945, -0.0070469603, 0.0011810825, -0.0070469603, 0.0041905935, -0.0040011415, 0.004388883, 0.001818403, -0.0037354326, -0.0013705455, -0.0045042317, -0.002619909, 0.001008788, -0.0025426156, 0.009384141, -0.0028599803, -0.0025426156, 0.0014768078, -0.003979863, -0.00065000623, -0.00028618236, -0.0057536648, 0.0063370755, 0.002771818, 0.001877869, -0.0037354326, -0.004174035, -0.004797528, -0.003843858, -0.0013592936, -0.00070675043, 0.010143034, 0.00033657634, -0.00047227656, 0.0007730218, -0.0017087653, -0.006526938, -0.0057536648, -0.0010730429, -0.0038417173, -0.00028618236, 0.0033280598, -0.002311644, -0.00059340993, -0.014387261, 0.0023213213, -0.0077197617, -0.003112082, -0.001652453, 0.003945475, 0.009384141, 0.0025657902, 0.0006346691, 0.00094618363, 0.008828003, 0.00094618363, -0.0005517079, 4.6509405e-05, -0.001768109, -0.0016657772, -0.0032433048, -0.0019529513, -0.004808447, -0.004137682, 0.0036019755, -0.0010626861, -0.0022348496, 0.0011810825, -0.0017025204, -0.0021292511, 0.0044432185, 0.00409128, -0.0045042317, -0.002619909, -5.586172e-05, -0.0045042317, -0.003677294, -0.0016421016, -0.0005533345, -0.0005533345, -0.0021905154, -0.00076934526, -0.003979863, -0.0045042317, -0.002619909, -0.006720132, -0.0021905154, -0.007088786, -0.003979863, -0.005372779, 0.002771818, -0.007088786, -4.042089e-05, 0.0036296418, -0.001652453, -0.0015098667, -0.0067619896, -0.0045042317, -0.00026590488, -0.0025426156, 0.0017388893, -0.0013633191, -0.0019996173, -0.006250846, -0.0057536648, -0.0034133343, 0.0015749718, -0.012610616, -0.004119641, 0.0015749718, -0.0017458135, -0.00085922994, -0.0005540792, 0.00085686403, -0.0017025204, -0.00013915956, -0.0057536648, 0.0038020865, -0.0012137892, -0.0007840461, -0.0017025204, -0.004137682, -0.0006774143, -0.0057536648, -0.0041166297, -0.0017025204, -0.001333785, -0.0045042317, -0.0025471575], [-0.0057536648, -0.0023422732, -0.0028599803, -0.0029110427, 0.0010766605, 6.074575e-05, -0.0016512149, -0.0042115073, -0.006660682, -0.0010143765, -0.00046368717, -0.0019529513, -0.004808447, -0.008914938, -0.0052502113, -0.0005161751, -0.0108603, 0.0022216036, -0.004797528, -0.0007952247, 0.0022694515, 1.5929838e-05, 0.0036533745, -0.0035432505, -0.0036642202, 0.005684421, -0.0007839824, -0.0028599803, -0.0025426156, -0.00014261424, -0.001228368, 0.0006937472, -0.002345384], [0.0018880586, -0.004797528, 0.0065425895, 0.00079520146, -0.0040905755, -0.0007134341, 0.0009985279, 0.0033076275, -0.01084902, 0.0044018994, -0.0043525193, -0.0007134341, -0.00048143914, -0.005435162, -0.0026860046, -0.0027886147, 0.0057285787, 0.015955545, -0.0016726875, -0.0009650588, 0.015955545, 0.015955545, -0.00043128108, -0.0009650588, -0.002683143, -0.0062635, -0.002619909, -0.0014394205, -0.0017118088, 0.011788019, 0.0015571801, -0.0023422118, -0.0016726875, -0.0009650588, 0.0017685785, 0.0074089305, -0.002495416, -0.0023238135, -0.0016270914, -0.001333785, 0.0003924921, -3.007864e-05, 0.0057285787, 0.0044432185, -0.0043525193, -0.012016968, -0.0058201714, 0.000336895, 0.0031642655, -0.0025426156, -0.004137682, 0.000336895, -0.0012970255, 0.001453621, -0.00032930585, -0.0040644957, 0.0060722777, -0.0027253043, -0.0016512149, -0.0042115073, -0.0062238644, 0.0013735578, -0.0016927087, -0.00033274392, 0.0011843401, -0.0005540792, -0.002463603, -0.005798859, -0.0008451036, -0.004797528, 0.0057285787, 0.015955545, 0.0015571801, -0.0023422118, 0.002771818, -0.0025426156, -0.0016927087, 0.0066767563, -0.0014079853, 0.008828003, -0.0014032779, -0.0014402281, -0.0025942684, -0.006660682, -0.003762041, 0.00013048113, -0.00047945837, 0.008657503, -0.0014000399, 0.0068167225, 0.0025657902, -0.0014402281, 0.0025657902, -0.001652453, -0.00062426185, 0.0068167225, -0.0022922615, -0.0007269139, 0.007119489]], 'y': [['0.22', '0.2', '0.2', '0.2', '0.18'], ['0.14', '0.2', '0.26', '0.16', '0.24'], ['0.17', '0.24', '0.22', '0.2', '0.17'], ['0.19', '0.21', '0.23', '0.17', '0.2'], ['0.18', '0.2', '0.2', '0.22', '0.19'], ['0.15', '0.23', '0.25', '0.18', '0.2'], ['0.19', '0.2', '0.24', '0.17', '0.19'], ['0.16', '0.18', '0.22', '0.26', '0.17'], ['0.14', '0.26', '0.22', '0.15', '0.23'], ['0.13', '0.16', '0.21', '0.26', '0.23'], ['0.18', '0.21', '0.23', '0.14', '0.25'], ['0.15', '0.26', '0.25', '0.1', '0.24'], ['0.21', '0.18', '0.2', '0.2', '0.2'], ['0.18', '0.21', '0.2', '0.21', '0.21'], ['0.17', '0.19', '0.25', '0.19', '0.2'], ['0.13', '0.23', '0.19', '0.16', '0.29'], ['0.18', '0.21', '0.19', '0.18', '0.24'], ['0.23', '0.16', '0.19', '0.21', '0.21'], ['0.22', '0.21', '0.21', '0.12', '0.23']]}\n"
          ]
        }
      ]
    },
    {
      "cell_type": "code",
      "source": [
        "print(len(dict_vec['y']))\n",
        "print(len(dict_vec['x']))\n",
        "print(len(dict_vec))\n",
        "print(len(row_index))"
      ],
      "metadata": {
        "colab": {
          "base_uri": "https://localhost:8080/"
        },
        "id": "Ar9K0UbGRFDE",
        "outputId": "f1c9fd7c-af1a-4513-c921-77fcf6ae273a"
      },
      "execution_count": null,
      "outputs": [
        {
          "output_type": "stream",
          "name": "stdout",
          "text": [
            "19\n",
            "19\n",
            "2\n",
            "19\n"
          ]
        }
      ]
    },
    {
      "cell_type": "code",
      "source": [
        "# from google.colab import drive\n",
        "# drive.mount('/content/drive')"
      ],
      "metadata": {
        "colab": {
          "base_uri": "https://localhost:8080/"
        },
        "id": "njxYuBYNWCPh",
        "outputId": "7059bfc3-a59e-4ccb-f49c-7df1e7426763"
      },
      "execution_count": null,
      "outputs": [
        {
          "output_type": "stream",
          "name": "stdout",
          "text": [
            "Mounted at /content/drive\n"
          ]
        }
      ]
    },
    {
      "cell_type": "code",
      "source": [
        "file_path = \"/content/drive/My Drive/CSV_DATA/Sanjeev1.pickle\""
      ],
      "metadata": {
        "id": "n_wxzqa1WPP6"
      },
      "execution_count": null,
      "outputs": []
    },
    {
      "cell_type": "code",
      "source": [
        "# Serialize the object to bytes using pickle [STORING DICTIONARY INTO PICKLE]\n",
        "pickled_bytes = pickle.dumps(dict_vec_com)\n",
        "\n",
        "# Encode the pickled bytes using Base64\n",
        "encoded_data = base64.b64encode(pickled_bytes)\n",
        "# Write the encoded data to a file\n",
        "with open(file_path, 'wb') as f:\n",
        "    f.write(encoded_data)\n",
        "\n",
        "print(\"hello\")"
      ],
      "metadata": {
        "colab": {
          "base_uri": "https://localhost:8080/"
        },
        "id": "-uky7zPhRUi5",
        "outputId": "9ba1e098-db5f-44e6-e6bc-c93e6a47bfda"
      },
      "execution_count": null,
      "outputs": [
        {
          "output_type": "stream",
          "name": "stdout",
          "text": [
            "hello\n"
          ]
        }
      ]
    },
    {
      "cell_type": "code",
      "source": [
        "with open(file_path, 'rb') as f:\n",
        "    encoded_data = f.read()\n",
        "\n",
        "# Decode the Base64-encoded data\n",
        "decoded_bytes = base64.b64decode(encoded_data)\n",
        "\n",
        "# Deserialize the object using pickle\n",
        "dict_vec_com = pickle.loads(decoded_bytes)\n",
        "print(dict_vec_com)"
      ],
      "metadata": {
        "colab": {
          "base_uri": "https://localhost:8080/"
        },
        "id": "0E-PU2-QRN8N",
        "outputId": "8677535a-7e87-442c-a06c-4bac68cc80a6"
      },
      "execution_count": null,
      "outputs": [
        {
          "output_type": "stream",
          "name": "stdout",
          "text": [
            "{'x': [[], [-0.0029864954, 0.011788019, -0.010809945, -0.0003294474, 0.016361741, -0.0067247273, 0.0054608677, 0.00035067677, -0.01388546, -8.2059305e-05, -0.001367155, 0.0023677754, 0.00014065315, -0.00723975, 0.0054216487, -0.0013174935, 0.00409128, -2.6561816e-06, -0.0061412277, 0.0056556314, -6.888757e-05, -0.0004698507, 0.0011902348, 0.001686157, -0.0032242865, 0.0013865908, 0.0019113863, 0.0054608677, 0.00035067677, -0.01388546, -0.0036561163, -0.0048013767, -0.00086361705, -0.0041927337, 0.002693712, 0.0018927722, 0.002771818, 0.00023825209, 0.0062528076, 0.0023752833, 0.0018927722, -0.0003294474], [0.0011630952, -0.0021868588, 0.011788019, -0.0032014975, -0.0040644957], [0.004515634, -0.0040644957], [-0.0017319969], [-0.000258497, -0.002182509], [0.010006803, -0.0012304117, 0.0016919279, 0.016361741, -0.008351284, -0.0026046655, 0.0031681657, 0.0016919279, 0.016361741], [0.00023825209, -0.0018569984], [-0.0032433048, 0.005684421, -0.0023741527, 0.0016003647, 0.005690743], [-0.0108603], [-0.0036561163, -0.0040644957, -0.000258497, -0.002182509, -2.6561816e-06], [0.0074863164, -2.6561816e-06, 0.0051531834, -0.001449414, 0.0010625616, -0.0033824146, 0.002771818, -0.0011150045, -0.0030235846, 8.9894536e-05, -0.001763463, 0.002771818, -4.109939e-05, 0.00094524265, -0.0009115978, 0.0023658804, 0.004697774, 0.0032051564], [0.0016003647], [-0.0045042317, 0.0044386825, -0.0003634577, -0.0040011415, -0.0013705455], [0.00014898618, -0.0019165949], [-0.0022348496, -0.004808447, -0.0045042317, -0.002619909], [0.00024592757, -0.0017863875], [-0.0013174935], [-0.0010495961, 0.0015307943, 0.0066767563, 0.008657503, -0.001768109, -0.00074174575, -0.003979863, -0.0012137892]], 'y': [['0.22', '0.2', '0.2', '0.2', '0.18'], ['0.14', '0.2', '0.26', '0.16', '0.24'], ['0.17', '0.24', '0.22', '0.2', '0.17'], ['0.19', '0.21', '0.23', '0.17', '0.2'], ['0.18', '0.2', '0.2', '0.22', '0.19'], ['0.15', '0.23', '0.25', '0.18', '0.2'], ['0.19', '0.2', '0.24', '0.17', '0.19'], ['0.16', '0.18', '0.22', '0.26', '0.17'], ['0.14', '0.26', '0.22', '0.15', '0.23'], ['0.13', '0.16', '0.21', '0.26', '0.23'], ['0.18', '0.21', '0.23', '0.14', '0.25'], ['0.15', '0.26', '0.25', '0.1', '0.24'], ['0.21', '0.18', '0.2', '0.2', '0.2'], ['0.18', '0.21', '0.2', '0.21', '0.21'], ['0.17', '0.19', '0.25', '0.19', '0.2'], ['0.13', '0.23', '0.19', '0.16', '0.29'], ['0.18', '0.21', '0.19', '0.18', '0.24'], ['0.23', '0.16', '0.19', '0.21', '0.21'], ['0.22', '0.21', '0.21', '0.12', '0.23']]}\n"
          ]
        }
      ]
    },
    {
      "cell_type": "code",
      "source": [
        "print(len(dict_vec_com['y']))\n",
        "print(len(dict_vec_com['x']))\n",
        "print(len(dict_vec_com))\n",
        "print(len(row_index))"
      ],
      "metadata": {
        "colab": {
          "base_uri": "https://localhost:8080/"
        },
        "id": "At3VsXu1Rgsm",
        "outputId": "9acfc54e-758c-4a23-fa68-461e9457575a"
      },
      "execution_count": null,
      "outputs": [
        {
          "output_type": "stream",
          "name": "stdout",
          "text": [
            "19\n",
            "19\n",
            "2\n",
            "19\n"
          ]
        }
      ]
    }
  ]
}