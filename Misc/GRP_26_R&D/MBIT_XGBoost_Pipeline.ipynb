{
  "nbformat": 4,
  "nbformat_minor": 0,
  "metadata": {
    "colab": {
      "provenance": []
    },
    "kernelspec": {
      "name": "python3",
      "display_name": "Python 3"
    },
    "language_info": {
      "name": "python"
    }
  },
  "cells": [
    {
      "cell_type": "code",
      "execution_count": 28,
      "metadata": {
        "colab": {
          "base_uri": "https://localhost:8080/"
        },
        "id": "hiO8XCNDBYxU",
        "outputId": "8a66e229-3b19-4e1f-8b00-79e42dbfad71"
      },
      "outputs": [
        {
          "output_type": "stream",
          "name": "stderr",
          "text": [
            "[nltk_data] Downloading package stopwords to /root/nltk_data...\n",
            "[nltk_data]   Package stopwords is already up-to-date!\n",
            "[nltk_data] Downloading package wordnet to /root/nltk_data...\n",
            "[nltk_data]   Package wordnet is already up-to-date!\n"
          ]
        }
      ],
      "source": [
        "#necessary\n",
        "import pandas as pd\n",
        "import numpy as np\n",
        "import pickle\n",
        "#plotting\n",
        "import matplotlib.pyplot as plt\n",
        "import seaborn as sns\n",
        "\n",
        "#NPL\n",
        "import re\n",
        "from nltk.stem import WordNetLemmatizer\n",
        "from sklearn.preprocessing import LabelEncoder\n",
        "from nltk.corpus import stopwords\n",
        "import nltk\n",
        "nltk.download('stopwords')\n",
        "nltk.download('wordnet')\n",
        "#Ml\n",
        "from sklearn.model_selection import train_test_split\n",
        "from sklearn.ensemble import RandomForestClassifier\n",
        "from sklearn.metrics import accuracy_score\n",
        "from xgboost import XGBClassifier\n",
        "from sklearn.linear_model import SGDClassifier\n",
        "from sklearn.linear_model import LogisticRegression\n",
        "import warnings\n",
        "warnings.filterwarnings(\"ignore\")"
      ]
    },
    {
      "cell_type": "code",
      "source": [
        "from google.colab import drive\n",
        "drive.mount('/content/drive')"
      ],
      "metadata": {
        "colab": {
          "base_uri": "https://localhost:8080/"
        },
        "id": "btsVAiVHI4rZ",
        "outputId": "94efaa45-4aa4-47ed-fb0a-07d3cfbfb7af"
      },
      "execution_count": 29,
      "outputs": [
        {
          "output_type": "stream",
          "name": "stdout",
          "text": [
            "Drive already mounted at /content/drive; to attempt to forcibly remount, call drive.mount(\"/content/drive\", force_remount=True).\n"
          ]
        }
      ]
    },
    {
      "cell_type": "code",
      "source": [
        "df2 = pd.read_csv('/content/drive/MyDrive/MBIT_data/mbti_1.csv')\n",
        "data=df2.copy()"
      ],
      "metadata": {
        "id": "ZaynjdKFI90e"
      },
      "execution_count": 30,
      "outputs": []
    },
    {
      "cell_type": "code",
      "source": [
        "# MBTI unique types and binary translation dictionaries\n",
        "unique_type_list = ['infj', 'entp', 'intp', 'intj', 'entj', 'enfj', 'infp', 'enfp', 'istp', 'isfp', 'isfj', 'istj', 'estp', 'esfp', 'estj', 'esfj']\n",
        "b_Pers = {'I': 0, 'E': 1, 'N': 0, 'S': 1, 'F': 0, 'T': 1, 'J': 0, 'P': 1}\n",
        "b_Pers_list = [{0: 'I', 1: 'E'}, {0: 'N', 1: 'S'}, {0: 'F', 1: 'T'}, {0: 'J', 1: 'P'}]\n",
        "\n",
        "def translate_personality(personality):\n",
        "    # Transform mbti to binary vector\n",
        "    return [b_Pers[l] for l in personality]\n",
        "\n",
        "# To show result output for personality prediction\n",
        "def translate_back(personality):\n",
        "    # Transform binary vector to mbti personality\n",
        "    s = \"\"\n",
        "    for i, l in enumerate(personality):\n",
        "        s += b_Pers_list[i][l]\n",
        "    return s\n"
      ],
      "metadata": {
        "id": "E7JeBmISNqWT"
      },
      "execution_count": 31,
      "outputs": []
    },
    {
      "cell_type": "markdown",
      "source": [
        "# Posts preprocessor"
      ],
      "metadata": {
        "id": "MXv1exk7C5jk"
      }
    },
    {
      "cell_type": "code",
      "source": [
        "# Define stop words and lemmatizer\n",
        "useless_words = set(stopwords.words('english'))\n",
        "lemmatiser = WordNetLemmatizer()\n",
        "\n",
        "def preprocess_posts(posts, remove_stop_words=True, remove_mbti_profiles=True):\n",
        "    # Remove and clean comments\n",
        "    temp = posts\n",
        "\n",
        "    # Remove url links\n",
        "    temp = re.sub('http[s]?://(?:[a-zA-Z]|[0-9]|[$-_@.&+]|(?:%[0-9a-fA-F][0-9a-fA-F]))+', ' ', temp)\n",
        "\n",
        "    # Remove Non-words - keep only words\n",
        "    temp = re.sub(\"[^a-zA-Z]\", \" \", temp)\n",
        "\n",
        "    # Remove spaces > 1\n",
        "    temp = re.sub(' +', ' ', temp).lower()\n",
        "\n",
        "    # Remove multiple letter repeating words\n",
        "    temp = re.sub(r'([a-z])\\1{2,}[\\s|\\w]*', '', temp)\n",
        "\n",
        "    # Remove stop words\n",
        "    if remove_stop_words:\n",
        "        temp = \" \".join([lemmatiser.lemmatize(w) for w in temp.split(' ') if w not in useless_words])\n",
        "    else:\n",
        "        temp = \" \".join([lemmatiser.lemmatize(w) for w in temp.split(' ')])\n",
        "\n",
        "    # Remove MBTI personality words from posts\n",
        "    if remove_mbti_profiles:\n",
        "        for t in unique_type_list:\n",
        "            temp = temp.replace(t, \"\")\n",
        "\n",
        "    return temp\n"
      ],
      "metadata": {
        "id": "XrhrKd7bCWQc"
      },
      "execution_count": 32,
      "outputs": []
    },
    {
      "cell_type": "markdown",
      "source": [
        "# MBIT to binary val transformer"
      ],
      "metadata": {
        "id": "Vz5aTfXFDJCl"
      }
    },
    {
      "cell_type": "code",
      "source": [
        "def transform_mbti_to_binary(data):\n",
        "    list_personality = []\n",
        "    len_data = len(data)\n",
        "    i = 0\n",
        "\n",
        "    for row in data.iterrows():\n",
        "        # Transform mbti to binary vector\n",
        "        type_labelized = translate_personality(row[1].type)  # or use lab_encoder.transform([row[1].type])[0]\n",
        "        list_personality.append(type_labelized)\n",
        "\n",
        "    list_personality = np.array(list_personality)\n",
        "    return list_personality"
      ],
      "metadata": {
        "id": "A5fQVaafDEIB"
      },
      "execution_count": 33,
      "outputs": []
    },
    {
      "cell_type": "markdown",
      "source": [
        "# To combine 2 functoins. Use for training"
      ],
      "metadata": {
        "id": "ZKsvo84-DV2m"
      }
    },
    {
      "cell_type": "code",
      "source": [
        "def combined_preprocessing(data, remove_stop_words=True, remove_mbti_profiles=True):\n",
        "    list_posts = []\n",
        "    len_data = len(data)\n",
        "    i = 0\n",
        "\n",
        "    for row in data.iterrows():\n",
        "        # check code working\n",
        "        # i+=1\n",
        "        # if (i % 500 == 0 or i == 1 or i == len_data):\n",
        "        #     print(\"%s of %s rows\" % (i, len_data))\n",
        "\n",
        "        # Preprocess posts\n",
        "        temp = preprocess_posts(row[1].posts, remove_stop_words, remove_mbti_profiles)\n",
        "        list_posts.append(temp)\n",
        "\n",
        "    list_posts = np.array(list_posts)\n",
        "    list_personality = transform_mbti_to_binary(data)\n",
        "\n",
        "    return list_posts, list_personality\n"
      ],
      "metadata": {
        "id": "u20QdtruDIVn"
      },
      "execution_count": 34,
      "outputs": []
    },
    {
      "cell_type": "code",
      "source": [
        "list_posts, list_personality = combined_preprocessing(data, remove_stop_words=True, remove_mbti_profiles=True)\n",
        "\n",
        "print(\"Example:\")\n",
        "print(\"\\nPost before preprocessing:\\n\\n\", data.posts.iloc[0])\n",
        "print(\"\\nPost after preprocessing:\\n\\n\", list_posts[0])\n",
        "print(\"\\nMBTI before preprocessing:\\n\\n\", data.type.iloc[0])\n",
        "print(\"\\nMBTI after preprocessing:\\n\\n\", list_personality[0])\n"
      ],
      "metadata": {
        "colab": {
          "base_uri": "https://localhost:8080/"
        },
        "id": "K8lwlF3tDcNv",
        "outputId": "71ffc0c0-f250-4678-e63e-959511230d8d"
      },
      "execution_count": 35,
      "outputs": [
        {
          "output_type": "stream",
          "name": "stdout",
          "text": [
            "Example:\n",
            "\n",
            "Post before preprocessing:\n",
            "\n",
            " 'http://www.youtube.com/watch?v=qsXHcwe3krw|||http://41.media.tumblr.com/tumblr_lfouy03PMA1qa1rooo1_500.jpg|||enfp and intj moments  https://www.youtube.com/watch?v=iz7lE1g4XM4  sportscenter not top ten plays  https://www.youtube.com/watch?v=uCdfze1etec  pranks|||What has been the most life-changing experience in your life?|||http://www.youtube.com/watch?v=vXZeYwwRDw8   http://www.youtube.com/watch?v=u8ejam5DP3E  On repeat for most of today.|||May the PerC Experience immerse you.|||The last thing my INFJ friend posted on his facebook before committing suicide the next day. Rest in peace~   http://vimeo.com/22842206|||Hello ENFJ7. Sorry to hear of your distress. It's only natural for a relationship to not be perfection all the time in every moment of existence. Try to figure the hard times as times of growth, as...|||84389  84390  http://wallpaperpassion.com/upload/23700/friendship-boy-and-girl-wallpaper.jpg  http://assets.dornob.com/wp-content/uploads/2010/04/round-home-design.jpg ...|||Welcome and stuff.|||http://playeressence.com/wp-content/uploads/2013/08/RED-red-the-pokemon-master-32560474-450-338.jpg  Game. Set. Match.|||Prozac, wellbrutin, at least thirty minutes of moving your legs (and I don't mean moving them while sitting in your same desk chair), weed in moderation (maybe try edibles as a healthier alternative...|||Basically come up with three items you've determined that each type (or whichever types you want to do) would more than likely use, given each types' cognitive functions and whatnot, when left by...|||All things in moderation.  Sims is indeed a video game, and a good one at that. Note: a good one at that is somewhat subjective in that I am not completely promoting the death of any given Sim...|||Dear ENFP:  What were your favorite video games growing up and what are your now, current favorite video games? :cool:|||https://www.youtube.com/watch?v=QyPqT8umzmY|||It appears to be too late. :sad:|||There's someone out there for everyone.|||Wait... I thought confidence was a good thing.|||I just cherish the time of solitude b/c i revel within my inner world more whereas most other time i'd be workin... just enjoy the me time while you can. Don't worry, people will always be around to...|||Yo entp ladies... if you're into a complimentary personality,well, hey.|||... when your main social outlet is xbox live conversations and even then you verbally fatigue quickly.|||http://www.youtube.com/watch?v=gDhy7rdfm14  I really dig the part from 1:46 to 2:50|||http://www.youtube.com/watch?v=msqXffgh7b8|||Banned because this thread requires it of me.|||Get high in backyard, roast and eat marshmellows in backyard while conversing over something intellectual, followed by massages and kisses.|||http://www.youtube.com/watch?v=Mw7eoU3BMbE|||http://www.youtube.com/watch?v=4V2uYORhQOk|||http://www.youtube.com/watch?v=SlVmgFQQ0TI|||Banned for too many b's in that sentence. How could you! Think of the B!|||Banned for watching movies in the corner with the dunces.|||Banned because Health class clearly taught you nothing about peer pressure.|||Banned for a whole host of reasons!|||http://www.youtube.com/watch?v=IRcrv41hgz4|||1) Two baby deer on left and right munching on a beetle in the middle.  2) Using their own blood, two cavemen diary today's latest happenings on their designated cave diary wall.  3) I see it as...|||a pokemon world  an infj society  everyone becomes an optimist|||49142|||http://www.youtube.com/watch?v=ZRCEq_JFeFM|||http://discovermagazine.com/2012/jul-aug/20-things-you-didnt-know-about-deserts/desert.jpg|||http://oyster.ignimgs.com/mediawiki/apis.ign.com/pokemon-silver-version/d/dd/Ditto.gif|||http://www.serebii.net/potw-dp/Scizor.jpg|||Not all artists are artists because they draw. It's the idea that counts in forming something of your own... like a signature.|||Welcome to the robot ranks, person who downed my self-esteem cuz I'm not an avid signature artist like herself. :proud:|||Banned for taking all the room under my bed. Ya gotta learn to share with the roaches.|||http://www.youtube.com/watch?v=w8IgImn57aQ|||Banned for being too much of a thundering, grumbling kind of storm... yep.|||Ahh... old high school music I haven't heard in ages.   http://www.youtube.com/watch?v=dcCRUPCdB1w|||I failed a public speaking class a few years ago and I've sort of learned what I could do better were I to be in that position again. A big part of my failure was just overloading myself with too...|||I like this person's mentality. He's a confirmed INTJ by the way. http://www.youtube.com/watch?v=hGKLI-GEc6M|||Move to the Denver area and start a new life for myself.'\n",
            "\n",
            "Post after preprocessing:\n",
            "\n",
            "    moment sportscenter top ten play prank life changing experience life repeat today may perc experience immerse last thing  friend posted facebook committing suicide next day rest peace hello  sorry hear distress natural relationship perfection time every moment existence try figure hard time time growth welcome stuff game set match prozac wellbrutin least thirty minute moving leg mean moving sitting desk chair weed moderation maybe try edible healthier alternative basically come three item determined type whichever type want would likely use given type cognitive function whatnot left thing moderation sims indeed video game good one note good one somewhat subjective completely promoting death given sim dear  favorite video game growing current favorite video game cool appears late sad someone everyone wait thought confidence good thing cherish time solitude b c revel within inner world whereas time workin enjoy time worry people always around yo  lady complimentary personality well hey main social outlet xbox live conversation even verbally fatigue quickly really dig part banned thread requires get high backyard roast eat marshmellows backyard conversing something intellectual followed massage kiss banned many b sentence could think b banned watching movie corner dunce banned health class clearly taught nothing peer pressure banned whole host reason two baby deer left right munching beetle middle using blood two caveman diary today latest happening designated cave diary wall see pokemon world  society everyone becomes optimist artist artist draw idea count forming something like signature welcome robot rank person downed self esteem cuz avid signature artist like proud banned taking room bed ya gotta learn share roach banned much thundering grumbling kind storm yep ahh old high school music heard age failed public speaking class year ago sort learned could better position big part failure overloading like person mentality confirmed  way move denver area start new life \n",
            "\n",
            "MBTI before preprocessing:\n",
            "\n",
            " INFJ\n",
            "\n",
            "MBTI after preprocessing:\n",
            "\n",
            " [0 0 0 0]\n"
          ]
        }
      ]
    },
    {
      "cell_type": "markdown",
      "source": [
        "# 👍"
      ],
      "metadata": {
        "id": "C5bfPQkpD8Gy"
      }
    },
    {
      "cell_type": "code",
      "source": [
        "from sklearn.feature_extraction.text import TfidfVectorizer\n",
        "\n",
        "# Define the vectorizer\n",
        "tfidf_vectorizer = TfidfVectorizer(\n",
        "    analyzer=\"word\",\n",
        "    max_features=1000,\n",
        "    max_df=0.7,\n",
        "    min_df=0.1\n",
        ")\n",
        "\n",
        "# Fit and transform the list_posts directly to a TF-IDF representation\n",
        "print(\"Using TfidfVectorizer:\")\n",
        "X_tfidf = tfidf_vectorizer.fit_transform(list_posts)\n",
        "\n",
        "# The shape of the TF-IDF matrix\n",
        "print(\"Now the dataset size is as below\")\n",
        "print(X_tfidf.shape)\n",
        "\n",
        "# Feature names\n",
        "feature_names = tfidf_vectorizer.get_feature_names_out()\n",
        "print(\"10 feature names can be seen below\")\n",
        "print(list(enumerate(feature_names[:10])))\n"
      ],
      "metadata": {
        "colab": {
          "base_uri": "https://localhost:8080/"
        },
        "id": "khTC6SZmDtkf",
        "outputId": "aac573ea-ef9b-4f15-a485-100967b23894"
      },
      "execution_count": 36,
      "outputs": [
        {
          "output_type": "stream",
          "name": "stdout",
          "text": [
            "Using TfidfVectorizer:\n",
            "Now the dataset size is as below\n",
            "(8675, 595)\n",
            "10 feature names can be seen below\n",
            "[(0, 'ability'), (1, 'able'), (2, 'absolutely'), (3, 'across'), (4, 'act'), (5, 'action'), (6, 'actually'), (7, 'add'), (8, 'advice'), (9, 'afraid')]\n"
          ]
        }
      ]
    },
    {
      "cell_type": "code",
      "source": [
        "# Initialize personality types\n",
        "personality_type = [ \"IE: Introversion (I) / Extroversion (E)\", \"NS: Intuition (N) / Sensing (S)\",\n",
        "                   \"FT: Feeling (F) / Thinking (T)\", \"JP: Judging (J) / Perceiving (P)\"  ]\n",
        "\n",
        "for l in range(len(personality_type)):\n",
        "    print(personality_type[l])"
      ],
      "metadata": {
        "colab": {
          "base_uri": "https://localhost:8080/"
        },
        "id": "Tl30t8TnEIMH",
        "outputId": "26f50921-e93f-4239-da90-f87d90bf611c"
      },
      "execution_count": 37,
      "outputs": [
        {
          "output_type": "stream",
          "name": "stdout",
          "text": [
            "IE: Introversion (I) / Extroversion (E)\n",
            "NS: Intuition (N) / Sensing (S)\n",
            "FT: Feeling (F) / Thinking (T)\n",
            "JP: Judging (J) / Perceiving (P)\n"
          ]
        }
      ]
    },
    {
      "cell_type": "code",
      "source": [
        "print(\"For MBTI personality type : %s\" % translate_back(list_personality[2,:]))\n",
        "print(\"Y : Binarized MBTI 1st row: %s\" % list_personality[2,:])"
      ],
      "metadata": {
        "colab": {
          "base_uri": "https://localhost:8080/"
        },
        "id": "LFTVWCGjEVrU",
        "outputId": "03ecc0c2-21ef-431e-af1d-70e8de917ad0"
      },
      "execution_count": 38,
      "outputs": [
        {
          "output_type": "stream",
          "name": "stdout",
          "text": [
            "For MBTI personality type : INTP\n",
            "Y : Binarized MBTI 1st row: [0 0 1 1]\n"
          ]
        }
      ]
    },
    {
      "cell_type": "markdown",
      "source": [
        "#👍"
      ],
      "metadata": {
        "id": "W-ryHsSkEgN8"
      }
    },
    {
      "cell_type": "code",
      "source": [
        "models = {}\n",
        "X=X_tfidf.toarray()\n",
        "# Individually training each MBTI personality type\n",
        "for l in range(len(personality_type)):\n",
        "\n",
        "    Y = list_personality[:, l]\n",
        "\n",
        "    # Split data into train and test sets\n",
        "    X_train, X_test, y_train, y_test = train_test_split(X, Y, test_size=0.33, random_state=7)\n",
        "\n",
        "    # Fit model on training data\n",
        "    model = LogisticRegression()\n",
        "    model.fit(X_train, y_train)\n",
        "\n",
        "    # Save the trained model to the dictionary\n",
        "    models[personality_type[l]] = model\n",
        "\n",
        "    # Make predictions for test data\n",
        "    y_pred = model.predict(X_test)\n",
        "\n",
        "    predictions = [round(value) for value in y_pred]\n",
        "\n",
        "    # Evaluate predictions\n",
        "    accuracy = accuracy_score(y_test, predictions)\n",
        "\n",
        "    print(\"%s Accuracy: %.2f%%\" % (personality_type[l], accuracy * 100.0))"
      ],
      "metadata": {
        "colab": {
          "base_uri": "https://localhost:8080/"
        },
        "id": "tpYODS1-EY1y",
        "outputId": "eff254e7-d319-4f35-eee9-a4a6a3526d10"
      },
      "execution_count": 39,
      "outputs": [
        {
          "output_type": "stream",
          "name": "stdout",
          "text": [
            "IE: Introversion (I) / Extroversion (E) Accuracy: 77.54%\n",
            "NS: Intuition (N) / Sensing (S) Accuracy: 86.06%\n",
            "FT: Feeling (F) / Thinking (T) Accuracy: 72.44%\n",
            "JP: Judging (J) / Perceiving (P) Accuracy: 64.51%\n"
          ]
        }
      ]
    },
    {
      "cell_type": "code",
      "source": [
        "# Save the models to disk\n",
        "with open('mbti_models.pkl', 'wb') as f:\n",
        "    pickle.dump(models, f)"
      ],
      "metadata": {
        "id": "9elD1Aa4FWIM"
      },
      "execution_count": 40,
      "outputs": []
    },
    {
      "cell_type": "code",
      "source": [
        "# Save the tfidf vectorizer to disk\n",
        "with open('tfidf_vectorizer.pkl', 'wb') as f:\n",
        "    pickle.dump(tfidf_vectorizer, f)"
      ],
      "metadata": {
        "id": "OzzvQo28Fpul"
      },
      "execution_count": 41,
      "outputs": []
    },
    {
      "cell_type": "markdown",
      "source": [
        "# You can start from here"
      ],
      "metadata": {
        "id": "iIdVY9PzGAI6"
      }
    },
    {
      "cell_type": "code",
      "source": [
        "import re\n",
        "import numpy as np\n",
        "import pickle\n",
        "from sklearn.feature_extraction.text import TfidfVectorizer\n",
        "from nltk.corpus import stopwords\n",
        "from nltk.stem import WordNetLemmatizer\n",
        "\n",
        "# Defining stop words and lemmatizer\n",
        "useless_words = set(stopwords.words('english'))\n",
        "lemmatiser = WordNetLemmatizer()\n",
        "\n",
        "# Load the trained models\n",
        "with open('../pkls/mbti_models.pkl', 'rb') as f:\n",
        "    models = pickle.load(f)\n",
        "\n",
        "# Load the trained TF-IDF vectorizer\n",
        "with open('../pkls/tfidf_vectorizer.pkl', 'rb') as f:\n",
        "    tfidf_vectorizer = pickle.load(f)\n",
        "\n",
        "personality_type = [ \"IE: Introversion (I) / Extroversion (E)\", \"NS: Intuition (N) / Sensing (S)\",\n",
        "                   \"FT: Feeling (F) / Thinking (T)\", \"JP: Judging (J) / Perceiving (P)\"  ]\n",
        "\n",
        "unique_type_list = ['infj', 'entp', 'intp', 'intj', 'entj', 'enfj', 'infp', 'enfp', 'istp', 'isfp', 'isfj', 'istj', 'estp', 'esfp', 'estj', 'esfj']"
      ],
      "metadata": {
        "id": "LtDreN31FkRY"
      },
      "execution_count": 42,
      "outputs": []
    },
    {
      "cell_type": "code",
      "source": [
        "def preprocess_posts(posts, remove_stop_words=True, remove_mbti_profiles=True):\n",
        "    # Remove and clean comments\n",
        "    temp = posts\n",
        "\n",
        "    # Remove url links\n",
        "    temp = re.sub('http[s]?://(?:[a-zA-Z]|[0-9]|[$-_@.&+]|(?:%[0-9a-fA-F][0-9a-fA-F]))+', ' ', temp)\n",
        "\n",
        "    # Remove Non-words - keep only words\n",
        "    temp = re.sub(\"[^a-zA-Z]\", \" \", temp)\n",
        "\n",
        "    # Remove spaces > 1\n",
        "    temp = re.sub(' +', ' ', temp).lower()\n",
        "\n",
        "    # Remove multiple letter repeating words\n",
        "    temp = re.sub(r'([a-z])\\1{2,}[\\s|\\w]*', '', temp)\n",
        "\n",
        "    # Remove stop words\n",
        "    if remove_stop_words:\n",
        "        temp = \" \".join([lemmatiser.lemmatize(w) for w in temp.split(' ') if w not in useless_words])\n",
        "    else:\n",
        "        temp = \" \".join([lemmatiser.lemmatize(w) for w in temp.split(' ')])\n",
        "\n",
        "    # Remove MBTI personality words from posts\n",
        "    if remove_mbti_profiles:\n",
        "        for t in unique_type_list:\n",
        "            temp = temp.replace(t, \"\")\n",
        "\n",
        "    return temp"
      ],
      "metadata": {
        "id": "CHse4aEVGHRp"
      },
      "execution_count": 43,
      "outputs": []
    },
    {
      "cell_type": "code",
      "source": [
        "def predict_personality(input_text):\n",
        "    # Preprocess the input text\n",
        "    preprocessed_text = preprocess_posts(input_text)\n",
        "\n",
        "    # Transform the preprocessed text using the loaded TF-IDF vectorizer\n",
        "    transformed_text = tfidf_vectorizer.transform([preprocessed_text])\n",
        "\n",
        "    # Dictionary to store predictions and their probabilities\n",
        "    predictions = {}\n",
        "\n",
        "    # Predict using the loaded models\n",
        "    for personality in personality_type:\n",
        "        model = models[personality]\n",
        "        prediction = model.predict(transformed_text)[0]\n",
        "        probability = model.predict_proba(transformed_text)[0]\n",
        "\n",
        "        predictions[personality] = {\n",
        "            'prediction': prediction,\n",
        "            'probability': probability[1] if prediction == 1 else probability[0]\n",
        "        }\n",
        "\n",
        "    return predictions"
      ],
      "metadata": {
        "id": "wn08_bQMIJQm"
      },
      "execution_count": 44,
      "outputs": []
    },
    {
      "cell_type": "code",
      "source": [
        "input_text1 =\"\"\" They act like they care They tell me to share But when I carve the stories on my arm The doctor just calls it self harm I’m not asking for attention There’s a reason I have apprehensions I just need you to see What has become of me||| I know I’m going crazy But they think my thoughts are just hazy When in that chaos, in that confusion I’m crying out for help, to escape my delusions||| Mental health is a state of mind How does one keep that up when assistance is denied All my failed attempts to fight the blaze You treat it like its a passing phase||| Well stop, its not, because mental illness is real Understand that we’re all not made of steel Because when you brush these issues under the carpet You make it seem like its our mistake we’re not guarded||| Don’t you realise that its a problem that needs to be addressed Starting at home, in our nest Why do you keep your mouths shut about such things Instead of caring for those with broken wings||| What use is this social stigma When mental illness is not even such an enigma Look around and you’ll see the numbers of the affected hiding under the covers ||| This is an issue that needs to be discussed Not looked down upon with disgust Mental illness needs to be accepted So that people can be protected ||| Let me give you some direction People need affection The darkness must be escaped Only then the lost can be saved||| Bring in a change Something not very strange The new year is here Its time to eradicate fear||| Recognise the wrists under the knives To stop mental illness from taking more lives Let’s break the convention Start ‘suicide prevention’.||| Hoping the festival of lights drives the darkness of mental illness away\"\"\"\n"
      ],
      "metadata": {
        "id": "JsikBX2wINmL"
      },
      "execution_count": 55,
      "outputs": []
    },
    {
      "cell_type": "code",
      "source": [
        "input_text2 = \"\"\" I dont think anyone would be able to live 300 years i am not talking about the physical ability to do so but the mental fortitude unless you decide to live away from civilization it simply is not possible.|||Believe me you would not want to live for that long alone , unless there are others who can live for 300 years as well.|||You cannot enjoy something if you say something to yourself like ‘I wanna enjoy this , i think this thing is gonna be fun’ believe me it doesn’t work.|||I think this problem might be face by a lot of people.|||Firstly you should only study stuff that interests you . (obvious)|||Now there are subjects that you school forces you to take and you have no option but to some how score in those subjects. (What i used to think is subjects like history , geography and most of all Hindi are utterly useless , i wanna be a programmer why do i study these)|||But because i had no choice i thought lets give these a try. I started questioning things and when i dug deep into the events of history and and why each event took place or how it was of benefit to the benefactor. This questioning and finding out the reasons made me like history.|||My point is unless ya’ll start questioning and researching further than whats necessary for exams you wont like that subject. All the subjects are beautiful , its what you choose to see. Basically give everything a real shot in life , everything works out. (my advice seems ironical as if you dont like the subject and i am telling you to research further but try it once )|||And also never study because there is exam or because you have to do an assignment or because someone is told you to or because ….|||But please ONLY STUDY BECAUSE YOU FEEL LIKE AND BECAUSE YOU WANT TO. Until you develop this sense of want to study it will be hard for you to like it. You must like it so much , that you know when people say after studying maths for 1 hour they took a break of 20 mins watching their favorite tv show(lets say friends)|||For you it should be like after 1 hour of x(that you dont like but HAVE to do) activity you take a break of 20 mins and you study , (like i like reading article on ai so i do that) you might like bio you will do that what i want to say is that is what it means to like something and only then you can truly enjoy it.|||If only something known as luck existed. (no offence to the readers or person who asked the question)|||Luck is a really interesting term , a really complex illusion. What i am saying is there is nothing known as luck that exists. Something simply doesnt just happen. It happens for a reason and with a reason.|||Some over here might claim that if it is not luck then what is it that cause (cause a child to be born in a rich family or a person to be saved by weirdest phenomenon and escape death.)|||What i want ya’ll to know is firstly that being born rich cannot be called as “lucky” like we cannot say to be born in a rich family is particularly a good thing there are many reasons to this (some people like to work their way up , Some want to experience the life troubles, well whatever the reasons might be) So firstly when we say something to be lucky we just CONSIDER that what happened was good. Same goes with the case of being saved from and awful accident. We still dont know the purpose of life or our existence and hence we dont know if living is a boon. this might be harsh for some but Reality is Harsh.|||What want ya’ll to know is never feel bad if something good(in your perspective) happens to someone as It might as well not turn out to be good if you see the BIG picture.|||Besides its also a good thing to think this way as its boosts up your hopes , like you might consider that everything that has happened to you has made you what you are and even if you don’t appreciate your conditions there is someone somewhere who would want to be in that.|||I think the all of us are 100% selfish. (no offence)|||The thing is even if we say we care about someone and then we help that person in reality we are just making ourselves happy by helping that someone.|||What i mean to say is even when people talk about sacrifices for others the reality is that sacrifice made that person or those persons happy which you cared for and thus those people being happy makes you happy.|||Everything comes down to you. You can try and deny it but you all know it.|||Now about those people who sacrifice their lives for others that is a peculiar case , and here too (this might be hard for some to believe) but they sacrifice life for someone they loved (they thought they loved) but the truth is in a situation where a person sacrifices his life for another the truth is that if he hadnt dont that he couldn’t have survived without that person anyways and then there are always some who seek glory.|||I hope you get the point. Even when you say that people spend 30s and 40s the truth is making their kids life perfect gives them happiness. There are people without kids too cause for these making their kids life perfect doesnt give them as much happiness as focusing on their own goals might.|||Now i believe there might be many who thought that making kids life perfect might give them happiness but it turns out to be false and then they are stuck there fulfilling moral obligations. It all comes down to your resolves and how firm you are in you decisions.|||Isn’t it fun to watch our disciples fight among themselves to prove that only one of us exists!|||I tend to believe that everything in this universe HAS TO HAVE A PURPOSE. Rather than thinking that the universe is a useless place and we have no purpose i would rather think we are just too stupid and dont know or cannot find the purpose. I have always wondered that what would be our reason to exist , once i thought of us (humans on earth) a crop created by aliens that takes this long to grow (i mean may be it would be not possible to create humans by a process other than evolution) so the aliens started the life on earth and are now just waiting for us to evolve , and so our purpose according to that is nothing but to serve as food or may be what ever they want , now then the question arises is what would their purpose be , And all such hypothetical situation lead to to scenario to go into infinity.|||After a lot of such crazy thought i came to 2 conclusions , 1 is pretty simple our purpose of life is find a purpose for our lives , and the weird thing is unlike other things once you find what your were looking for , the process ends there. The paradox is after you find your purpose of life did your succeed in finishing your purpose of life or did you just begun ?|||The 2nd one is what most people should agree is happiness. Now I think that this happiness should be confined to YOUR’s and ONLY your Happiness. Now the thing is some people gain happiness by giving people happiness.|||Let happiness be a quantifiable entity. We shall say that we start 0 oh hp . |||The zone where we dont feel happy or sad is 0 . Anything above 0 means you are happy and less than 0 is you are sad .|||Now one might think that if we suppose attain 100 hp , and do nothing after that we shall remain happy , the problem is that after a while our bar above which we remain moves up (simple adaptation) so now anything below 100hp is sad . This is the main problem with happiness , and So we need to keep doing stuff and increasing our hp . So maybe this counts as a purpose of life.|||Like when we are told about those saints and stuff who abandon society and live their life alone in discrete places where no one can disturb them. I believe the simple reason for this they have found happiness in doing nothing . Like someone finds happiness in making more money (there is a possibility that you might not make and hence be sad ) So these saint type people do something that has no opposite , like i know when they do nothing (i know its opposite is everything) and thats the very reason they go away from the civilization where they literally will have to do nothing . I also tend to think of these people as cowards who fear that they might loose at point.|||But the very point arises is what did you gain by gaining happiness. So again there is no end so Keep chasing the infinity its pointless but Keeps you busy(till the point you are alive) then after you are dead i guess nothing matters.|||But anyways thats the most easy thing to obtain happiness without sadness.|||But the very point arises is what did you gain by gaining happiness. So again there is no end so Keep chasing the infinity its pointless but Keeps you busy(till the point you are alive) then after you are dead i guess nothing matters.|||But if the life after death theory is true , and if by chance are memories are also transferred every time we are reborn. We all are fucked We are for infinity stuck chasing the infinity . (I wonder what happens when infinity chases infinity It will be fun to watch !) |||I think rather than worrying about these things we should just enjoy life . Because there will always something that we dont know that we dont know and thus we shall never know that. this is just 2 loops of not know , you can reach it , but Do it infinitely . Infinity is a bitch.|||Well To all beings good luck finding a purpose and to all those who know that it doesnt exist ya’ll are fucked.\"\"\""
      ],
      "metadata": {
        "id": "_2JpiSXAIcsx"
      },
      "execution_count": 53,
      "outputs": []
    },
    {
      "cell_type": "code",
      "source": [
        "temp=[]\n",
        "# Get the predictions\n",
        "predictions = predict_personality(input_text2)\n",
        "# Print the results\n",
        "for personality, result in predictions.items():\n",
        "    print(f\"Personality Type: {personality}\")\n",
        "    print(f\"Prediction: {(result['prediction'])}\")\n",
        "    temp.append(result['prediction'])\n",
        "    print(f\"Probability: {result['probability']:.2f}\")\n",
        "    print()\n",
        "print(translate_back(temp))"
      ],
      "metadata": {
        "colab": {
          "base_uri": "https://localhost:8080/"
        },
        "id": "s_d7ZbaXNbgI",
        "outputId": "5c27572c-1259-4f02-bd62-b2e0e062ac40"
      },
      "execution_count": 54,
      "outputs": [
        {
          "output_type": "stream",
          "name": "stdout",
          "text": [
            "Personality Type: IE: Introversion (I) / Extroversion (E)\n",
            "Prediction: 0\n",
            "Probability: 0.86\n",
            "\n",
            "Personality Type: NS: Intuition (N) / Sensing (S)\n",
            "Prediction: 0\n",
            "Probability: 0.91\n",
            "\n",
            "Personality Type: FT: Feeling (F) / Thinking (T)\n",
            "Prediction: 1\n",
            "Probability: 0.58\n",
            "\n",
            "Personality Type: JP: Judging (J) / Perceiving (P)\n",
            "Prediction: 0\n",
            "Probability: 0.55\n",
            "\n",
            "INTJ\n"
          ]
        }
      ]
    },
    {
      "cell_type": "code",
      "source": [],
      "metadata": {
        "id": "lO5hiJtINd6g"
      },
      "execution_count": null,
      "outputs": []
    }
  ]
}
